{
 "cells": [
  {
   "cell_type": "markdown",
   "id": "82275067",
   "metadata": {},
   "source": [
    "#### Libraries"
   ]
  },
  {
   "cell_type": "code",
   "execution_count": 1,
   "id": "4be53f48",
   "metadata": {},
   "outputs": [
    {
     "data": {
      "application/javascript": [
       "utils.load_extension(\"collapsible_headings/main\")\n"
      ],
      "text/plain": [
       "<IPython.core.display.Javascript object>"
      ]
     },
     "metadata": {},
     "output_type": "display_data"
    }
   ],
   "source": [
    "%%javascript\n",
    "utils.load_extension(\"collapsible_headings/main\")"
   ]
  },
  {
   "cell_type": "code",
   "execution_count": 2,
   "id": "eae22df6",
   "metadata": {},
   "outputs": [],
   "source": [
    "import pandas as pd\n",
    "import random\n",
    "random.seed(0)\n",
    "\n",
    "pd.set_option(\"display.max_columns\", None)\n",
    "import numpy as np\n",
    "import matplotlib.pyplot as plt\n",
    "import seaborn as sns\n",
    "import pdb\n",
    "\n",
    "%matplotlib inline\n",
    "from matplotlib import rcParams\n",
    "\n",
    "plt.style.use(\"seaborn-whitegrid\")\n",
    "rcParams[\"axes.labelsize\"] = 14\n",
    "rcParams[\"xtick.labelsize\"] = 12\n",
    "rcParams[\"ytick.labelsize\"] = 12\n",
    "rcParams[\"figure.figsize\"] = 16, 8\n",
    "\n",
    "# from pandas_profiling import ProfileReportofileReport\n",
    "\n",
    "import warnings\n",
    "\n",
    "warnings.filterwarnings(\"ignore\")"
   ]
  },
  {
   "cell_type": "code",
   "execution_count": 3,
   "id": "086e5a89",
   "metadata": {},
   "outputs": [],
   "source": [
    "import matplotlib.pyplot as plt\n",
    "\n",
    "plt.rcParams[\"figure.figsize\"] = [10, 5]"
   ]
  },
  {
   "cell_type": "code",
   "execution_count": 4,
   "id": "1512bb96",
   "metadata": {
    "scrolled": false
   },
   "outputs": [],
   "source": [
    "from fairlearn.metrics import MetricFrame\n",
    "from fairlearn.metrics import (\n",
    "    selection_rate,\n",
    "    false_positive_rate,\n",
    "    true_positive_rate,\n",
    "    count,\n",
    ")\n",
    "import shap\n",
    "\n",
    "from sklearn.metrics import accuracy_score, confusion_matrix\n",
    "from sklearn.pipeline import Pipeline\n",
    "from sklearn.linear_model import LogisticRegression, Lasso\n",
    "from sklearn.preprocessing import LabelEncoder, StandardScaler\n",
    "from sklearn.metrics import accuracy_score, precision_score, recall_score, roc_auc_score\n",
    "from sklearn.model_selection import train_test_split\n",
    "from sklearn.svm import SVC\n",
    "from sklearn.ensemble import RandomForestClassifier, GradientBoostingClassifier\n",
    "from sklearn.neural_network import MLPClassifier\n",
    "from sklearn.tree import DecisionTreeClassifier\n",
    "\n",
    "from xgboost import XGBRegressor, XGBClassifier\n",
    "from catboost import CatBoostClassifier\n",
    "import shap\n",
    "\n",
    "from category_encoders.target_encoder import TargetEncoder\n",
    "from category_encoders.m_estimate import MEstimateEncoder\n",
    "from category_encoders.cat_boost import CatBoostEncoder\n",
    "from category_encoders.leave_one_out import LeaveOneOutEncoder\n",
    "from category_encoders.woe import WOEEncoder\n",
    "from category_encoders.james_stein import JamesSteinEncoder\n",
    "\n",
    "from tqdm.notebook import tqdm\n",
    "from collections import defaultdict"
   ]
  },
  {
   "cell_type": "code",
   "execution_count": 5,
   "id": "dba68e80",
   "metadata": {},
   "outputs": [],
   "source": [
    "from category_encoders import OneHotEncoder"
   ]
  },
  {
   "cell_type": "markdown",
   "id": "0d6d0167",
   "metadata": {},
   "source": [
    "## Data Loading and helper functions"
   ]
  },
  {
   "cell_type": "code",
   "execution_count": 6,
   "id": "c83bdffc",
   "metadata": {},
   "outputs": [],
   "source": [
    "df = pd.read_csv(\"data/compas-scores-raw.csv\")"
   ]
  },
  {
   "cell_type": "code",
   "execution_count": 7,
   "id": "2c990962",
   "metadata": {},
   "outputs": [],
   "source": [
    "df = pd.read_csv(\"data/compas-scores-raw.csv\")\n",
    "\n",
    "df[\"Score\"] = df[\"DecileScore\"]\n",
    "\n",
    "# df.loc[df[\"DecileScore\"] > 7, \"Score\"] = 2\n",
    "# df.loc[(df[\"DecileScore\"] > 4) & (df[\"DecileScore\"] < 8), \"Score\"] = 1\n",
    "# df.loc[df[\"DecileScore\"] < 5, \"Score\"] = 0\n",
    "\n",
    "df.loc[df[\"DecileScore\"] > 4, \"Score\"] = 1\n",
    "df.loc[df[\"DecileScore\"] <= 4, \"Score\"] = 0\n",
    "\n",
    "\n",
    "cols = [\n",
    "    \"Person_ID\",\n",
    "    \"AssessmentID\",\n",
    "    \"Case_ID\",\n",
    "    \"LastName\",\n",
    "    \"FirstName\",\n",
    "    \"MiddleName\",\n",
    "    \"DateOfBirth\",\n",
    "    \"ScaleSet_ID\",\n",
    "    \"Screening_Date\",\n",
    "    \"RecSupervisionLevel\",\n",
    "    #\"Agency_Text\",\n",
    "    #\"AssessmentReason\",\n",
    "    \"Language\",\n",
    "    \"Scale_ID\",\n",
    "    #\"IsCompleted\",\n",
    "    #\"IsDeleted\",\n",
    "    #\"AssessmentType\",\n",
    "    \"DecileScore\",\n",
    "    \"RecSupervisionLevelText\",\n",
    "    #\"DisplayText\",\n",
    "    #\"ScaleSet\",\n",
    "    #\"LegalStatus\",\n",
    "    #\"CustodyStatus\",\n",
    "\n",
    "]\n",
    "\n",
    "\n",
    "df = df.drop(columns=cols)\n",
    "\n",
    "possible_targets = [\"RawScore\", \"ScoreText\", \"Score\"]\n",
    "\n",
    "X = df.drop(columns=possible_targets)\n",
    "y = df[[\"Score\"]]"
   ]
  },
  {
   "cell_type": "code",
   "execution_count": 8,
   "id": "15c42b08",
   "metadata": {},
   "outputs": [],
   "source": [
    "X['Sex_Code_Text'] = pd.get_dummies(X['Sex_Code_Text'],prefix='Sex')['Sex_Male']\n",
    "X[\"ScaleSet\"] = pd.get_dummies(X['ScaleSet'])['Risk and Prescreen']"
   ]
  },
  {
   "cell_type": "raw",
   "id": "bf6811a6",
   "metadata": {},
   "source": [
    "X.columns = [\n",
    "    \"Sex\",\n",
    "    \"Ethnic_Code_Text\",\n",
    "    \"ScaleSet\",\n",
    "    \"LegalStatus\",\n",
    "    \"CustodyStatus\",\n",
    "    \"MaritalStatus\",\n",
    "]"
   ]
  },
  {
   "cell_type": "code",
   "execution_count": 9,
   "id": "d08b2417",
   "metadata": {},
   "outputs": [],
   "source": [
    "X[\"EthnicMarital\"] = X[\"Ethnic_Code_Text\"] + X[\"MaritalStatus\"]\n",
    "X = X.drop(columns=[\"Ethnic_Code_Text\", \"MaritalStatus\"])"
   ]
  },
  {
   "cell_type": "code",
   "execution_count": 10,
   "id": "68492d08",
   "metadata": {},
   "outputs": [
    {
     "data": {
      "text/html": [
       "<div>\n",
       "<style scoped>\n",
       "    .dataframe tbody tr th:only-of-type {\n",
       "        vertical-align: middle;\n",
       "    }\n",
       "\n",
       "    .dataframe tbody tr th {\n",
       "        vertical-align: top;\n",
       "    }\n",
       "\n",
       "    .dataframe thead th {\n",
       "        text-align: right;\n",
       "    }\n",
       "</style>\n",
       "<table border=\"1\" class=\"dataframe\">\n",
       "  <thead>\n",
       "    <tr style=\"text-align: right;\">\n",
       "      <th></th>\n",
       "      <th>Sex_Code_Text</th>\n",
       "      <th>ScaleSet</th>\n",
       "      <th>IsCompleted</th>\n",
       "      <th>IsDeleted</th>\n",
       "    </tr>\n",
       "  </thead>\n",
       "  <tbody>\n",
       "    <tr>\n",
       "      <th>0</th>\n",
       "      <td>1</td>\n",
       "      <td>1</td>\n",
       "      <td>1</td>\n",
       "      <td>0</td>\n",
       "    </tr>\n",
       "    <tr>\n",
       "      <th>1</th>\n",
       "      <td>1</td>\n",
       "      <td>1</td>\n",
       "      <td>1</td>\n",
       "      <td>0</td>\n",
       "    </tr>\n",
       "    <tr>\n",
       "      <th>2</th>\n",
       "      <td>1</td>\n",
       "      <td>1</td>\n",
       "      <td>1</td>\n",
       "      <td>0</td>\n",
       "    </tr>\n",
       "    <tr>\n",
       "      <th>3</th>\n",
       "      <td>1</td>\n",
       "      <td>1</td>\n",
       "      <td>1</td>\n",
       "      <td>0</td>\n",
       "    </tr>\n",
       "    <tr>\n",
       "      <th>4</th>\n",
       "      <td>1</td>\n",
       "      <td>1</td>\n",
       "      <td>1</td>\n",
       "      <td>0</td>\n",
       "    </tr>\n",
       "    <tr>\n",
       "      <th>...</th>\n",
       "      <td>...</td>\n",
       "      <td>...</td>\n",
       "      <td>...</td>\n",
       "      <td>...</td>\n",
       "    </tr>\n",
       "    <tr>\n",
       "      <th>60838</th>\n",
       "      <td>1</td>\n",
       "      <td>1</td>\n",
       "      <td>1</td>\n",
       "      <td>0</td>\n",
       "    </tr>\n",
       "    <tr>\n",
       "      <th>60839</th>\n",
       "      <td>1</td>\n",
       "      <td>1</td>\n",
       "      <td>1</td>\n",
       "      <td>0</td>\n",
       "    </tr>\n",
       "    <tr>\n",
       "      <th>60840</th>\n",
       "      <td>1</td>\n",
       "      <td>1</td>\n",
       "      <td>1</td>\n",
       "      <td>0</td>\n",
       "    </tr>\n",
       "    <tr>\n",
       "      <th>60841</th>\n",
       "      <td>1</td>\n",
       "      <td>1</td>\n",
       "      <td>1</td>\n",
       "      <td>0</td>\n",
       "    </tr>\n",
       "    <tr>\n",
       "      <th>60842</th>\n",
       "      <td>1</td>\n",
       "      <td>1</td>\n",
       "      <td>1</td>\n",
       "      <td>0</td>\n",
       "    </tr>\n",
       "  </tbody>\n",
       "</table>\n",
       "<p>60843 rows × 4 columns</p>\n",
       "</div>"
      ],
      "text/plain": [
       "      Sex_Code_Text ScaleSet IsCompleted IsDeleted\n",
       "0                 1        1           1         0\n",
       "1                 1        1           1         0\n",
       "2                 1        1           1         0\n",
       "3                 1        1           1         0\n",
       "4                 1        1           1         0\n",
       "...             ...      ...         ...       ...\n",
       "60838             1        1           1         0\n",
       "60839             1        1           1         0\n",
       "60840             1        1           1         0\n",
       "60841             1        1           1         0\n",
       "60842             1        1           1         0\n",
       "\n",
       "[60843 rows x 4 columns]"
      ]
     },
     "execution_count": 10,
     "metadata": {},
     "output_type": "execute_result"
    }
   ],
   "source": [
    "X[['Sex_Code_Text', 'ScaleSet', 'IsCompleted', 'IsDeleted']].astype(object)"
   ]
  },
  {
   "cell_type": "code",
   "execution_count": 11,
   "id": "b6a8c8ac",
   "metadata": {
    "scrolled": true
   },
   "outputs": [
    {
     "data": {
      "text/plain": [
       "Index(['Agency_Text', 'Sex_Code_Text', 'ScaleSet', 'AssessmentReason',\n",
       "       'LegalStatus', 'CustodyStatus', 'DisplayText', 'AssessmentType',\n",
       "       'IsCompleted', 'IsDeleted', 'EthnicMarital'],\n",
       "      dtype='object')"
      ]
     },
     "execution_count": 11,
     "metadata": {},
     "output_type": "execute_result"
    }
   ],
   "source": [
    "X.columns"
   ]
  },
  {
   "cell_type": "code",
   "execution_count": 12,
   "id": "748a30ce",
   "metadata": {
    "scrolled": true
   },
   "outputs": [
    {
     "name": "stdout",
     "output_type": "stream",
     "text": [
      "PRETRIAL          41100\n",
      "Probation         19056\n",
      "DRRD                564\n",
      "Broward County      123\n",
      "Name: Agency_Text, dtype: int64\n",
      "1    47514\n",
      "0    13329\n",
      "Name: Sex_Code_Text, dtype: int64\n",
      "1    58647\n",
      "0     2196\n",
      "Name: ScaleSet, dtype: int64\n",
      "Intake    60843\n",
      "Name: AssessmentReason, dtype: int64\n",
      "Pretrial               37578\n",
      "Post Sentence          18333\n",
      "Other                   4356\n",
      "Conditional Release      420\n",
      "Probation Violator       126\n",
      "Parole Violator           18\n",
      "Deferred Sentencing       12\n",
      "Name: LegalStatus, dtype: int64\n",
      "Jail Inmate            30129\n",
      "Probation              22968\n",
      "Pretrial Defendant      7644\n",
      "Residential Program       66\n",
      "Parole                    21\n",
      "Prison Inmate             15\n",
      "Name: CustodyStatus, dtype: int64\n",
      "Risk of Violence             20281\n",
      "Risk of Recidivism           20281\n",
      "Risk of Failure to Appear    20281\n",
      "Name: DisplayText, dtype: int64\n",
      "New     56139\n",
      "Copy     4704\n",
      "Name: AssessmentType, dtype: int64\n",
      "1    60843\n",
      "Name: IsCompleted, dtype: int64\n",
      "0    60843\n",
      "Name: IsDeleted, dtype: int64\n",
      "African-AmericanSingle               22416\n",
      "CaucasianSingle                      15198\n",
      "HispanicSingle                        5514\n",
      "CaucasianMarried                      3012\n",
      "African-AmericanMarried               2535\n",
      "CaucasianDivorced                     2280\n",
      "HispanicMarried                       1776\n",
      "OtherSingle                           1551\n",
      "HispanicDivorced                       825\n",
      "OtherMarried                           696\n",
      "African-AmericanSignificant Other      648\n",
      "African-AmericanDivorced               630\n",
      "CaucasianSeparated                     609\n",
      "African-AmericanSeparated              582\n",
      "HispanicSeparated                      435\n",
      "CaucasianSignificant Other             375\n",
      "CaucasianWidowed                       240\n",
      "AsianSingle                            165\n",
      "Native AmericanSingle                  159\n",
      "OtherSeparated                         135\n",
      "HispanicSignificant Other              117\n",
      "African-AmericanWidowed                114\n",
      "OtherSignificant Other                 111\n",
      "AsianMarried                           105\n",
      "African-AmericanUnknown                 93\n",
      "OtherDivorced                           93\n",
      "CaucasianUnknown                        69\n",
      "HispanicUnknown                         51\n",
      "ArabicSingle                            51\n",
      "African-AmSingle                        45\n",
      "AsianDivorced                           39\n",
      "OrientalSingle                          27\n",
      "Native AmericanSeparated                24\n",
      "HispanicWidowed                         24\n",
      "ArabicMarried                           18\n",
      "Native AmericanMarried                  15\n",
      "AsianSeparated                          15\n",
      "OrientalMarried                         12\n",
      "Native AmericanDivorced                 12\n",
      "OtherWidowed                             6\n",
      "Native AmericanWidowed                   6\n",
      "ArabicSeparated                          3\n",
      "African-AmMarried                        3\n",
      "African-AmSignificant Other              3\n",
      "ArabicSignificant Other                  3\n",
      "Native AmericanSignificant Other         3\n",
      "Name: EthnicMarital, dtype: int64\n"
     ]
    }
   ],
   "source": [
    "for col in X.columns:\n",
    "    print(X[col].value_counts())"
   ]
  },
  {
   "cell_type": "code",
   "execution_count": 13,
   "id": "4ac4b739",
   "metadata": {
    "scrolled": true
   },
   "outputs": [
    {
     "name": "stdout",
     "output_type": "stream",
     "text": [
      "4\n",
      "2\n",
      "2\n",
      "1\n",
      "7\n",
      "6\n",
      "3\n",
      "2\n",
      "1\n",
      "1\n",
      "46\n"
     ]
    }
   ],
   "source": [
    "for col in X.columns:\n",
    "    print(len(X[col].unique()))"
   ]
  },
  {
   "cell_type": "code",
   "execution_count": 14,
   "id": "4436fa79",
   "metadata": {},
   "outputs": [],
   "source": [
    "X_tr, X_te, y_tr, y_te = train_test_split(X, y, test_size=0.75, random_state=42)"
   ]
  },
  {
   "cell_type": "code",
   "execution_count": 15,
   "id": "2c4e7ba5",
   "metadata": {
    "scrolled": true
   },
   "outputs": [],
   "source": [
    "aux = X_te.copy()\n",
    "aux['t'] = y_te['Score'].values"
   ]
  },
  {
   "cell_type": "code",
   "execution_count": 16,
   "id": "1c89663d",
   "metadata": {},
   "outputs": [
    {
     "data": {
      "text/plain": [
       "0    96\n",
       "1    25\n",
       "Name: t, dtype: int64"
      ]
     },
     "execution_count": 16,
     "metadata": {},
     "output_type": "execute_result"
    }
   ],
   "source": [
    "aux[aux['EthnicMarital']=='AsianSingle'].t.value_counts()"
   ]
  },
  {
   "cell_type": "code",
   "execution_count": 17,
   "id": "a00a6406",
   "metadata": {},
   "outputs": [],
   "source": [
    "def fit_predict(modelo, enc, data, target, test):\n",
    "    pipe = Pipeline([(\"encoder\", enc), (\"model\", modelo)])\n",
    "    pipe.fit(data, target)\n",
    "    return pipe.predict(test)\n",
    "\n",
    "\n",
    "def auc_group(model, data, y_true, dicc, group: str = \"\", min_samples: int = 50):\n",
    "\n",
    "    aux = data.copy()\n",
    "    aux[\"target\"] = y_true\n",
    "    cats = aux[group].value_counts()\n",
    "    cats = cats[cats > min_samples].index.tolist()\n",
    "    cats = cats + [\"all\"]\n",
    "\n",
    "    if len(dicc) == 0:\n",
    "        dicc = defaultdict(list, {k: [] for k in cats})\n",
    "\n",
    "    for cat in cats:\n",
    "        if cat != \"all\":\n",
    "            aux2 = aux[aux[group] == cat]\n",
    "            preds = model.predict_proba(aux2.drop(columns=\"target\"))[:, 1]\n",
    "            truth = aux2[\"target\"]\n",
    "            dicc[cat].append(roc_auc_score(truth, preds))\n",
    "        elif cat == \"all\":\n",
    "            dicc[cat].append(roc_auc_score(y_true, model.predict_proba(data)[:, 1]))\n",
    "        else:\n",
    "            pass\n",
    "\n",
    "    return dicc"
   ]
  },
  {
   "cell_type": "code",
   "execution_count": 18,
   "id": "5b2d7e4c",
   "metadata": {},
   "outputs": [],
   "source": [
    "def explain(xgb: bool = True):\n",
    "    \"\"\"\n",
    "    Provide a SHAP explanation by fitting MEstimate and GBDT\n",
    "    \"\"\"\n",
    "    if xgb:\n",
    "        pipe = Pipeline(\n",
    "            [(\"encoder\", MEstimateEncoder()), (\"model\", GradientBoostingClassifier())]\n",
    "        )\n",
    "        pipe.fit(X_tr, y_tr)\n",
    "        explainer = shap.Explainer(pipe[1])\n",
    "        shap_values = explainer(pipe[:-1].transform(X_tr))\n",
    "        shap.plots.beeswarm(shap_values)\n",
    "        return pd.DataFrame(np.abs(shap_values.values), columns=X_tr.columns).sum()\n",
    "    else:\n",
    "        pipe = Pipeline(\n",
    "            [(\"encoder\", MEstimateEncoder()), (\"model\", LogisticRegression())]\n",
    "        )\n",
    "        pipe.fit(X_tr, y_tr)\n",
    "        coefficients = pd.concat(\n",
    "            [pd.DataFrame(X_tr.columns), pd.DataFrame(np.transpose(pipe[1].coef_))],\n",
    "            axis=1,\n",
    "        )\n",
    "        coefficients.columns = [\"feat\", \"val\"]\n",
    "\n",
    "        return coefficients.sort_values(by=\"val\", ascending=False)"
   ]
  },
  {
   "cell_type": "code",
   "execution_count": 19,
   "id": "e610fd48",
   "metadata": {},
   "outputs": [],
   "source": [
    "def calculate_cm(true, preds):\n",
    "    # Obtain the confusion matrix\n",
    "    cm = confusion_matrix(preds, true)\n",
    "\n",
    "    #  https://stackoverflow.com/questions/31324218/scikit-learn-how-to-obtain-true-positive-true-negative-false-positive-and-fal\n",
    "    FP = cm.sum(axis=0) - np.diag(cm)\n",
    "    FN = cm.sum(axis=1) - np.diag(cm)\n",
    "    TP = np.diag(cm)\n",
    "    TN = cm.sum() - (FP + FN + TP)\n",
    "\n",
    "    # Sensitivity, hit rate, recall, or true positive rate\n",
    "    TPR = TP / (TP + FN)\n",
    "    # Specificity or true negative rate\n",
    "    TNR = TN / (TN + FP)\n",
    "    # Precision or positive predictive value\n",
    "    PPV = TP / (TP + FP)\n",
    "    # Negative predictive value\n",
    "    NPV = TN / (TN + FN)\n",
    "    # Fall out or false positive rate\n",
    "    FPR = FP / (FP + TN)\n",
    "    # False negative rate\n",
    "    FNR = FN / (TP + FN)\n",
    "    # False discovery rate\n",
    "    FDR = FP / (TP + FP)\n",
    "\n",
    "    # Overall accuracy\n",
    "    ACC = (TP + TN) / (TP + FP + FN + TN)\n",
    "\n",
    "    ##########\n",
    "    ## I AM NOT SURE ABOUT THIS 0 INDEX\n",
    "    ###########\n",
    "    return TPR[0]"
   ]
  },
  {
   "cell_type": "code",
   "execution_count": 20,
   "id": "8512258d",
   "metadata": {},
   "outputs": [],
   "source": [
    "def metric_calculator(\n",
    "    modelo, data: pd.DataFrame, truth: pd.DataFrame, col: str, group1: str, group2: str\n",
    "):\n",
    "    aux = data.copy()\n",
    "    aux[\"target\"] = truth\n",
    "\n",
    "    # Filter the data\n",
    "    g1 = data[data[col] == group1]\n",
    "    g2 = data[data[col] == group2]\n",
    "\n",
    "    # Filter the ground truth\n",
    "    g1_true = aux[aux[col] == group1].target\n",
    "    g2_true = aux[aux[col] == group2].target\n",
    "\n",
    "    # Do predictions\n",
    "    p1 = modelo.predict(g1)\n",
    "    p2 = modelo.predict(g2)\n",
    "\n",
    "    # Extract metrics for each group\n",
    "    res1 = calculate_cm(p1, g1_true)\n",
    "    res2 = calculate_cm(p2, g2_true)\n",
    "    return res1 - res2"
   ]
  },
  {
   "cell_type": "code",
   "execution_count": 21,
   "id": "812c6da1",
   "metadata": {
    "scrolled": true
   },
   "outputs": [
    {
     "data": {
      "text/plain": [
       "Pipeline(steps=[('enc',\n",
       "                 OneHotEncoder(cols=['Agency_Text', 'AssessmentReason',\n",
       "                                     'LegalStatus', 'CustodyStatus',\n",
       "                                     'DisplayText', 'AssessmentType',\n",
       "                                     'EthnicMarital'])),\n",
       "                ('model', LogisticRegression())])"
      ]
     },
     "execution_count": 21,
     "metadata": {},
     "output_type": "execute_result"
    }
   ],
   "source": [
    "m = Pipeline([('enc',OneHotEncoder()),('model',LogisticRegression())])\n",
    "m.fit(X,y)"
   ]
  },
  {
   "cell_type": "code",
   "execution_count": 22,
   "id": "25f53176",
   "metadata": {},
   "outputs": [],
   "source": [
    "res = {}\n",
    "for cat,num in X['EthnicMarital'].value_counts().items():\n",
    "    COL = \"EthnicMarital\"\n",
    "    GROUP1 = \"African-AmericanSingle\"\n",
    "    GROUP2 = cat\n",
    "    res[cat] = [metric_calculator(modelo=m,data = X, truth = y,col=COL,group1=GROUP1,group2 =GROUP2),num]\n",
    "    "
   ]
  },
  {
   "cell_type": "code",
   "execution_count": 23,
   "id": "19f62bea",
   "metadata": {},
   "outputs": [],
   "source": [
    "res = pd.DataFrame(res).T\n",
    "\n",
    "res.columns=['fairness','items']\n",
    "\n",
    "res['items']= res['items'].astype(int)"
   ]
  },
  {
   "cell_type": "code",
   "execution_count": 24,
   "id": "05488725",
   "metadata": {},
   "outputs": [
    {
     "data": {
      "text/html": [
       "<div>\n",
       "<style scoped>\n",
       "    .dataframe tbody tr th:only-of-type {\n",
       "        vertical-align: middle;\n",
       "    }\n",
       "\n",
       "    .dataframe tbody tr th {\n",
       "        vertical-align: top;\n",
       "    }\n",
       "\n",
       "    .dataframe thead th {\n",
       "        text-align: right;\n",
       "    }\n",
       "</style>\n",
       "<table border=\"1\" class=\"dataframe\">\n",
       "  <thead>\n",
       "    <tr style=\"text-align: right;\">\n",
       "      <th></th>\n",
       "      <th>fairness</th>\n",
       "      <th>items</th>\n",
       "    </tr>\n",
       "  </thead>\n",
       "  <tbody>\n",
       "    <tr>\n",
       "      <th>African-AmericanSingle</th>\n",
       "      <td>0.000000</td>\n",
       "      <td>22416</td>\n",
       "    </tr>\n",
       "    <tr>\n",
       "      <th>CaucasianSingle</th>\n",
       "      <td>-0.258650</td>\n",
       "      <td>15198</td>\n",
       "    </tr>\n",
       "    <tr>\n",
       "      <th>HispanicSingle</th>\n",
       "      <td>-0.270283</td>\n",
       "      <td>5514</td>\n",
       "    </tr>\n",
       "    <tr>\n",
       "      <th>CaucasianMarried</th>\n",
       "      <td>-0.279380</td>\n",
       "      <td>3012</td>\n",
       "    </tr>\n",
       "    <tr>\n",
       "      <th>African-AmericanMarried</th>\n",
       "      <td>-0.271112</td>\n",
       "      <td>2535</td>\n",
       "    </tr>\n",
       "    <tr>\n",
       "      <th>CaucasianDivorced</th>\n",
       "      <td>-0.278346</td>\n",
       "      <td>2280</td>\n",
       "    </tr>\n",
       "    <tr>\n",
       "      <th>HispanicMarried</th>\n",
       "      <td>-0.279380</td>\n",
       "      <td>1776</td>\n",
       "    </tr>\n",
       "    <tr>\n",
       "      <th>OtherSingle</th>\n",
       "      <td>-0.278538</td>\n",
       "      <td>1551</td>\n",
       "    </tr>\n",
       "    <tr>\n",
       "      <th>HispanicDivorced</th>\n",
       "      <td>-0.279380</td>\n",
       "      <td>825</td>\n",
       "    </tr>\n",
       "    <tr>\n",
       "      <th>OtherMarried</th>\n",
       "      <td>-0.279380</td>\n",
       "      <td>696</td>\n",
       "    </tr>\n",
       "    <tr>\n",
       "      <th>African-AmericanSignificant Other</th>\n",
       "      <td>-0.265026</td>\n",
       "      <td>648</td>\n",
       "    </tr>\n",
       "    <tr>\n",
       "      <th>African-AmericanDivorced</th>\n",
       "      <td>-0.261875</td>\n",
       "      <td>630</td>\n",
       "    </tr>\n",
       "    <tr>\n",
       "      <th>CaucasianSeparated</th>\n",
       "      <td>-0.277372</td>\n",
       "      <td>609</td>\n",
       "    </tr>\n",
       "    <tr>\n",
       "      <th>African-AmericanSeparated</th>\n",
       "      <td>-0.259280</td>\n",
       "      <td>582</td>\n",
       "    </tr>\n",
       "    <tr>\n",
       "      <th>HispanicSeparated</th>\n",
       "      <td>-0.279380</td>\n",
       "      <td>435</td>\n",
       "    </tr>\n",
       "    <tr>\n",
       "      <th>CaucasianSignificant Other</th>\n",
       "      <td>-0.279380</td>\n",
       "      <td>375</td>\n",
       "    </tr>\n",
       "    <tr>\n",
       "      <th>CaucasianWidowed</th>\n",
       "      <td>-0.279380</td>\n",
       "      <td>240</td>\n",
       "    </tr>\n",
       "    <tr>\n",
       "      <th>AsianSingle</th>\n",
       "      <td>-0.279380</td>\n",
       "      <td>165</td>\n",
       "    </tr>\n",
       "    <tr>\n",
       "      <th>Native AmericanSingle</th>\n",
       "      <td>-0.046047</td>\n",
       "      <td>159</td>\n",
       "    </tr>\n",
       "    <tr>\n",
       "      <th>OtherSeparated</th>\n",
       "      <td>-0.279380</td>\n",
       "      <td>135</td>\n",
       "    </tr>\n",
       "    <tr>\n",
       "      <th>HispanicSignificant Other</th>\n",
       "      <td>-0.279380</td>\n",
       "      <td>117</td>\n",
       "    </tr>\n",
       "    <tr>\n",
       "      <th>African-AmericanWidowed</th>\n",
       "      <td>-0.226749</td>\n",
       "      <td>114</td>\n",
       "    </tr>\n",
       "    <tr>\n",
       "      <th>OtherSignificant Other</th>\n",
       "      <td>-0.279380</td>\n",
       "      <td>111</td>\n",
       "    </tr>\n",
       "    <tr>\n",
       "      <th>AsianMarried</th>\n",
       "      <td>-0.279380</td>\n",
       "      <td>105</td>\n",
       "    </tr>\n",
       "    <tr>\n",
       "      <th>African-AmericanUnknown</th>\n",
       "      <td>-0.248130</td>\n",
       "      <td>93</td>\n",
       "    </tr>\n",
       "    <tr>\n",
       "      <th>OtherDivorced</th>\n",
       "      <td>-0.279380</td>\n",
       "      <td>93</td>\n",
       "    </tr>\n",
       "    <tr>\n",
       "      <th>CaucasianUnknown</th>\n",
       "      <td>-0.279380</td>\n",
       "      <td>69</td>\n",
       "    </tr>\n",
       "    <tr>\n",
       "      <th>HispanicUnknown</th>\n",
       "      <td>-0.279380</td>\n",
       "      <td>51</td>\n",
       "    </tr>\n",
       "    <tr>\n",
       "      <th>ArabicSingle</th>\n",
       "      <td>-0.250809</td>\n",
       "      <td>51</td>\n",
       "    </tr>\n",
       "    <tr>\n",
       "      <th>African-AmSingle</th>\n",
       "      <td>0.470620</td>\n",
       "      <td>45</td>\n",
       "    </tr>\n",
       "    <tr>\n",
       "      <th>AsianDivorced</th>\n",
       "      <td>-0.279380</td>\n",
       "      <td>39</td>\n",
       "    </tr>\n",
       "    <tr>\n",
       "      <th>OrientalSingle</th>\n",
       "      <td>-0.279380</td>\n",
       "      <td>27</td>\n",
       "    </tr>\n",
       "    <tr>\n",
       "      <th>Native AmericanSeparated</th>\n",
       "      <td>-0.279380</td>\n",
       "      <td>24</td>\n",
       "    </tr>\n",
       "    <tr>\n",
       "      <th>HispanicWidowed</th>\n",
       "      <td>-0.279380</td>\n",
       "      <td>24</td>\n",
       "    </tr>\n",
       "    <tr>\n",
       "      <th>ArabicMarried</th>\n",
       "      <td>-0.279380</td>\n",
       "      <td>18</td>\n",
       "    </tr>\n",
       "    <tr>\n",
       "      <th>Native AmericanMarried</th>\n",
       "      <td>-0.279380</td>\n",
       "      <td>15</td>\n",
       "    </tr>\n",
       "    <tr>\n",
       "      <th>AsianSeparated</th>\n",
       "      <td>-0.279380</td>\n",
       "      <td>15</td>\n",
       "    </tr>\n",
       "    <tr>\n",
       "      <th>OrientalMarried</th>\n",
       "      <td>-0.279380</td>\n",
       "      <td>12</td>\n",
       "    </tr>\n",
       "    <tr>\n",
       "      <th>Native AmericanDivorced</th>\n",
       "      <td>-0.279380</td>\n",
       "      <td>12</td>\n",
       "    </tr>\n",
       "    <tr>\n",
       "      <th>OtherWidowed</th>\n",
       "      <td>-0.279380</td>\n",
       "      <td>6</td>\n",
       "    </tr>\n",
       "    <tr>\n",
       "      <th>Native AmericanWidowed</th>\n",
       "      <td>-0.279380</td>\n",
       "      <td>6</td>\n",
       "    </tr>\n",
       "    <tr>\n",
       "      <th>ArabicSeparated</th>\n",
       "      <td>-0.279380</td>\n",
       "      <td>3</td>\n",
       "    </tr>\n",
       "    <tr>\n",
       "      <th>African-AmMarried</th>\n",
       "      <td>NaN</td>\n",
       "      <td>3</td>\n",
       "    </tr>\n",
       "    <tr>\n",
       "      <th>African-AmSignificant Other</th>\n",
       "      <td>-0.279380</td>\n",
       "      <td>3</td>\n",
       "    </tr>\n",
       "    <tr>\n",
       "      <th>ArabicSignificant Other</th>\n",
       "      <td>-0.279380</td>\n",
       "      <td>3</td>\n",
       "    </tr>\n",
       "    <tr>\n",
       "      <th>Native AmericanSignificant Other</th>\n",
       "      <td>-0.279380</td>\n",
       "      <td>3</td>\n",
       "    </tr>\n",
       "  </tbody>\n",
       "</table>\n",
       "</div>"
      ],
      "text/plain": [
       "                                   fairness  items\n",
       "African-AmericanSingle             0.000000  22416\n",
       "CaucasianSingle                   -0.258650  15198\n",
       "HispanicSingle                    -0.270283   5514\n",
       "CaucasianMarried                  -0.279380   3012\n",
       "African-AmericanMarried           -0.271112   2535\n",
       "CaucasianDivorced                 -0.278346   2280\n",
       "HispanicMarried                   -0.279380   1776\n",
       "OtherSingle                       -0.278538   1551\n",
       "HispanicDivorced                  -0.279380    825\n",
       "OtherMarried                      -0.279380    696\n",
       "African-AmericanSignificant Other -0.265026    648\n",
       "African-AmericanDivorced          -0.261875    630\n",
       "CaucasianSeparated                -0.277372    609\n",
       "African-AmericanSeparated         -0.259280    582\n",
       "HispanicSeparated                 -0.279380    435\n",
       "CaucasianSignificant Other        -0.279380    375\n",
       "CaucasianWidowed                  -0.279380    240\n",
       "AsianSingle                       -0.279380    165\n",
       "Native AmericanSingle             -0.046047    159\n",
       "OtherSeparated                    -0.279380    135\n",
       "HispanicSignificant Other         -0.279380    117\n",
       "African-AmericanWidowed           -0.226749    114\n",
       "OtherSignificant Other            -0.279380    111\n",
       "AsianMarried                      -0.279380    105\n",
       "African-AmericanUnknown           -0.248130     93\n",
       "OtherDivorced                     -0.279380     93\n",
       "CaucasianUnknown                  -0.279380     69\n",
       "HispanicUnknown                   -0.279380     51\n",
       "ArabicSingle                      -0.250809     51\n",
       "African-AmSingle                   0.470620     45\n",
       "AsianDivorced                     -0.279380     39\n",
       "OrientalSingle                    -0.279380     27\n",
       "Native AmericanSeparated          -0.279380     24\n",
       "HispanicWidowed                   -0.279380     24\n",
       "ArabicMarried                     -0.279380     18\n",
       "Native AmericanMarried            -0.279380     15\n",
       "AsianSeparated                    -0.279380     15\n",
       "OrientalMarried                   -0.279380     12\n",
       "Native AmericanDivorced           -0.279380     12\n",
       "OtherWidowed                      -0.279380      6\n",
       "Native AmericanWidowed            -0.279380      6\n",
       "ArabicSeparated                   -0.279380      3\n",
       "African-AmMarried                       NaN      3\n",
       "African-AmSignificant Other       -0.279380      3\n",
       "ArabicSignificant Other           -0.279380      3\n",
       "Native AmericanSignificant Other  -0.279380      3"
      ]
     },
     "execution_count": 24,
     "metadata": {},
     "output_type": "execute_result"
    }
   ],
   "source": [
    "res"
   ]
  },
  {
   "cell_type": "code",
   "execution_count": 25,
   "id": "403d1d44",
   "metadata": {},
   "outputs": [],
   "source": [
    "def plot_rolling(data, roll_mean: int = 5, roll_std: int = 20):\n",
    "\n",
    "    aux = data.rolling(roll_mean).mean().dropna()\n",
    "    stand = data.rolling(roll_std).quantile(0.05, interpolation=\"lower\").dropna()\n",
    "    plt.figure()\n",
    "    for col in data.columns:\n",
    "        plt.plot(aux[col], label=col)\n",
    "        # plt.fill_between(aux.index,(aux[col] - stand[col]),(aux[col] + stand[col]),# color=\"b\",alpha=0.1,)\n",
    "    plt.legend()\n",
    "    plt.show()"
   ]
  },
  {
   "cell_type": "code",
   "execution_count": 26,
   "id": "7ec0a31c",
   "metadata": {},
   "outputs": [],
   "source": [
    "def scale_output(data):\n",
    "    return pd.DataFrame(\n",
    "        StandardScaler().fit_transform(data), columns=data.columns, index=data.index\n",
    "    )"
   ]
  },
  {
   "cell_type": "markdown",
   "id": "c4bf5114",
   "metadata": {},
   "source": [
    "# Experiment"
   ]
  },
  {
   "cell_type": "code",
   "execution_count": 27,
   "id": "2aec17b0",
   "metadata": {
    "scrolled": true
   },
   "outputs": [],
   "source": [
    "def fair_encoder(model, param: list, enc: str = \"mestimate\", un_regularize: list = []):\n",
    "    auc = {}\n",
    "    metrica = []\n",
    "    auc_tot = []\n",
    "\n",
    "    allowed_enc = [\n",
    "        \"mestimate\",\n",
    "        \"targetenc\",\n",
    "        \"leaveoneout\",\n",
    "        \"ohe\",\n",
    "        \"woe\",\n",
    "        \"james\",\n",
    "        \"catboost\",\n",
    "    ]\n",
    "    assert (\n",
    "        enc in allowed_enc\n",
    "    ), \"Encoder not available or check for spelling mistakes: {}\".format(allowed_enc)\n",
    "\n",
    "    cols_enc = set(X_tr.columns) - set(un_regularize)\n",
    "\n",
    "    for m in tqdm(param):\n",
    "        if enc == \"mestimate\":\n",
    "            encoder = Pipeline(\n",
    "                [\n",
    "                    (\"reg\", MEstimateEncoder(m=m, cols=cols_enc)),\n",
    "                    (\"unreg\", MEstimateEncoder(m=0, cols=un_regularize)),\n",
    "                ]\n",
    "            )\n",
    "        elif enc == \"targetenc\":\n",
    "            encoder = TargetEncoder(smoothing=m)\n",
    "        elif enc == \"leaveoneout\":\n",
    "            encoder = Pipeline(\n",
    "                [\n",
    "                    (\"reg\", LeaveOneOutEncoder(sigma=m, cols=cols_enc)),\n",
    "                    (\"unreg\", LeaveOneOutEncoder(sigma=0, cols=un_regularize)),\n",
    "                ]\n",
    "            )\n",
    "        elif enc == \"ohe\":\n",
    "            encoder = OneHotEncoder(handle_missing=-1)\n",
    "        elif enc == \"woe\":\n",
    "            encoder = WOEEncoder(randomized=True, sigma=m)\n",
    "        elif enc == \"james\":\n",
    "            encoder = JamesSteinEncoder(randomized=True, sigma=m)\n",
    "        elif enc == \"catboost\":\n",
    "            encoder = Pipeline(\n",
    "                [\n",
    "                    (\"reg\", CatBoostEncoder(a=1, sigma=m, cols=cols_enc)),\n",
    "                    (\"unreg\", CatBoostEncoder(a=1, sigma=0, cols=un_regularize)),\n",
    "                ]\n",
    "            ) \n",
    "\n",
    "        pipe = Pipeline([(\"encoder\", encoder), (\"model\", model)])\n",
    "        pipe.fit(X_tr, y_tr)\n",
    "        if m==1:\n",
    "            print(pipe)\n",
    "        preds = pipe.predict(X_te)\n",
    "\n",
    "        metrica.append(\n",
    "            metric_calculator(\n",
    "                modelo=pipe,\n",
    "                data=X_tr,\n",
    "                truth=y_tr,\n",
    "                col=COL,\n",
    "                group1=GROUP1,\n",
    "                group2=GROUP2,\n",
    "            )\n",
    "        )\n",
    "        auc = auc_group(model=pipe, data=X_te, y_true=y_te, dicc=auc, group=COL)\n",
    "        auc_tot.append(roc_auc_score(y_te, pipe.predict_proba(X_te)[:, 1]))\n",
    "\n",
    "    # Results formatting\n",
    "    res = pd.DataFrame(index=param)\n",
    "    res[\"fairness_metric\"] = metrica\n",
    "    res[\"auc_tot\"] = auc_tot\n",
    "    res[\"auc_\" + GROUP1] = auc[GROUP1]\n",
    "    res[\"auc_\" + GROUP2] = auc[GROUP2]\n",
    "\n",
    "    return res"
   ]
  },
  {
   "cell_type": "code",
   "execution_count": 28,
   "id": "b2014112",
   "metadata": {},
   "outputs": [],
   "source": [
    "# Experiment parameters\n",
    "COL = \"EthnicMarital\"\n",
    "GROUP1 = \"African-AmericanSingle\"\n",
    "GROUP2 = \"CaucasianMarried\"\n",
    "PARAM = np.linspace(0, 1, 50)\n",
    "\n",
    "# Plot parametes\n",
    "XMIN = 0.55\n",
    "XMAX = 0.725\n",
    "YMIN = -0.5\n",
    "YMAX = 0"
   ]
  },
  {
   "cell_type": "code",
   "execution_count": 29,
   "id": "6fc1371f",
   "metadata": {},
   "outputs": [
    {
     "data": {
      "application/vnd.jupyter.widget-view+json": {
       "model_id": "a811a5b05091437ab38fcf373026d487",
       "version_major": 2,
       "version_minor": 0
      },
      "text/plain": [
       "  0%|          | 0/1 [00:00<?, ?it/s]"
      ]
     },
     "metadata": {},
     "output_type": "display_data"
    },
    {
     "data": {
      "application/vnd.jupyter.widget-view+json": {
       "model_id": "185321869ac249858aefe21a83802433",
       "version_major": 2,
       "version_minor": 0
      },
      "text/plain": [
       "  0%|          | 0/50 [00:00<?, ?it/s]"
      ]
     },
     "metadata": {},
     "output_type": "display_data"
    },
    {
     "name": "stdout",
     "output_type": "stream",
     "text": [
      "Pipeline(steps=[('encoder',\n",
      "                 Pipeline(steps=[('reg',\n",
      "                                  CatBoostEncoder(cols=['EthnicMarital'],\n",
      "                                                  sigma=1.0)),\n",
      "                                 ('unreg',\n",
      "                                  CatBoostEncoder(cols=['Agency_Text',\n",
      "                                                        'Sex_Code_Text',\n",
      "                                                        'ScaleSet',\n",
      "                                                        'AssessmentReason',\n",
      "                                                        'LegalStatus',\n",
      "                                                        'CustodyStatus',\n",
      "                                                        'DisplayText',\n",
      "                                                        'AssessmentType',\n",
      "                                                        'IsCompleted',\n",
      "                                                        'IsDeleted'],\n",
      "                                                  sigma=0))])),\n",
      "                ('model', LogisticRegression())])\n"
     ]
    },
    {
     "data": {
      "image/png": "[encoded data removed]",
      "text/plain": [
       "<Figure size 720x360 with 1 Axes>"
      ]
     },
     "metadata": {},
     "output_type": "display_data"
    }
   ],
   "source": [
    "one_hot = fair_encoder(model=LogisticRegression(), enc=\"ohe\", param=[0])\n",
    "\n",
    "PARAM = np.linspace(0, 1, 50)\n",
    "fe = fair_encoder(model=LogisticRegression(), enc=\"catboost\", param=PARAM,un_regularize=['Agency_Text', 'Sex_Code_Text', 'ScaleSet', 'AssessmentReason',\n",
    "       'LegalStatus', 'CustodyStatus', 'DisplayText', 'AssessmentType',\n",
    "       'IsCompleted', 'IsDeleted'])\n",
    "\n",
    "# plot_rolling(scale_output(fe))\n",
    "# plot_rolling(fe)\n",
    "aux = fe.rolling(5).mean().dropna()\n",
    "\n",
    "\n",
    "plt.figure()\n",
    "plt.scatter(\n",
    "    y=one_hot.fairness_metric, x=one_hot.auc_tot, s=100, label=\"One Hot Encoder\"\n",
    ")\n",
    "plt.scatter(\n",
    "    aux[\"auc_tot\"].values,\n",
    "    aux[\"fairness_metric\"].values,\n",
    "    s=100,\n",
    "    c=aux.index.values,\n",
    "    cmap=\"plasma\",\n",
    "    label=\"Regularization Parameter (Yellow=High,Purple=Low)\",\n",
    ")\n",
    "plt.title(\"Only Regularized {}\".format(col))\n",
    "plt.ylabel(\"Fairnes Metric\")\n",
    "plt.xlabel(\"AUC_tot\")\n",
    "plt.xlim(XMIN, XMAX)\n",
    "plt.ylim(YMIN, YMAX)\n",
    "plt.legend()\n",
    "plt.show()"
   ]
  },
  {
   "cell_type": "code",
   "execution_count": 30,
   "id": "a9d03608",
   "metadata": {},
   "outputs": [
    {
     "data": {
      "application/vnd.jupyter.widget-view+json": {
       "model_id": "aaeaa0c00d494ef483d8d7c0ff05b0e7",
       "version_major": 2,
       "version_minor": 0
      },
      "text/plain": [
       "  0%|          | 0/1 [00:00<?, ?it/s]"
      ]
     },
     "metadata": {},
     "output_type": "display_data"
    },
    {
     "data": {
      "application/vnd.jupyter.widget-view+json": {
       "model_id": "2ee1bec1539944408fb82243c256617a",
       "version_major": 2,
       "version_minor": 0
      },
      "text/plain": [
       "  0%|          | 0/50 [00:00<?, ?it/s]"
      ]
     },
     "metadata": {},
     "output_type": "display_data"
    },
    {
     "name": "stdout",
     "output_type": "stream",
     "text": [
      "Pipeline(steps=[('encoder',\n",
      "                 Pipeline(steps=[('reg',\n",
      "                                  CatBoostEncoder(cols=['EthnicMarital'],\n",
      "                                                  sigma=1.0)),\n",
      "                                 ('unreg',\n",
      "                                  CatBoostEncoder(cols=['Agency_Text',\n",
      "                                                        'Sex_Code_Text',\n",
      "                                                        'ScaleSet',\n",
      "                                                        'AssessmentReason',\n",
      "                                                        'LegalStatus',\n",
      "                                                        'CustodyStatus',\n",
      "                                                        'DisplayText',\n",
      "                                                        'AssessmentType',\n",
      "                                                        'IsCompleted',\n",
      "                                                        'IsDeleted'],\n",
      "                                                  sigma=0))])),\n",
      "                ('model', RandomForestClassifier())])\n"
     ]
    },
    {
     "data": {
      "image/png": "[encoded data removed]",
      "text/plain": [
       "<Figure size 720x360 with 1 Axes>"
      ]
     },
     "metadata": {},
     "output_type": "display_data"
    }
   ],
   "source": [
    "one_hot = fair_encoder(model=RandomForestClassifier(), enc=\"ohe\", param=[0])\n",
    "\n",
    "PARAM = np.linspace(0, 1, 50)\n",
    "fe = fair_encoder(model=RandomForestClassifier(), enc=\"catboost\", param=PARAM,un_regularize=['Agency_Text', 'Sex_Code_Text', 'ScaleSet', 'AssessmentReason',\n",
    "       'LegalStatus', 'CustodyStatus', 'DisplayText', 'AssessmentType',\n",
    "       'IsCompleted', 'IsDeleted'])\n",
    "\n",
    "# plot_rolling(scale_output(fe))\n",
    "# plot_rolling(fe)\n",
    "aux = fe.rolling(5).mean().dropna()\n",
    "\n",
    "\n",
    "plt.figure()\n",
    "plt.scatter(\n",
    "    y=one_hot.fairness_metric, x=one_hot.auc_tot, s=100, label=\"One Hot Encoder\"\n",
    ")\n",
    "plt.scatter(\n",
    "    aux[\"auc_tot\"].values,\n",
    "    aux[\"fairness_metric\"].values,\n",
    "    s=100,\n",
    "    c=aux.index.values,\n",
    "    cmap=\"plasma\",\n",
    "    label=\"Regularization Parameter (Yellow=High,Purple=Low)\",\n",
    ")\n",
    "plt.title(\"Only Regularized {}\".format(col))\n",
    "plt.ylabel(\"Fairnes Metric\")\n",
    "plt.xlabel(\"AUC_tot\")\n",
    "plt.xlim(XMIN, XMAX)\n",
    "plt.ylim(YMIN, YMAX)\n",
    "plt.legend()\n",
    "plt.show()"
   ]
  },
  {
   "cell_type": "code",
   "execution_count": 31,
   "id": "37e871f1",
   "metadata": {},
   "outputs": [
    {
     "data": {
      "application/vnd.jupyter.widget-view+json": {
       "model_id": "d7d7a2be19e945a499fefb55088a186e",
       "version_major": 2,
       "version_minor": 0
      },
      "text/plain": [
       "  0%|          | 0/1 [00:00<?, ?it/s]"
      ]
     },
     "metadata": {},
     "output_type": "display_data"
    },
    {
     "data": {
      "application/vnd.jupyter.widget-view+json": {
       "model_id": "1f7e6ffd43c0422eaeac25fe7c98c9e4",
       "version_major": 2,
       "version_minor": 0
      },
      "text/plain": [
       "  0%|          | 0/50 [00:00<?, ?it/s]"
      ]
     },
     "metadata": {},
     "output_type": "display_data"
    },
    {
     "name": "stdout",
     "output_type": "stream",
     "text": [
      "Pipeline(steps=[('encoder',\n",
      "                 Pipeline(steps=[('reg',\n",
      "                                  CatBoostEncoder(cols=['EthnicMarital'],\n",
      "                                                  sigma=1.0)),\n",
      "                                 ('unreg',\n",
      "                                  CatBoostEncoder(cols=['Agency_Text',\n",
      "                                                        'Sex_Code_Text',\n",
      "                                                        'ScaleSet',\n",
      "                                                        'AssessmentReason',\n",
      "                                                        'LegalStatus',\n",
      "                                                        'CustodyStatus',\n",
      "                                                        'DisplayText',\n",
      "                                                        'AssessmentType',\n",
      "                                                        'IsCompleted',\n",
      "                                                        'IsDeleted'],\n",
      "                                                  sigma=0))])),\n",
      "                ('model', GradientBoostingClassifier())])\n"
     ]
    },
    {
     "data": {
      "image/png": "[encoded data removed]",
      "text/plain": [
       "<Figure size 720x360 with 1 Axes>"
      ]
     },
     "metadata": {},
     "output_type": "display_data"
    }
   ],
   "source": [
    "one_hot = fair_encoder(model=GradientBoostingClassifier(), enc=\"ohe\", param=[0])\n",
    "\n",
    "PARAM = np.linspace(0, 1, 50)\n",
    "fe = fair_encoder(model=GradientBoostingClassifier(), enc=\"catboost\", param=PARAM,un_regularize=['Agency_Text', 'Sex_Code_Text', 'ScaleSet', 'AssessmentReason',\n",
    "       'LegalStatus', 'CustodyStatus', 'DisplayText', 'AssessmentType',\n",
    "       'IsCompleted', 'IsDeleted'])\n",
    "\n",
    "# plot_rolling(scale_output(fe))\n",
    "# plot_rolling(fe)\n",
    "aux = fe.rolling(5).mean().dropna()\n",
    "\n",
    "\n",
    "plt.figure()\n",
    "plt.scatter(\n",
    "    y=one_hot.fairness_metric, x=one_hot.auc_tot, s=100, label=\"One Hot Encoder\"\n",
    ")\n",
    "plt.scatter(\n",
    "    aux[\"auc_tot\"].values,\n",
    "    aux[\"fairness_metric\"].values,\n",
    "    s=100,\n",
    "    c=aux.index.values,\n",
    "    cmap=\"plasma\",\n",
    "    label=\"Regularization Parameter (Yellow=High,Purple=Low)\",\n",
    ")\n",
    "plt.title(\"Only Regularized {}\".format(col))\n",
    "plt.ylabel(\"Fairnes Metric\")\n",
    "plt.xlabel(\"AUC_tot\")\n",
    "plt.xlim(XMIN, XMAX)\n",
    "plt.ylim(YMIN, YMAX)\n",
    "plt.legend()\n",
    "plt.show()"
   ]
  },
  {
   "cell_type": "code",
   "execution_count": 32,
   "id": "572b3889",
   "metadata": {},
   "outputs": [
    {
     "data": {
      "application/vnd.jupyter.widget-view+json": {
       "model_id": "3cce25b885f5419caa252328601ced8b",
       "version_major": 2,
       "version_minor": 0
      },
      "text/plain": [
       "  0%|          | 0/1 [00:00<?, ?it/s]"
      ]
     },
     "metadata": {},
     "output_type": "display_data"
    },
    {
     "data": {
      "application/vnd.jupyter.widget-view+json": {
       "model_id": "1cbdae7dbb6240cd952b0bad2db1b919",
       "version_major": 2,
       "version_minor": 0
      },
      "text/plain": [
       "  0%|          | 0/50 [00:00<?, ?it/s]"
      ]
     },
     "metadata": {},
     "output_type": "display_data"
    },
    {
     "name": "stdout",
     "output_type": "stream",
     "text": [
      "Pipeline(steps=[('encoder',\n",
      "                 Pipeline(steps=[('reg',\n",
      "                                  CatBoostEncoder(cols=['EthnicMarital'],\n",
      "                                                  sigma=1.0)),\n",
      "                                 ('unreg',\n",
      "                                  CatBoostEncoder(cols=['Agency_Text',\n",
      "                                                        'Sex_Code_Text',\n",
      "                                                        'ScaleSet',\n",
      "                                                        'AssessmentReason',\n",
      "                                                        'LegalStatus',\n",
      "                                                        'CustodyStatus',\n",
      "                                                        'DisplayText',\n",
      "                                                        'AssessmentType',\n",
      "                                                        'IsCompleted',\n",
      "                                                        'IsDeleted'],\n",
      "                                                  sigma=0))])),\n",
      "                ('model', DecisionTreeClassifier(max_depth=5))])\n"
     ]
    },
    {
     "data": {
      "image/png": "[encoded data removed]",
      "text/plain": [
       "<Figure size 720x360 with 1 Axes>"
      ]
     },
     "metadata": {},
     "output_type": "display_data"
    }
   ],
   "source": [
    "one_hot = fair_encoder(model=DecisionTreeClassifier(max_depth=5), enc=\"ohe\", param=[0])\n",
    "\n",
    "PARAM = np.linspace(0, 1, 50)\n",
    "fe = fair_encoder(model=DecisionTreeClassifier(max_depth=5), enc=\"catboost\", param=PARAM,un_regularize=['Agency_Text', 'Sex_Code_Text', 'ScaleSet', 'AssessmentReason',\n",
    "       'LegalStatus', 'CustodyStatus', 'DisplayText', 'AssessmentType',\n",
    "       'IsCompleted', 'IsDeleted'])\n",
    "\n",
    "# plot_rolling(scale_output(fe))\n",
    "# plot_rolling(fe)\n",
    "aux = fe.rolling(5).mean().dropna()\n",
    "\n",
    "\n",
    "plt.figure()\n",
    "plt.scatter(\n",
    "    y=one_hot.fairness_metric, x=one_hot.auc_tot, s=100, label=\"One Hot Encoder\"\n",
    ")\n",
    "plt.scatter(\n",
    "    aux[\"auc_tot\"].values,\n",
    "    aux[\"fairness_metric\"].values,\n",
    "    s=100,\n",
    "    c=aux.index.values,\n",
    "    cmap=\"plasma\",\n",
    "    label=\"Regularization Parameter (Yellow=High,Purple=Low)\",\n",
    ")\n",
    "plt.title(\"Only Regularized {}\".format(col))\n",
    "plt.ylabel(\"Fairnes Metric\")\n",
    "plt.xlabel(\"AUC_tot\")\n",
    "plt.xlim(XMIN, XMAX)\n",
    "plt.ylim(YMIN, YMAX)\n",
    "plt.legend()\n",
    "plt.show()"
   ]
  },
  {
   "cell_type": "code",
   "execution_count": 33,
   "id": "c99000c9",
   "metadata": {},
   "outputs": [
    {
     "data": {
      "application/vnd.jupyter.widget-view+json": {
       "model_id": "1d35d5a3cd0c425a9ee50bd6dc195f85",
       "version_major": 2,
       "version_minor": 0
      },
      "text/plain": [
       "  0%|          | 0/1 [00:00<?, ?it/s]"
      ]
     },
     "metadata": {},
     "output_type": "display_data"
    },
    {
     "data": {
      "application/vnd.jupyter.widget-view+json": {
       "model_id": "0e6153d7830644249ff84c4f8037867c",
       "version_major": 2,
       "version_minor": 0
      },
      "text/plain": [
       "  0%|          | 0/50 [00:00<?, ?it/s]"
      ]
     },
     "metadata": {},
     "output_type": "display_data"
    },
    {
     "name": "stdout",
     "output_type": "stream",
     "text": [
      "Pipeline(steps=[('encoder',\n",
      "                 Pipeline(steps=[('reg',\n",
      "                                  CatBoostEncoder(cols=['EthnicMarital'],\n",
      "                                                  sigma=1.0)),\n",
      "                                 ('unreg',\n",
      "                                  CatBoostEncoder(cols=['Agency_Text',\n",
      "                                                        'Sex_Code_Text',\n",
      "                                                        'ScaleSet',\n",
      "                                                        'AssessmentReason',\n",
      "                                                        'LegalStatus',\n",
      "                                                        'CustodyStatus',\n",
      "                                                        'DisplayText',\n",
      "                                                        'AssessmentType',\n",
      "                                                        'IsCompleted',\n",
      "                                                        'IsDeleted'],\n",
      "                                                  sigma=0))])),\n",
      "                ('model', DecisionTreeClassifier(max_depth=10))])\n"
     ]
    },
    {
     "data": {
      "image/png": "[encoded data removed]",
      "text/plain": [
       "<Figure size 720x360 with 1 Axes>"
      ]
     },
     "metadata": {},
     "output_type": "display_data"
    }
   ],
   "source": [
    "one_hot = fair_encoder(model=DecisionTreeClassifier(max_depth=10), enc=\"ohe\", param=[0])\n",
    "\n",
    "PARAM = np.linspace(0, 1, 50)\n",
    "fe = fair_encoder(model=DecisionTreeClassifier(max_depth=10), enc=\"catboost\", param=PARAM,un_regularize=['Agency_Text', 'Sex_Code_Text', 'ScaleSet', 'AssessmentReason',\n",
    "       'LegalStatus', 'CustodyStatus', 'DisplayText', 'AssessmentType',\n",
    "       'IsCompleted', 'IsDeleted'])\n",
    "\n",
    "# plot_rolling(scale_output(fe))\n",
    "# plot_rolling(fe)\n",
    "aux = fe.rolling(5).mean().dropna()\n",
    "\n",
    "\n",
    "plt.figure()\n",
    "plt.scatter(\n",
    "    y=one_hot.fairness_metric, x=one_hot.auc_tot, s=100, label=\"One Hot Encoder\"\n",
    ")\n",
    "plt.scatter(\n",
    "    aux[\"auc_tot\"].values,\n",
    "    aux[\"fairness_metric\"].values,\n",
    "    s=100,\n",
    "    c=aux.index.values,\n",
    "    cmap=\"plasma\",\n",
    "    label=\"Regularization Parameter (Yellow=High,Purple=Low)\",\n",
    ")\n",
    "plt.title(\"Only Regularized {}\".format(col))\n",
    "plt.ylabel(\"Fairnes Metric\")\n",
    "plt.xlabel(\"AUC_tot\")\n",
    "plt.xlim(XMIN, XMAX)\n",
    "plt.ylim(YMIN, YMAX)\n",
    "plt.legend()\n",
    "plt.show()"
   ]
  },
  {
   "cell_type": "code",
   "execution_count": 34,
   "id": "8cb83fe2",
   "metadata": {},
   "outputs": [
    {
     "data": {
      "application/vnd.jupyter.widget-view+json": {
       "model_id": "591bdcd6ed19457298f9755e86fc5938",
       "version_major": 2,
       "version_minor": 0
      },
      "text/plain": [
       "  0%|          | 0/1 [00:00<?, ?it/s]"
      ]
     },
     "metadata": {},
     "output_type": "display_data"
    },
    {
     "name": "stdout",
     "output_type": "stream",
     "text": [
      "CPU times: user 6.55 s, sys: 65.9 ms, total: 6.62 s\n",
      "Wall time: 6.64 s\n"
     ]
    },
    {
     "data": {
      "text/html": [
       "<div>\n",
       "<style scoped>\n",
       "    .dataframe tbody tr th:only-of-type {\n",
       "        vertical-align: middle;\n",
       "    }\n",
       "\n",
       "    .dataframe tbody tr th {\n",
       "        vertical-align: top;\n",
       "    }\n",
       "\n",
       "    .dataframe thead th {\n",
       "        text-align: right;\n",
       "    }\n",
       "</style>\n",
       "<table border=\"1\" class=\"dataframe\">\n",
       "  <thead>\n",
       "    <tr style=\"text-align: right;\">\n",
       "      <th></th>\n",
       "      <th>fairness_metric</th>\n",
       "      <th>auc_tot</th>\n",
       "      <th>auc_African-AmericanSingle</th>\n",
       "      <th>auc_CaucasianMarried</th>\n",
       "    </tr>\n",
       "  </thead>\n",
       "  <tbody>\n",
       "    <tr>\n",
       "      <th>0.5</th>\n",
       "      <td>0.0</td>\n",
       "      <td>0.690239</td>\n",
       "      <td>0.657506</td>\n",
       "      <td>0.574404</td>\n",
       "    </tr>\n",
       "  </tbody>\n",
       "</table>\n",
       "</div>"
      ],
      "text/plain": [
       "     fairness_metric   auc_tot  auc_African-AmericanSingle  \\\n",
       "0.5              0.0  0.690239                    0.657506   \n",
       "\n",
       "     auc_CaucasianMarried  \n",
       "0.5              0.574404  "
      ]
     },
     "execution_count": 34,
     "metadata": {},
     "output_type": "execute_result"
    }
   ],
   "source": [
    "%%time\n",
    "fair_encoder(model=GradientBoostingClassifier(), enc=\"catboost\", param=[0.5])\n"
   ]
  },
  {
   "cell_type": "code",
   "execution_count": 35,
   "id": "d5daafc4",
   "metadata": {},
   "outputs": [
    {
     "data": {
      "application/vnd.jupyter.widget-view+json": {
       "model_id": "f09485611a1a4c91bb2f165c9fb79e24",
       "version_major": 2,
       "version_minor": 0
      },
      "text/plain": [
       "  0%|          | 0/1 [00:00<?, ?it/s]"
      ]
     },
     "metadata": {},
     "output_type": "display_data"
    },
    {
     "name": "stdout",
     "output_type": "stream",
     "text": [
      "CPU times: user 2.78 s, sys: 268 ms, total: 3.05 s\n",
      "Wall time: 3.13 s\n"
     ]
    },
    {
     "data": {
      "text/html": [
       "<div>\n",
       "<style scoped>\n",
       "    .dataframe tbody tr th:only-of-type {\n",
       "        vertical-align: middle;\n",
       "    }\n",
       "\n",
       "    .dataframe tbody tr th {\n",
       "        vertical-align: top;\n",
       "    }\n",
       "\n",
       "    .dataframe thead th {\n",
       "        text-align: right;\n",
       "    }\n",
       "</style>\n",
       "<table border=\"1\" class=\"dataframe\">\n",
       "  <thead>\n",
       "    <tr style=\"text-align: right;\">\n",
       "      <th></th>\n",
       "      <th>fairness_metric</th>\n",
       "      <th>auc_tot</th>\n",
       "      <th>auc_African-AmericanSingle</th>\n",
       "      <th>auc_CaucasianMarried</th>\n",
       "    </tr>\n",
       "  </thead>\n",
       "  <tbody>\n",
       "    <tr>\n",
       "      <th>0</th>\n",
       "      <td>-0.248831</td>\n",
       "      <td>0.721836</td>\n",
       "      <td>0.691563</td>\n",
       "      <td>0.628081</td>\n",
       "    </tr>\n",
       "  </tbody>\n",
       "</table>\n",
       "</div>"
      ],
      "text/plain": [
       "   fairness_metric   auc_tot  auc_African-AmericanSingle  auc_CaucasianMarried\n",
       "0        -0.248831  0.721836                    0.691563              0.628081"
      ]
     },
     "execution_count": 35,
     "metadata": {},
     "output_type": "execute_result"
    }
   ],
   "source": [
    "%%time\n",
    "fair_encoder(model=GradientBoostingClassifier(), enc=\"ohe\", param=[0])\n"
   ]
  },
  {
   "cell_type": "code",
   "execution_count": 36,
   "id": "f30daf84",
   "metadata": {},
   "outputs": [
    {
     "data": {
      "application/vnd.jupyter.widget-view+json": {
       "model_id": "a1400ecbf1ec4488a6aa74e409b4be28",
       "version_major": 2,
       "version_minor": 0
      },
      "text/plain": [
       "  0%|          | 0/1 [00:00<?, ?it/s]"
      ]
     },
     "metadata": {},
     "output_type": "display_data"
    },
    {
     "name": "stdout",
     "output_type": "stream",
     "text": [
      "CPU times: user 2.36 s, sys: 172 ms, total: 2.54 s\n",
      "Wall time: 1.76 s\n"
     ]
    },
    {
     "data": {
      "text/html": [
       "<div>\n",
       "<style scoped>\n",
       "    .dataframe tbody tr th:only-of-type {\n",
       "        vertical-align: middle;\n",
       "    }\n",
       "\n",
       "    .dataframe tbody tr th {\n",
       "        vertical-align: top;\n",
       "    }\n",
       "\n",
       "    .dataframe thead th {\n",
       "        text-align: right;\n",
       "    }\n",
       "</style>\n",
       "<table border=\"1\" class=\"dataframe\">\n",
       "  <thead>\n",
       "    <tr style=\"text-align: right;\">\n",
       "      <th></th>\n",
       "      <th>fairness_metric</th>\n",
       "      <th>auc_tot</th>\n",
       "      <th>auc_African-AmericanSingle</th>\n",
       "      <th>auc_CaucasianMarried</th>\n",
       "    </tr>\n",
       "  </thead>\n",
       "  <tbody>\n",
       "    <tr>\n",
       "      <th>0.5</th>\n",
       "      <td>0.0</td>\n",
       "      <td>0.697794</td>\n",
       "      <td>0.674021</td>\n",
       "      <td>0.567604</td>\n",
       "    </tr>\n",
       "  </tbody>\n",
       "</table>\n",
       "</div>"
      ],
      "text/plain": [
       "     fairness_metric   auc_tot  auc_African-AmericanSingle  \\\n",
       "0.5              0.0  0.697794                    0.674021   \n",
       "\n",
       "     auc_CaucasianMarried  \n",
       "0.5              0.567604  "
      ]
     },
     "execution_count": 36,
     "metadata": {},
     "output_type": "execute_result"
    }
   ],
   "source": [
    "%%time\n",
    "fair_encoder(model=LogisticRegression(), enc=\"catboost\", param=[0.5])\n"
   ]
  },
  {
   "cell_type": "code",
   "execution_count": 37,
   "id": "9a5dab82",
   "metadata": {},
   "outputs": [
    {
     "data": {
      "application/vnd.jupyter.widget-view+json": {
       "model_id": "8503339259454b31830d21633d23d5f0",
       "version_major": 2,
       "version_minor": 0
      },
      "text/plain": [
       "  0%|          | 0/1 [00:00<?, ?it/s]"
      ]
     },
     "metadata": {},
     "output_type": "display_data"
    },
    {
     "name": "stdout",
     "output_type": "stream",
     "text": [
      "CPU times: user 2.35 s, sys: 419 ms, total: 2.76 s\n",
      "Wall time: 1.68 s\n"
     ]
    },
    {
     "data": {
      "text/html": [
       "<div>\n",
       "<style scoped>\n",
       "    .dataframe tbody tr th:only-of-type {\n",
       "        vertical-align: middle;\n",
       "    }\n",
       "\n",
       "    .dataframe tbody tr th {\n",
       "        vertical-align: top;\n",
       "    }\n",
       "\n",
       "    .dataframe thead th {\n",
       "        text-align: right;\n",
       "    }\n",
       "</style>\n",
       "<table border=\"1\" class=\"dataframe\">\n",
       "  <thead>\n",
       "    <tr style=\"text-align: right;\">\n",
       "      <th></th>\n",
       "      <th>fairness_metric</th>\n",
       "      <th>auc_tot</th>\n",
       "      <th>auc_African-AmericanSingle</th>\n",
       "      <th>auc_CaucasianMarried</th>\n",
       "    </tr>\n",
       "  </thead>\n",
       "  <tbody>\n",
       "    <tr>\n",
       "      <th>0.5</th>\n",
       "      <td>-0.280895</td>\n",
       "      <td>0.710053</td>\n",
       "      <td>0.676052</td>\n",
       "      <td>0.570731</td>\n",
       "    </tr>\n",
       "  </tbody>\n",
       "</table>\n",
       "</div>"
      ],
      "text/plain": [
       "     fairness_metric   auc_tot  auc_African-AmericanSingle  \\\n",
       "0.5        -0.280895  0.710053                    0.676052   \n",
       "\n",
       "     auc_CaucasianMarried  \n",
       "0.5              0.570731  "
      ]
     },
     "execution_count": 37,
     "metadata": {},
     "output_type": "execute_result"
    }
   ],
   "source": [
    "%%time\n",
    "fair_encoder(model=LogisticRegression(), enc=\"ohe\", param=[0.5])\n"
   ]
  },
  {
   "cell_type": "code",
   "execution_count": 38,
   "id": "054fbcb0",
   "metadata": {},
   "outputs": [
    {
     "data": {
      "application/vnd.jupyter.widget-view+json": {
       "model_id": "d5938c9c6a494a718ebb219928f1b0ef",
       "version_major": 2,
       "version_minor": 0
      },
      "text/plain": [
       "  0%|          | 0/1 [00:00<?, ?it/s]"
      ]
     },
     "metadata": {},
     "output_type": "display_data"
    },
    {
     "name": "stdout",
     "output_type": "stream",
     "text": [
      "CPU times: user 1.18 s, sys: 118 ms, total: 1.3 s\n",
      "Wall time: 828 ms\n"
     ]
    },
    {
     "data": {
      "text/html": [
       "<div>\n",
       "<style scoped>\n",
       "    .dataframe tbody tr th:only-of-type {\n",
       "        vertical-align: middle;\n",
       "    }\n",
       "\n",
       "    .dataframe tbody tr th {\n",
       "        vertical-align: top;\n",
       "    }\n",
       "\n",
       "    .dataframe thead th {\n",
       "        text-align: right;\n",
       "    }\n",
       "</style>\n",
       "<table border=\"1\" class=\"dataframe\">\n",
       "  <thead>\n",
       "    <tr style=\"text-align: right;\">\n",
       "      <th></th>\n",
       "      <th>fairness_metric</th>\n",
       "      <th>auc_tot</th>\n",
       "      <th>auc_African-AmericanSingle</th>\n",
       "      <th>auc_CaucasianMarried</th>\n",
       "    </tr>\n",
       "  </thead>\n",
       "  <tbody>\n",
       "    <tr>\n",
       "      <th>0.5</th>\n",
       "      <td>-0.216099</td>\n",
       "      <td>0.7084</td>\n",
       "      <td>0.670438</td>\n",
       "      <td>0.57291</td>\n",
       "    </tr>\n",
       "  </tbody>\n",
       "</table>\n",
       "</div>"
      ],
      "text/plain": [
       "     fairness_metric  auc_tot  auc_African-AmericanSingle  \\\n",
       "0.5        -0.216099   0.7084                    0.670438   \n",
       "\n",
       "     auc_CaucasianMarried  \n",
       "0.5               0.57291  "
      ]
     },
     "execution_count": 38,
     "metadata": {},
     "output_type": "execute_result"
    }
   ],
   "source": [
    "%%time\n",
    "fair_encoder(model=LogisticRegression(), enc=\"woe\", param=[0.5])\n"
   ]
  },
  {
   "cell_type": "code",
   "execution_count": 39,
   "id": "34083403",
   "metadata": {},
   "outputs": [
    {
     "data": {
      "application/vnd.jupyter.widget-view+json": {
       "model_id": "8bf79fa459f04aedb694ea125490b8bf",
       "version_major": 2,
       "version_minor": 0
      },
      "text/plain": [
       "  0%|          | 0/1 [00:00<?, ?it/s]"
      ]
     },
     "metadata": {},
     "output_type": "display_data"
    },
    {
     "name": "stdout",
     "output_type": "stream",
     "text": [
      "CPU times: user 1.3 s, sys: 119 ms, total: 1.42 s\n",
      "Wall time: 876 ms\n"
     ]
    },
    {
     "data": {
      "text/html": [
       "<div>\n",
       "<style scoped>\n",
       "    .dataframe tbody tr th:only-of-type {\n",
       "        vertical-align: middle;\n",
       "    }\n",
       "\n",
       "    .dataframe tbody tr th {\n",
       "        vertical-align: top;\n",
       "    }\n",
       "\n",
       "    .dataframe thead th {\n",
       "        text-align: right;\n",
       "    }\n",
       "</style>\n",
       "<table border=\"1\" class=\"dataframe\">\n",
       "  <thead>\n",
       "    <tr style=\"text-align: right;\">\n",
       "      <th></th>\n",
       "      <th>fairness_metric</th>\n",
       "      <th>auc_tot</th>\n",
       "      <th>auc_African-AmericanSingle</th>\n",
       "      <th>auc_CaucasianMarried</th>\n",
       "    </tr>\n",
       "  </thead>\n",
       "  <tbody>\n",
       "    <tr>\n",
       "      <th>0.5</th>\n",
       "      <td>-0.291583</td>\n",
       "      <td>0.705775</td>\n",
       "      <td>0.673503</td>\n",
       "      <td>0.570426</td>\n",
       "    </tr>\n",
       "  </tbody>\n",
       "</table>\n",
       "</div>"
      ],
      "text/plain": [
       "     fairness_metric   auc_tot  auc_African-AmericanSingle  \\\n",
       "0.5        -0.291583  0.705775                    0.673503   \n",
       "\n",
       "     auc_CaucasianMarried  \n",
       "0.5              0.570426  "
      ]
     },
     "execution_count": 39,
     "metadata": {},
     "output_type": "execute_result"
    }
   ],
   "source": [
    "%%time\n",
    "fair_encoder(model=LogisticRegression(), enc='targetenc', param=[0.5])\n"
   ]
  },
  {
   "cell_type": "markdown",
   "id": "47a11b75",
   "metadata": {},
   "source": [
    "## Mestimate"
   ]
  },
  {
   "cell_type": "code",
   "execution_count": 40,
   "id": "0a2ea288",
   "metadata": {},
   "outputs": [
    {
     "data": {
      "application/vnd.jupyter.widget-view+json": {
       "model_id": "b140b3b2bf93447087816f80473a9b8d",
       "version_major": 2,
       "version_minor": 0
      },
      "text/plain": [
       "  0%|          | 0/1 [00:00<?, ?it/s]"
      ]
     },
     "metadata": {},
     "output_type": "display_data"
    },
    {
     "data": {
      "application/vnd.jupyter.widget-view+json": {
       "model_id": "e6743aea642448019a982969d9cf21f2",
       "version_major": 2,
       "version_minor": 0
      },
      "text/plain": [
       "  0%|          | 0/50 [00:00<?, ?it/s]"
      ]
     },
     "metadata": {},
     "output_type": "display_data"
    },
    {
     "data": {
      "image/png": "[encoded data removed]",
      "text/plain": [
       "<Figure size 720x360 with 1 Axes>"
      ]
     },
     "metadata": {},
     "output_type": "display_data"
    }
   ],
   "source": [
    "one_hot = fair_encoder(model=LogisticRegression(), enc=\"ohe\", param=[0])\n",
    "\n",
    "PARAM = np.linspace(0, 100, 50)\n",
    "fe = fair_encoder(model=LogisticRegression(), enc=\"mestimate\", param=PARAM,un_regularize=['Agency_Text', 'Sex_Code_Text', 'ScaleSet', 'AssessmentReason',\n",
    "       'LegalStatus', 'CustodyStatus', 'DisplayText', 'AssessmentType',\n",
    "       'IsCompleted', 'IsDeleted'])\n",
    "\n",
    "# plot_rolling(scale_output(fe))\n",
    "# plot_rolling(fe)\n",
    "aux = fe.rolling(5).mean().dropna()\n",
    "\n",
    "\n",
    "plt.figure()\n",
    "plt.scatter(\n",
    "    y=one_hot.fairness_metric, x=one_hot.auc_tot, s=100, label=\"One Hot Encoder\"\n",
    ")\n",
    "plt.scatter(\n",
    "    aux[\"auc_tot\"].values,\n",
    "    aux[\"fairness_metric\"].values,\n",
    "    s=100,\n",
    "    c=aux.index.values,\n",
    "    cmap=\"plasma\",\n",
    "    label=\"Regularization Parameter (Yellow=High,Purple=Low)\",\n",
    ")\n",
    "plt.title(\"Only Regularized {}\".format(col))\n",
    "plt.ylabel(\"Fairnes Metric\")\n",
    "plt.xlabel(\"AUC_tot\")\n",
    "plt.xlim(XMIN, XMAX)\n",
    "plt.ylim(YMIN, YMAX)\n",
    "plt.legend()\n",
    "plt.show()"
   ]
  },
  {
   "cell_type": "code",
   "execution_count": 41,
   "id": "9a7eea51",
   "metadata": {},
   "outputs": [
    {
     "data": {
      "application/vnd.jupyter.widget-view+json": {
       "model_id": "5906e54f9fc3452b9ce7b40e519ae132",
       "version_major": 2,
       "version_minor": 0
      },
      "text/plain": [
       "  0%|          | 0/1 [00:00<?, ?it/s]"
      ]
     },
     "metadata": {},
     "output_type": "display_data"
    },
    {
     "data": {
      "application/vnd.jupyter.widget-view+json": {
       "model_id": "3b99eb02bcac4e8cadf0ecced9d587dc",
       "version_major": 2,
       "version_minor": 0
      },
      "text/plain": [
       "  0%|          | 0/50 [00:00<?, ?it/s]"
      ]
     },
     "metadata": {},
     "output_type": "display_data"
    },
    {
     "data": {
      "image/png": "[encoded data removed]",
      "text/plain": [
       "<Figure size 720x360 with 1 Axes>"
      ]
     },
     "metadata": {},
     "output_type": "display_data"
    }
   ],
   "source": [
    "one_hot = fair_encoder(model=RandomForestClassifier(), enc=\"ohe\", param=[0])\n",
    "\n",
    "\n",
    "fe = fair_encoder(model=RandomForestClassifier(), enc=\"mestimate\", param=PARAM,un_regularize=['Agency_Text', 'Sex_Code_Text', 'ScaleSet', 'AssessmentReason',\n",
    "       'LegalStatus', 'CustodyStatus', 'DisplayText', 'AssessmentType',\n",
    "       'IsCompleted', 'IsDeleted'])\n",
    "\n",
    "# plot_rolling(scale_output(fe))\n",
    "# plot_rolling(fe)\n",
    "aux = fe.rolling(5).mean().dropna()\n",
    "\n",
    "\n",
    "plt.figure()\n",
    "plt.scatter(\n",
    "    y=one_hot.fairness_metric, x=one_hot.auc_tot, s=100, label=\"One Hot Encoder\"\n",
    ")\n",
    "plt.scatter(\n",
    "    aux[\"auc_tot\"].values,\n",
    "    aux[\"fairness_metric\"].values,\n",
    "    s=100,\n",
    "    c=aux.index.values,\n",
    "    cmap=\"plasma\",\n",
    "    label=\"Regularization Parameter (Yellow=High,Purple=Low)\",\n",
    ")\n",
    "plt.title(\"Only Regularized {}\".format(col))\n",
    "plt.ylabel(\"Fairnes Metric\")\n",
    "plt.xlabel(\"AUC_tot\")\n",
    "plt.xlim(XMIN, XMAX)\n",
    "plt.ylim(YMIN, YMAX)\n",
    "plt.legend()\n",
    "plt.show()"
   ]
  },
  {
   "cell_type": "code",
   "execution_count": 42,
   "id": "4671aaea",
   "metadata": {},
   "outputs": [
    {
     "data": {
      "application/vnd.jupyter.widget-view+json": {
       "model_id": "404a64f03ecc4a83b99abab8c80d85f1",
       "version_major": 2,
       "version_minor": 0
      },
      "text/plain": [
       "  0%|          | 0/1 [00:00<?, ?it/s]"
      ]
     },
     "metadata": {},
     "output_type": "display_data"
    },
    {
     "data": {
      "application/vnd.jupyter.widget-view+json": {
       "model_id": "79e54dc3a32e4928affcf0d4db3d7958",
       "version_major": 2,
       "version_minor": 0
      },
      "text/plain": [
       "  0%|          | 0/50 [00:00<?, ?it/s]"
      ]
     },
     "metadata": {},
     "output_type": "display_data"
    },
    {
     "data": {
      "image/png": "[encoded data removed]",
      "text/plain": [
       "<Figure size 720x360 with 1 Axes>"
      ]
     },
     "metadata": {},
     "output_type": "display_data"
    }
   ],
   "source": [
    "one_hot = fair_encoder(model=GradientBoostingClassifier(), enc=\"ohe\", param=[0])\n",
    "\n",
    "fe = fair_encoder(model=GradientBoostingClassifier(), enc=\"mestimate\", param=PARAM,un_regularize=['Agency_Text', 'Sex_Code_Text', 'ScaleSet', 'AssessmentReason',\n",
    "       'LegalStatus', 'CustodyStatus', 'DisplayText', 'AssessmentType',\n",
    "       'IsCompleted', 'IsDeleted'])\n",
    "\n",
    "# plot_rolling(scale_output(fe))\n",
    "# plot_rolling(fe)\n",
    "aux = fe.rolling(5).mean().dropna()\n",
    "\n",
    "\n",
    "plt.figure()\n",
    "plt.scatter(\n",
    "    y=one_hot.fairness_metric, x=one_hot.auc_tot, s=100, label=\"One Hot Encoder\"\n",
    ")\n",
    "plt.scatter(\n",
    "    aux[\"auc_tot\"].values,\n",
    "    aux[\"fairness_metric\"].values,\n",
    "    s=100,\n",
    "    c=aux.index.values,\n",
    "    cmap=\"plasma\",\n",
    "    label=\"Regularization Parameter (Yellow=High,Purple=Low)\",\n",
    ")\n",
    "plt.title(\"Only Regularized {}\".format(col))\n",
    "plt.ylabel(\"Fairnes Metric\")\n",
    "plt.xlabel(\"AUC_tot\")\n",
    "plt.xlim(XMIN, XMAX)\n",
    "plt.ylim(YMIN, YMAX)\n",
    "plt.legend()\n",
    "plt.show()"
   ]
  },
  {
   "cell_type": "code",
   "execution_count": 43,
   "id": "31abdc14",
   "metadata": {},
   "outputs": [
    {
     "data": {
      "application/vnd.jupyter.widget-view+json": {
       "model_id": "64c2e9f0453a49c3806438976cb3d424",
       "version_major": 2,
       "version_minor": 0
      },
      "text/plain": [
       "  0%|          | 0/1 [00:00<?, ?it/s]"
      ]
     },
     "metadata": {},
     "output_type": "display_data"
    },
    {
     "data": {
      "application/vnd.jupyter.widget-view+json": {
       "model_id": "f46cbf38a5f448458e1a8fe2b777a0a5",
       "version_major": 2,
       "version_minor": 0
      },
      "text/plain": [
       "  0%|          | 0/50 [00:00<?, ?it/s]"
      ]
     },
     "metadata": {},
     "output_type": "display_data"
    },
    {
     "data": {
      "image/png": "[encoded data removed]",
      "text/plain": [
       "<Figure size 720x360 with 1 Axes>"
      ]
     },
     "metadata": {},
     "output_type": "display_data"
    }
   ],
   "source": [
    "one_hot = fair_encoder(model=DecisionTreeClassifier(max_depth=5), enc=\"ohe\", param=[0])\n",
    "\n",
    "fe = fair_encoder(model=DecisionTreeClassifier(max_depth=5), enc=\"mestimate\", param=PARAM,un_regularize=['Agency_Text', 'Sex_Code_Text', 'ScaleSet', 'AssessmentReason',\n",
    "       'LegalStatus', 'CustodyStatus', 'DisplayText', 'AssessmentType',\n",
    "       'IsCompleted', 'IsDeleted'])\n",
    "\n",
    "# plot_rolling(scale_output(fe))\n",
    "# plot_rolling(fe)\n",
    "aux = fe.rolling(5).mean().dropna()\n",
    "\n",
    "\n",
    "plt.figure()\n",
    "plt.scatter(\n",
    "    y=one_hot.fairness_metric, x=one_hot.auc_tot, s=100, label=\"One Hot Encoder\"\n",
    ")\n",
    "plt.scatter(\n",
    "    aux[\"auc_tot\"].values,\n",
    "    aux[\"fairness_metric\"].values,\n",
    "    s=100,\n",
    "    c=aux.index.values,\n",
    "    cmap=\"plasma\",\n",
    "    label=\"Regularization Parameter (Yellow=High,Purple=Low)\",\n",
    ")\n",
    "plt.title(\"Only Regularized {}\".format(col))\n",
    "plt.ylabel(\"Fairnes Metric\")\n",
    "plt.xlabel(\"AUC_tot\")\n",
    "plt.xlim(XMIN, XMAX)\n",
    "plt.ylim(YMIN, YMAX)\n",
    "plt.legend()\n",
    "plt.show()"
   ]
  },
  {
   "cell_type": "code",
   "execution_count": 44,
   "id": "6efabf61",
   "metadata": {},
   "outputs": [
    {
     "data": {
      "application/vnd.jupyter.widget-view+json": {
       "model_id": "73e6b4a5dbe640ab93ab3d6dd8d45f5d",
       "version_major": 2,
       "version_minor": 0
      },
      "text/plain": [
       "  0%|          | 0/1 [00:00<?, ?it/s]"
      ]
     },
     "metadata": {},
     "output_type": "display_data"
    },
    {
     "data": {
      "application/vnd.jupyter.widget-view+json": {
       "model_id": "4b1fee039cce4b9c9473edda7815c1ce",
       "version_major": 2,
       "version_minor": 0
      },
      "text/plain": [
       "  0%|          | 0/50 [00:00<?, ?it/s]"
      ]
     },
     "metadata": {},
     "output_type": "display_data"
    },
    {
     "data": {
      "image/png": "[encoded data removed]",
      "text/plain": [
       "<Figure size 720x360 with 1 Axes>"
      ]
     },
     "metadata": {},
     "output_type": "display_data"
    }
   ],
   "source": [
    "one_hot = fair_encoder(model=DecisionTreeClassifier(max_depth=10), enc=\"ohe\", param=[0])\n",
    "\n",
    "\n",
    "fe = fair_encoder(model=DecisionTreeClassifier(max_depth=10), enc=\"mestimate\", param=PARAM,un_regularize=['Agency_Text', 'Sex_Code_Text', 'ScaleSet', 'AssessmentReason',\n",
    "       'LegalStatus', 'CustodyStatus', 'DisplayText', 'AssessmentType',\n",
    "       'IsCompleted', 'IsDeleted'])\n",
    "\n",
    "# plot_rolling(scale_output(fe))\n",
    "# plot_rolling(fe)\n",
    "aux = fe.rolling(5).mean().dropna()\n",
    "\n",
    "\n",
    "plt.figure()\n",
    "plt.scatter(\n",
    "    y=one_hot.fairness_metric, x=one_hot.auc_tot, s=100, label=\"One Hot Encoder\"\n",
    ")\n",
    "plt.scatter(\n",
    "    aux[\"auc_tot\"].values,\n",
    "    aux[\"fairness_metric\"].values,\n",
    "    s=100,\n",
    "    c=aux.index.values,\n",
    "    cmap=\"plasma\",\n",
    "    label=\"Regularization Parameter (Yellow=High,Purple=Low)\",\n",
    ")\n",
    "plt.title(\"Only Regularized {}\".format(col))\n",
    "plt.ylabel(\"Fairnes Metric\")\n",
    "plt.xlabel(\"AUC_tot\")\n",
    "plt.xlim(XMIN, XMAX)\n",
    "plt.ylim(YMIN, YMAX)\n",
    "plt.legend()\n",
    "plt.show()"
   ]
  },
  {
   "cell_type": "code",
   "execution_count": null,
   "id": "1183488a",
   "metadata": {},
   "outputs": [],
   "source": []
  }
 ],
 "metadata": {
  "kernelspec": {
   "display_name": "quantile",
   "language": "python",
   "name": "quantile"
  },
  "language_info": {
   "codemirror_mode": {
    "name": "ipython",
    "version": 3
   },
   "file_extension": ".py",
   "mimetype": "text/x-python",
   "name": "python",
   "nbconvert_exporter": "python",
   "pygments_lexer": "ipython3",
   "version": "3.9.7"
  }
 },
 "nbformat": 4,
 "nbformat_minor": 5
}
