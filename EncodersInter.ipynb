{
 "cells": [
  {
   "cell_type": "markdown",
   "id": "82275067",
   "metadata": {},
   "source": [
    "#### Libraries"
   ]
  },
  {
   "cell_type": "code",
   "execution_count": 1,
   "id": "4be53f48",
   "metadata": {
    "scrolled": true
   },
   "outputs": [
    {
     "data": {
      "application/javascript": [
       "utils.load_extension(\"collapsible_headings/main\")\n"
      ],
      "text/plain": [
       "<IPython.core.display.Javascript object>"
      ]
     },
     "metadata": {},
     "output_type": "display_data"
    }
   ],
   "source": [
    "%%javascript\n",
    "utils.load_extension(\"collapsible_headings/main\")"
   ]
  },
  {
   "cell_type": "code",
   "execution_count": 2,
   "id": "eae22df6",
   "metadata": {},
   "outputs": [],
   "source": [
    "import pandas as pd\n",
    "import random\n",
    "random.seed(0)\n",
    "\n",
    "pd.set_option(\"display.max_columns\", None)\n",
    "import numpy as np\n",
    "import matplotlib.pyplot as plt\n",
    "import seaborn as sns\n",
    "import pdb\n",
    "\n",
    "%matplotlib inline\n",
    "from matplotlib import rcParams\n",
    "\n",
    "plt.style.use(\"seaborn-whitegrid\")\n",
    "rcParams[\"axes.labelsize\"] = 14\n",
    "rcParams[\"xtick.labelsize\"] = 12\n",
    "rcParams[\"ytick.labelsize\"] = 12\n",
    "rcParams[\"figure.figsize\"] = 16, 8\n",
    "\n",
    "# from pandas_profiling import ProfileReportofileReport\n",
    "\n",
    "import warnings\n",
    "warnings.filterwarnings('ignore')"
   ]
  },
  {
   "cell_type": "code",
   "execution_count": 3,
   "id": "086e5a89",
   "metadata": {},
   "outputs": [],
   "source": [
    "import matplotlib.pyplot as plt\n",
    "\n",
    "plt.rcParams[\"figure.figsize\"] = [10, 5]"
   ]
  },
  {
   "cell_type": "code",
   "execution_count": 4,
   "id": "1512bb96",
   "metadata": {
    "scrolled": false
   },
   "outputs": [],
   "source": [
    "from fairlearn.metrics import MetricFrame\n",
    "from fairlearn.metrics import (\n",
    "    selection_rate,\n",
    "    false_positive_rate,\n",
    "    true_positive_rate,\n",
    "    count,\n",
    ")\n",
    "import shap\n",
    "\n",
    "from sklearn.metrics import accuracy_score, confusion_matrix\n",
    "from sklearn.pipeline import Pipeline\n",
    "from sklearn.linear_model import LogisticRegression, Lasso\n",
    "from sklearn.preprocessing import LabelEncoder, StandardScaler\n",
    "from sklearn.metrics import accuracy_score, precision_score, recall_score, roc_auc_score\n",
    "from sklearn.model_selection import train_test_split\n",
    "from sklearn.svm import SVC\n",
    "from sklearn.ensemble import RandomForestClassifier, GradientBoostingClassifier\n",
    "from sklearn.neural_network import MLPClassifier\n",
    "from sklearn.tree import DecisionTreeClassifier\n",
    "from sklearn.model_selection import GridSearchCV\n",
    "\n",
    "from xgboost import XGBRegressor, XGBClassifier\n",
    "from catboost import CatBoostClassifier\n",
    "import shap\n",
    "\n",
    "from category_encoders.target_encoder import TargetEncoder\n",
    "from category_encoders.m_estimate import MEstimateEncoder\n",
    "from category_encoders.cat_boost import CatBoostEncoder\n",
    "from category_encoders.leave_one_out import LeaveOneOutEncoder\n",
    "from category_encoders.woe import WOEEncoder\n",
    "from category_encoders.james_stein import JamesSteinEncoder\n",
    "\n",
    "from tqdm.notebook import tqdm\n",
    "from collections import defaultdict"
   ]
  },
  {
   "cell_type": "code",
   "execution_count": 5,
   "id": "dba68e80",
   "metadata": {},
   "outputs": [],
   "source": [
    "from category_encoders import OneHotEncoder"
   ]
  },
  {
   "cell_type": "markdown",
   "id": "0d6d0167",
   "metadata": {},
   "source": [
    "## Data Loading and helper functions"
   ]
  },
  {
   "cell_type": "code",
   "execution_count": 6,
   "id": "c83bdffc",
   "metadata": {},
   "outputs": [],
   "source": [
    "df = pd.read_csv(\"data/compas-scores-raw.csv\")"
   ]
  },
  {
   "cell_type": "code",
   "execution_count": 7,
   "id": "2c990962",
   "metadata": {},
   "outputs": [],
   "source": [
    "df = pd.read_csv(\"data/compas-scores-raw.csv\")\n",
    "\n",
    "df[\"Score\"] = df[\"DecileScore\"]\n",
    "\n",
    "# df.loc[df[\"DecileScore\"] > 7, \"Score\"] = 2\n",
    "# df.loc[(df[\"DecileScore\"] > 4) & (df[\"DecileScore\"] < 8), \"Score\"] = 1\n",
    "# df.loc[df[\"DecileScore\"] < 5, \"Score\"] = 0\n",
    "\n",
    "df.loc[df[\"DecileScore\"] > 4, \"Score\"] = 1\n",
    "df.loc[df[\"DecileScore\"] <= 4, \"Score\"] = 0\n",
    "\n",
    "df.loc[df['Ethnic_Code_Text'] == 'African-Am', 'Ethnic_Code_Text'] = 'African-American'\n",
    "\n",
    "\n",
    "cols = [\n",
    "    \"Person_ID\",\n",
    "    \"AssessmentID\",\n",
    "    \"Case_ID\",\n",
    "    \"LastName\",\n",
    "    \"FirstName\",\n",
    "    \"MiddleName\",\n",
    "    \"DateOfBirth\",\n",
    "    \"ScaleSet_ID\",\n",
    "    \"Screening_Date\",\n",
    "    \"RecSupervisionLevel\",\n",
    "    #\"Agency_Text\",\n",
    "    \"AssessmentReason\",\n",
    "    \"Language\",\n",
    "    \"Scale_ID\",\n",
    "    \"IsCompleted\",\n",
    "    \"IsDeleted\",\n",
    "    #\"AssessmentType\",\n",
    "    \"DecileScore\",\n",
    "    \"RecSupervisionLevelText\",\n",
    "    #\"DisplayText\",\n",
    "    #\"ScaleSet\",\n",
    "    #\"LegalStatus\",\n",
    "    #\"CustodyStatus\",\n",
    "\n",
    "]\n",
    "\n",
    "\n",
    "df = df.drop(columns=cols)\n",
    "\n",
    "possible_targets = [\"RawScore\", \"ScoreText\", \"Score\"]\n",
    "\n",
    "X = df.drop(columns=possible_targets)\n",
    "y = df[[\"Score\"]]"
   ]
  },
  {
   "cell_type": "code",
   "execution_count": 8,
   "id": "6b99378e",
   "metadata": {},
   "outputs": [
    {
     "data": {
      "text/html": [
       "<div>\n",
       "<style scoped>\n",
       "    .dataframe tbody tr th:only-of-type {\n",
       "        vertical-align: middle;\n",
       "    }\n",
       "\n",
       "    .dataframe tbody tr th {\n",
       "        vertical-align: top;\n",
       "    }\n",
       "\n",
       "    .dataframe thead th {\n",
       "        text-align: right;\n",
       "    }\n",
       "</style>\n",
       "<table border=\"1\" class=\"dataframe\">\n",
       "  <thead>\n",
       "    <tr style=\"text-align: right;\">\n",
       "      <th></th>\n",
       "      <th>Agency_Text</th>\n",
       "      <th>Sex_Code_Text</th>\n",
       "      <th>Ethnic_Code_Text</th>\n",
       "      <th>ScaleSet</th>\n",
       "      <th>LegalStatus</th>\n",
       "      <th>CustodyStatus</th>\n",
       "      <th>MaritalStatus</th>\n",
       "      <th>DisplayText</th>\n",
       "      <th>AssessmentType</th>\n",
       "    </tr>\n",
       "  </thead>\n",
       "  <tbody>\n",
       "    <tr>\n",
       "      <th>0</th>\n",
       "      <td>PRETRIAL</td>\n",
       "      <td>Male</td>\n",
       "      <td>Caucasian</td>\n",
       "      <td>Risk and Prescreen</td>\n",
       "      <td>Pretrial</td>\n",
       "      <td>Jail Inmate</td>\n",
       "      <td>Single</td>\n",
       "      <td>Risk of Violence</td>\n",
       "      <td>New</td>\n",
       "    </tr>\n",
       "  </tbody>\n",
       "</table>\n",
       "</div>"
      ],
      "text/plain": [
       "  Agency_Text Sex_Code_Text Ethnic_Code_Text            ScaleSet LegalStatus  \\\n",
       "0    PRETRIAL          Male        Caucasian  Risk and Prescreen    Pretrial   \n",
       "\n",
       "  CustodyStatus MaritalStatus       DisplayText AssessmentType  \n",
       "0   Jail Inmate        Single  Risk of Violence            New  "
      ]
     },
     "execution_count": 8,
     "metadata": {},
     "output_type": "execute_result"
    }
   ],
   "source": [
    "X.head(1)"
   ]
  },
  {
   "cell_type": "code",
   "execution_count": 9,
   "id": "15c42b08",
   "metadata": {},
   "outputs": [],
   "source": [
    "X['Sex_Code_Text'] = pd.get_dummies(X['Sex_Code_Text'],prefix='Sex')['Sex_Male']\n",
    "X[\"ScaleSet\"] = pd.get_dummies(X['ScaleSet'])['Risk and Prescreen']"
   ]
  },
  {
   "cell_type": "code",
   "execution_count": 10,
   "id": "d08b2417",
   "metadata": {},
   "outputs": [],
   "source": [
    "X[\"EthnicMarital\"] = X[\"Ethnic_Code_Text\"] + X[\"MaritalStatus\"]\n",
    "X = X.drop(columns=[\"Ethnic_Code_Text\", \"MaritalStatus\"])"
   ]
  },
  {
   "cell_type": "code",
   "execution_count": 11,
   "id": "e208c264",
   "metadata": {},
   "outputs": [],
   "source": [
    "aux = X.copy()\n",
    "aux['score'] = y\n",
    "dd = pd.DataFrame(aux.groupby('EthnicMarital').score.mean())\n",
    "del aux"
   ]
  },
  {
   "cell_type": "code",
   "execution_count": 12,
   "id": "8472027d",
   "metadata": {},
   "outputs": [
    {
     "data": {
      "text/html": [
       "<div>\n",
       "<style scoped>\n",
       "    .dataframe tbody tr th:only-of-type {\n",
       "        vertical-align: middle;\n",
       "    }\n",
       "\n",
       "    .dataframe tbody tr th {\n",
       "        vertical-align: top;\n",
       "    }\n",
       "\n",
       "    .dataframe thead th {\n",
       "        text-align: right;\n",
       "    }\n",
       "</style>\n",
       "<table border=\"1\" class=\"dataframe\">\n",
       "  <thead>\n",
       "    <tr style=\"text-align: right;\">\n",
       "      <th></th>\n",
       "      <th>score</th>\n",
       "    </tr>\n",
       "    <tr>\n",
       "      <th>EthnicMarital</th>\n",
       "      <th></th>\n",
       "    </tr>\n",
       "  </thead>\n",
       "  <tbody>\n",
       "    <tr>\n",
       "      <th>African-AmericanSingle</th>\n",
       "      <td>0.459062</td>\n",
       "    </tr>\n",
       "    <tr>\n",
       "      <th>Native AmericanSingle</th>\n",
       "      <td>0.433962</td>\n",
       "    </tr>\n",
       "    <tr>\n",
       "      <th>African-AmericanSignificant Other</th>\n",
       "      <td>0.353303</td>\n",
       "    </tr>\n",
       "    <tr>\n",
       "      <th>African-AmericanWidowed</th>\n",
       "      <td>0.333333</td>\n",
       "    </tr>\n",
       "    <tr>\n",
       "      <th>Native AmericanSignificant Other</th>\n",
       "      <td>0.333333</td>\n",
       "    </tr>\n",
       "    <tr>\n",
       "      <th>Native AmericanWidowed</th>\n",
       "      <td>0.333333</td>\n",
       "    </tr>\n",
       "    <tr>\n",
       "      <th>African-AmericanSeparated</th>\n",
       "      <td>0.316151</td>\n",
       "    </tr>\n",
       "    <tr>\n",
       "      <th>ArabicSingle</th>\n",
       "      <td>0.313725</td>\n",
       "    </tr>\n",
       "    <tr>\n",
       "      <th>African-AmericanUnknown</th>\n",
       "      <td>0.311828</td>\n",
       "    </tr>\n",
       "    <tr>\n",
       "      <th>CaucasianSingle</th>\n",
       "      <td>0.295368</td>\n",
       "    </tr>\n",
       "    <tr>\n",
       "      <th>African-AmericanDivorced</th>\n",
       "      <td>0.274603</td>\n",
       "    </tr>\n",
       "    <tr>\n",
       "      <th>HispanicSingle</th>\n",
       "      <td>0.262423</td>\n",
       "    </tr>\n",
       "    <tr>\n",
       "      <th>HispanicWidowed</th>\n",
       "      <td>0.250000</td>\n",
       "    </tr>\n",
       "    <tr>\n",
       "      <th>CaucasianSignificant Other</th>\n",
       "      <td>0.242667</td>\n",
       "    </tr>\n",
       "    <tr>\n",
       "      <th>African-AmericanMarried</th>\n",
       "      <td>0.237589</td>\n",
       "    </tr>\n",
       "    <tr>\n",
       "      <th>OtherSingle</th>\n",
       "      <td>0.234687</td>\n",
       "    </tr>\n",
       "    <tr>\n",
       "      <th>OrientalSingle</th>\n",
       "      <td>0.222222</td>\n",
       "    </tr>\n",
       "    <tr>\n",
       "      <th>AsianSingle</th>\n",
       "      <td>0.212121</td>\n",
       "    </tr>\n",
       "    <tr>\n",
       "      <th>Native AmericanSeparated</th>\n",
       "      <td>0.208333</td>\n",
       "    </tr>\n",
       "    <tr>\n",
       "      <th>AsianDivorced</th>\n",
       "      <td>0.205128</td>\n",
       "    </tr>\n",
       "    <tr>\n",
       "      <th>CaucasianSeparated</th>\n",
       "      <td>0.182266</td>\n",
       "    </tr>\n",
       "    <tr>\n",
       "      <th>OtherWidowed</th>\n",
       "      <td>0.166667</td>\n",
       "    </tr>\n",
       "    <tr>\n",
       "      <th>CaucasianUnknown</th>\n",
       "      <td>0.159420</td>\n",
       "    </tr>\n",
       "    <tr>\n",
       "      <th>CaucasianDivorced</th>\n",
       "      <td>0.151754</td>\n",
       "    </tr>\n",
       "    <tr>\n",
       "      <th>CaucasianWidowed</th>\n",
       "      <td>0.150000</td>\n",
       "    </tr>\n",
       "    <tr>\n",
       "      <th>OtherSignificant Other</th>\n",
       "      <td>0.144144</td>\n",
       "    </tr>\n",
       "    <tr>\n",
       "      <th>AsianSeparated</th>\n",
       "      <td>0.133333</td>\n",
       "    </tr>\n",
       "    <tr>\n",
       "      <th>HispanicSeparated</th>\n",
       "      <td>0.126437</td>\n",
       "    </tr>\n",
       "    <tr>\n",
       "      <th>HispanicSignificant Other</th>\n",
       "      <td>0.119658</td>\n",
       "    </tr>\n",
       "    <tr>\n",
       "      <th>HispanicDivorced</th>\n",
       "      <td>0.110303</td>\n",
       "    </tr>\n",
       "    <tr>\n",
       "      <th>CaucasianMarried</th>\n",
       "      <td>0.106242</td>\n",
       "    </tr>\n",
       "    <tr>\n",
       "      <th>HispanicMarried</th>\n",
       "      <td>0.086712</td>\n",
       "    </tr>\n",
       "    <tr>\n",
       "      <th>Native AmericanDivorced</th>\n",
       "      <td>0.083333</td>\n",
       "    </tr>\n",
       "    <tr>\n",
       "      <th>OtherSeparated</th>\n",
       "      <td>0.074074</td>\n",
       "    </tr>\n",
       "    <tr>\n",
       "      <th>Native AmericanMarried</th>\n",
       "      <td>0.066667</td>\n",
       "    </tr>\n",
       "    <tr>\n",
       "      <th>HispanicUnknown</th>\n",
       "      <td>0.058824</td>\n",
       "    </tr>\n",
       "    <tr>\n",
       "      <th>ArabicMarried</th>\n",
       "      <td>0.055556</td>\n",
       "    </tr>\n",
       "    <tr>\n",
       "      <th>OtherDivorced</th>\n",
       "      <td>0.043011</td>\n",
       "    </tr>\n",
       "    <tr>\n",
       "      <th>OtherMarried</th>\n",
       "      <td>0.037356</td>\n",
       "    </tr>\n",
       "    <tr>\n",
       "      <th>AsianMarried</th>\n",
       "      <td>0.009524</td>\n",
       "    </tr>\n",
       "    <tr>\n",
       "      <th>ArabicSignificant Other</th>\n",
       "      <td>0.000000</td>\n",
       "    </tr>\n",
       "    <tr>\n",
       "      <th>OrientalMarried</th>\n",
       "      <td>0.000000</td>\n",
       "    </tr>\n",
       "    <tr>\n",
       "      <th>ArabicSeparated</th>\n",
       "      <td>0.000000</td>\n",
       "    </tr>\n",
       "  </tbody>\n",
       "</table>\n",
       "</div>"
      ],
      "text/plain": [
       "                                      score\n",
       "EthnicMarital                              \n",
       "African-AmericanSingle             0.459062\n",
       "Native AmericanSingle              0.433962\n",
       "African-AmericanSignificant Other  0.353303\n",
       "African-AmericanWidowed            0.333333\n",
       "Native AmericanSignificant Other   0.333333\n",
       "Native AmericanWidowed             0.333333\n",
       "African-AmericanSeparated          0.316151\n",
       "ArabicSingle                       0.313725\n",
       "African-AmericanUnknown            0.311828\n",
       "CaucasianSingle                    0.295368\n",
       "African-AmericanDivorced           0.274603\n",
       "HispanicSingle                     0.262423\n",
       "HispanicWidowed                    0.250000\n",
       "CaucasianSignificant Other         0.242667\n",
       "African-AmericanMarried            0.237589\n",
       "OtherSingle                        0.234687\n",
       "OrientalSingle                     0.222222\n",
       "AsianSingle                        0.212121\n",
       "Native AmericanSeparated           0.208333\n",
       "AsianDivorced                      0.205128\n",
       "CaucasianSeparated                 0.182266\n",
       "OtherWidowed                       0.166667\n",
       "CaucasianUnknown                   0.159420\n",
       "CaucasianDivorced                  0.151754\n",
       "CaucasianWidowed                   0.150000\n",
       "OtherSignificant Other             0.144144\n",
       "AsianSeparated                     0.133333\n",
       "HispanicSeparated                  0.126437\n",
       "HispanicSignificant Other          0.119658\n",
       "HispanicDivorced                   0.110303\n",
       "CaucasianMarried                   0.106242\n",
       "HispanicMarried                    0.086712\n",
       "Native AmericanDivorced            0.083333\n",
       "OtherSeparated                     0.074074\n",
       "Native AmericanMarried             0.066667\n",
       "HispanicUnknown                    0.058824\n",
       "ArabicMarried                      0.055556\n",
       "OtherDivorced                      0.043011\n",
       "OtherMarried                       0.037356\n",
       "AsianMarried                       0.009524\n",
       "ArabicSignificant Other            0.000000\n",
       "OrientalMarried                    0.000000\n",
       "ArabicSeparated                    0.000000"
      ]
     },
     "execution_count": 12,
     "metadata": {},
     "output_type": "execute_result"
    }
   ],
   "source": [
    "dd.sort_values('score',ascending=False)"
   ]
  },
  {
   "cell_type": "code",
   "execution_count": 13,
   "id": "4b0b640e",
   "metadata": {},
   "outputs": [
    {
     "name": "stderr",
     "output_type": "stream",
     "text": [
      "The PostScript backend does not support transparency; partially transparent artists will be rendered opaque.\n",
      "The PostScript backend does not support transparency; partially transparent artists will be rendered opaque.\n",
      "The PostScript backend does not support transparency; partially transparent artists will be rendered opaque.\n",
      "The PostScript backend does not support transparency; partially transparent artists will be rendered opaque.\n",
      "The PostScript backend does not support transparency; partially transparent artists will be rendered opaque.\n",
      "The PostScript backend does not support transparency; partially transparent artists will be rendered opaque.\n",
      "The PostScript backend does not support transparency; partially transparent artists will be rendered opaque.\n",
      "The PostScript backend does not support transparency; partially transparent artists will be rendered opaque.\n",
      "The PostScript backend does not support transparency; partially transparent artists will be rendered opaque.\n",
      "The PostScript backend does not support transparency; partially transparent artists will be rendered opaque.\n",
      "The PostScript backend does not support transparency; partially transparent artists will be rendered opaque.\n",
      "The PostScript backend does not support transparency; partially transparent artists will be rendered opaque.\n",
      "The PostScript backend does not support transparency; partially transparent artists will be rendered opaque.\n",
      "The PostScript backend does not support transparency; partially transparent artists will be rendered opaque.\n",
      "The PostScript backend does not support transparency; partially transparent artists will be rendered opaque.\n",
      "The PostScript backend does not support transparency; partially transparent artists will be rendered opaque.\n",
      "The PostScript backend does not support transparency; partially transparent artists will be rendered opaque.\n",
      "The PostScript backend does not support transparency; partially transparent artists will be rendered opaque.\n"
     ]
    },
    {
     "data": {
      "image/png": "[encoded data removed]",
      "text/plain": [
       "<Figure size 720x360 with 1 Axes>"
      ]
     },
     "metadata": {},
     "output_type": "display_data"
    }
   ],
   "source": [
    "# Remove groups that have small statistical mass\n",
    "filter_value = 1000\n",
    "\n",
    "aux = pd.DataFrame(X[\"EthnicMarital\"].value_counts())\n",
    "aux2 = pd.DataFrame(data = {'EthnicMarital': aux[aux.EthnicMarital<filter_value].sum()[0]},index=['Minor Groups'])\n",
    "aux = aux.append(aux2)\n",
    "aux = aux[aux.EthnicMarital>=filter_value]\n",
    "\n",
    "\n",
    "def func(pct, allvals):\n",
    "    absolute = int(np.round(pct / 100.0 * np.sum(allvals)))\n",
    "    return \"{:.1f}%\\n({:d})\".format(pct, absolute)\n",
    "\n",
    "\n",
    "colors = sns.color_palette(\"pastel\")[0 : aux.shape[0]]\n",
    "\n",
    "\n",
    "# create pie chart\n",
    "plt.figure()\n",
    "explode =  (0.05,)* aux.shape[0] \n",
    "\n",
    "plt.pie(\n",
    "    aux.EthnicMarital.values,\n",
    "    labels=aux.index,\n",
    "    autopct=lambda pct: func(pct, aux.EthnicMarital.values),\n",
    "    shadow=True,\n",
    "    explode=explode,\n",
    ")\n",
    "plt.savefig('images/ethnicmaritalPie.eps',format='eps')\n",
    "plt.show()"
   ]
  },
  {
   "cell_type": "code",
   "execution_count": null,
   "id": "96c52e21",
   "metadata": {
    "scrolled": true
   },
   "outputs": [],
   "source": []
  },
  {
   "cell_type": "code",
   "execution_count": 14,
   "id": "b6a8c8ac",
   "metadata": {
    "scrolled": true
   },
   "outputs": [
    {
     "data": {
      "text/plain": [
       "Index(['Agency_Text', 'Sex_Code_Text', 'ScaleSet', 'LegalStatus',\n",
       "       'CustodyStatus', 'DisplayText', 'AssessmentType', 'EthnicMarital'],\n",
       "      dtype='object')"
      ]
     },
     "execution_count": 14,
     "metadata": {},
     "output_type": "execute_result"
    }
   ],
   "source": [
    "X.columns"
   ]
  },
  {
   "cell_type": "code",
   "execution_count": 15,
   "id": "748a30ce",
   "metadata": {
    "scrolled": true
   },
   "outputs": [
    {
     "name": "stdout",
     "output_type": "stream",
     "text": [
      "PRETRIAL          41100\n",
      "Probation         19056\n",
      "DRRD                564\n",
      "Broward County      123\n",
      "Name: Agency_Text, dtype: int64\n",
      "1    47514\n",
      "0    13329\n",
      "Name: Sex_Code_Text, dtype: int64\n",
      "1    58647\n",
      "0     2196\n",
      "Name: ScaleSet, dtype: int64\n",
      "Pretrial               37578\n",
      "Post Sentence          18333\n",
      "Other                   4356\n",
      "Conditional Release      420\n",
      "Probation Violator       126\n",
      "Parole Violator           18\n",
      "Deferred Sentencing       12\n",
      "Name: LegalStatus, dtype: int64\n",
      "Jail Inmate            30129\n",
      "Probation              22968\n",
      "Pretrial Defendant      7644\n",
      "Residential Program       66\n",
      "Parole                    21\n",
      "Prison Inmate             15\n",
      "Name: CustodyStatus, dtype: int64\n",
      "Risk of Violence             20281\n",
      "Risk of Recidivism           20281\n",
      "Risk of Failure to Appear    20281\n",
      "Name: DisplayText, dtype: int64\n",
      "New     56139\n",
      "Copy     4704\n",
      "Name: AssessmentType, dtype: int64\n",
      "African-AmericanSingle               22461\n",
      "CaucasianSingle                      15198\n",
      "HispanicSingle                        5514\n",
      "CaucasianMarried                      3012\n",
      "African-AmericanMarried               2538\n",
      "CaucasianDivorced                     2280\n",
      "HispanicMarried                       1776\n",
      "OtherSingle                           1551\n",
      "HispanicDivorced                       825\n",
      "OtherMarried                           696\n",
      "African-AmericanSignificant Other      651\n",
      "African-AmericanDivorced               630\n",
      "CaucasianSeparated                     609\n",
      "African-AmericanSeparated              582\n",
      "HispanicSeparated                      435\n",
      "CaucasianSignificant Other             375\n",
      "CaucasianWidowed                       240\n",
      "AsianSingle                            165\n",
      "Native AmericanSingle                  159\n",
      "OtherSeparated                         135\n",
      "HispanicSignificant Other              117\n",
      "African-AmericanWidowed                114\n",
      "OtherSignificant Other                 111\n",
      "AsianMarried                           105\n",
      "African-AmericanUnknown                 93\n",
      "OtherDivorced                           93\n",
      "CaucasianUnknown                        69\n",
      "HispanicUnknown                         51\n",
      "ArabicSingle                            51\n",
      "AsianDivorced                           39\n",
      "OrientalSingle                          27\n",
      "HispanicWidowed                         24\n",
      "Native AmericanSeparated                24\n",
      "ArabicMarried                           18\n",
      "Native AmericanMarried                  15\n",
      "AsianSeparated                          15\n",
      "OrientalMarried                         12\n",
      "Native AmericanDivorced                 12\n",
      "Native AmericanWidowed                   6\n",
      "OtherWidowed                             6\n",
      "ArabicSeparated                          3\n",
      "ArabicSignificant Other                  3\n",
      "Native AmericanSignificant Other         3\n",
      "Name: EthnicMarital, dtype: int64\n"
     ]
    }
   ],
   "source": [
    "for col in X.columns:\n",
    "    print(X[col].value_counts())"
   ]
  },
  {
   "cell_type": "code",
   "execution_count": 16,
   "id": "4ac4b739",
   "metadata": {
    "scrolled": true
   },
   "outputs": [
    {
     "name": "stdout",
     "output_type": "stream",
     "text": [
      "Agency_Text 4\n",
      "Sex_Code_Text 2\n",
      "ScaleSet 2\n",
      "LegalStatus 7\n",
      "CustodyStatus 6\n",
      "DisplayText 3\n",
      "AssessmentType 2\n",
      "EthnicMarital 43\n"
     ]
    }
   ],
   "source": [
    "for col in X.columns:\n",
    "    print(col,len(X[col].unique()))"
   ]
  },
  {
   "cell_type": "code",
   "execution_count": 17,
   "id": "879752c1",
   "metadata": {},
   "outputs": [],
   "source": [
    "X_tr, X_te, y_tr, y_te = train_test_split(X, y, test_size=0.1, random_state=42)\n",
    "_, X_te, _, y_te = train_test_split(X, y, test_size=0.5, random_state=42)\n"
   ]
  },
  {
   "cell_type": "code",
   "execution_count": 39,
   "id": "d8b92476",
   "metadata": {},
   "outputs": [
    {
     "data": {
      "text/plain": [
       "Pipeline(steps=[('enc',\n",
       "                 OneHotEncoder(cols=['Agency_Text', 'LegalStatus',\n",
       "                                     'CustodyStatus', 'DisplayText',\n",
       "                                     'AssessmentType', 'EthnicMarital'])),\n",
       "                ('model', LogisticRegression())])"
      ]
     },
     "execution_count": 39,
     "metadata": {},
     "output_type": "execute_result"
    }
   ],
   "source": [
    "m = Pipeline([('enc',OneHotEncoder()),('model',LogisticRegression())])\n",
    "m.fit(X_tr,y_tr)"
   ]
  },
  {
   "cell_type": "code",
   "execution_count": 40,
   "id": "d7d84f82",
   "metadata": {},
   "outputs": [
    {
     "data": {
      "text/plain": [
       "0.7117452184958306"
      ]
     },
     "execution_count": 40,
     "metadata": {},
     "output_type": "execute_result"
    }
   ],
   "source": [
    "roc_auc_score(y_te,m.predict_proba(X_te)[:,1])"
   ]
  },
  {
   "cell_type": "code",
   "execution_count": 18,
   "id": "a00a6406",
   "metadata": {},
   "outputs": [],
   "source": [
    "def fit_predict(modelo, enc, data, target, test):\n",
    "    pipe = Pipeline([(\"encoder\", enc), (\"model\", modelo)])\n",
    "    pipe.fit(data, target)\n",
    "    return pipe.predict(test)\n",
    "\n",
    "\n",
    "def auc_group(model, data, y_true, dicc, group: str = \"\", min_samples: int = 50):\n",
    "\n",
    "    aux = data.copy()\n",
    "    aux[\"target\"] = y_true\n",
    "    cats = aux[group].value_counts()\n",
    "    cats = cats[cats > min_samples].index.tolist()\n",
    "    cats = cats + [\"all\"]\n",
    "\n",
    "    if len(dicc) == 0:\n",
    "        dicc = defaultdict(list, {k: [] for k in cats})\n",
    "\n",
    "    for cat in cats:\n",
    "        if cat != \"all\":\n",
    "            aux2 = aux[aux[group] == cat]\n",
    "            preds = model.predict_proba(aux2.drop(columns=\"target\"))[:, 1]\n",
    "            truth = aux2[\"target\"]\n",
    "            dicc[cat].append(roc_auc_score(truth, preds))\n",
    "        elif cat == \"all\":\n",
    "            dicc[cat].append(roc_auc_score(y_true, model.predict_proba(data)[:, 1]))\n",
    "        else:\n",
    "            pass\n",
    "\n",
    "    return dicc"
   ]
  },
  {
   "cell_type": "code",
   "execution_count": 19,
   "id": "5b2d7e4c",
   "metadata": {},
   "outputs": [],
   "source": [
    "def explain(xgb: bool = True):\n",
    "    \"\"\"\n",
    "    Provide a SHAP explanation by fitting MEstimate and GBDT\n",
    "    \"\"\"\n",
    "    if xgb:\n",
    "        pipe = Pipeline(\n",
    "            [(\"encoder\", MEstimateEncoder()), (\"model\", GradientBoostingClassifier())]\n",
    "        )\n",
    "        pipe.fit(X_tr, y_tr)\n",
    "        explainer = shap.Explainer(pipe[1])\n",
    "        shap_values = explainer(pipe[:-1].transform(X_tr))\n",
    "        shap.plots.beeswarm(shap_values)\n",
    "        return pd.DataFrame(np.abs(shap_values.values), columns=X_tr.columns).sum()\n",
    "    else:\n",
    "        pipe = Pipeline(\n",
    "            [(\"encoder\", MEstimateEncoder()), (\"model\", LogisticRegression())]\n",
    "        )\n",
    "        pipe.fit(X_tr, y_tr)\n",
    "        coefficients = pd.concat(\n",
    "            [pd.DataFrame(X_tr.columns), pd.DataFrame(np.transpose(pipe[1].coef_))],\n",
    "            axis=1,\n",
    "        )\n",
    "        coefficients.columns = [\"feat\", \"val\"]\n",
    "\n",
    "        return coefficients.sort_values(by=\"val\", ascending=False)"
   ]
  },
  {
   "cell_type": "code",
   "execution_count": 20,
   "id": "e610fd48",
   "metadata": {},
   "outputs": [],
   "source": [
    "def calculate_cm(true, preds):\n",
    "    # Obtain the confusion matrix\n",
    "    cm = confusion_matrix(preds, true)\n",
    "\n",
    "    #  https://stackoverflow.com/questions/31324218/scikit-learn-how-to-obtain-true-positive-true-negative-false-positive-and-fal\n",
    "    FP = cm.sum(axis=0) - np.diag(cm)\n",
    "    FN = cm.sum(axis=1) - np.diag(cm)\n",
    "    TP = np.diag(cm)\n",
    "    TN = cm.sum() - (FP + FN + TP)\n",
    "\n",
    "    # Sensitivity, hit rate, recall, or true positive rate\n",
    "    TPR = TP / (TP + FN)\n",
    "    # Specificity or true negative rate\n",
    "    TNR = TN / (TN + FP)\n",
    "    # Precision or positive predictive value\n",
    "    PPV = TP / (TP + FP)\n",
    "    # Negative predictive value\n",
    "    NPV = TN / (TN + FN)\n",
    "    # Fall out or false positive rate\n",
    "    FPR = FP / (FP + TN)\n",
    "    # False negative rate\n",
    "    FNR = FN / (TP + FN)\n",
    "    # False discovery rate\n",
    "    FDR = FP / (TP + FP)\n",
    "\n",
    "    # Overall accuracy\n",
    "    ACC = (TP + TN) / (TP + FP + FN + TN)\n",
    "\n",
    "    ##########\n",
    "    ## I AM NOT SURE ABOUT THIS 0 INDEX\n",
    "    ###########\n",
    "    return TPR[0]"
   ]
  },
  {
   "cell_type": "code",
   "execution_count": 21,
   "id": "8512258d",
   "metadata": {},
   "outputs": [],
   "source": [
    "def metric_calculator(\n",
    "    modelo, data: pd.DataFrame, truth: pd.DataFrame, col: str, group1: str, group2: str\n",
    "):\n",
    "    aux = data.copy()\n",
    "    aux[\"target\"] = truth\n",
    "\n",
    "    # Filter the data\n",
    "    g1 = data[data[col] == group1]\n",
    "    g2 = data[data[col] == group2]\n",
    "\n",
    "    # Filter the ground truth\n",
    "    g1_true = aux[aux[col] == group1].target\n",
    "    g2_true = aux[aux[col] == group2].target\n",
    "\n",
    "    # Do predictions\n",
    "    p1 = modelo.predict(g1)\n",
    "    p2 = modelo.predict(g2)\n",
    "\n",
    "    # Extract metrics for each group\n",
    "    res1 = calculate_cm(p1, g1_true)\n",
    "    res2 = calculate_cm(p2, g2_true)\n",
    "    return res1 - res2"
   ]
  },
  {
   "cell_type": "code",
   "execution_count": 24,
   "id": "648d87c1",
   "metadata": {},
   "outputs": [],
   "source": [
    "s = []\n",
    "for i in np.linspace(0.01,1,20):\n",
    "    m = Pipeline([('enc',OneHotEncoder()),('model',LogisticRegression(penalty='elasticnet',solver='saga',l1_ratio=i))])\n",
    "    m.fit(X_tr,y_tr)\n",
    "    s.append(roc_auc_score(y_te,m.predict_proba(X_te)[:,1]))\n",
    "    "
   ]
  },
  {
   "cell_type": "code",
   "execution_count": 25,
   "id": "c7316b38",
   "metadata": {},
   "outputs": [],
   "source": [
    "res = {}\n",
    "for cat,num in X['EthnicMarital'].value_counts().items():\n",
    "    COL = \"EthnicMarital\"\n",
    "    GROUP1 = \"African-AmericanSingle\"\n",
    "    GROUP2 = cat\n",
    "    res[cat] = [metric_calculator(modelo=m,data = X, truth = y,col=COL,group1=GROUP1,group2 =GROUP2),num]\n",
    "    "
   ]
  },
  {
   "cell_type": "code",
   "execution_count": 26,
   "id": "bffbc28d",
   "metadata": {},
   "outputs": [],
   "source": [
    "res = pd.DataFrame(res).T\n",
    "\n",
    "res.columns=['fairness','items']\n",
    "\n",
    "res['items']= res['items'].astype(int)"
   ]
  },
  {
   "cell_type": "code",
   "execution_count": 27,
   "id": "40b41c6d",
   "metadata": {},
   "outputs": [
    {
     "data": {
      "text/html": [
       "<div>\n",
       "<style scoped>\n",
       "    .dataframe tbody tr th:only-of-type {\n",
       "        vertical-align: middle;\n",
       "    }\n",
       "\n",
       "    .dataframe tbody tr th {\n",
       "        vertical-align: top;\n",
       "    }\n",
       "\n",
       "    .dataframe thead th {\n",
       "        text-align: right;\n",
       "    }\n",
       "</style>\n",
       "<table border=\"1\" class=\"dataframe\">\n",
       "  <thead>\n",
       "    <tr style=\"text-align: right;\">\n",
       "      <th></th>\n",
       "      <th>fairness</th>\n",
       "      <th>items</th>\n",
       "    </tr>\n",
       "  </thead>\n",
       "  <tbody>\n",
       "    <tr>\n",
       "      <th>African-AmericanSingle</th>\n",
       "      <td>0.000000</td>\n",
       "      <td>22461</td>\n",
       "    </tr>\n",
       "    <tr>\n",
       "      <th>CaucasianSingle</th>\n",
       "      <td>-0.260433</td>\n",
       "      <td>15198</td>\n",
       "    </tr>\n",
       "    <tr>\n",
       "      <th>HispanicSingle</th>\n",
       "      <td>-0.271972</td>\n",
       "      <td>5514</td>\n",
       "    </tr>\n",
       "    <tr>\n",
       "      <th>CaucasianMarried</th>\n",
       "      <td>-0.281070</td>\n",
       "      <td>3012</td>\n",
       "    </tr>\n",
       "    <tr>\n",
       "      <th>African-AmericanMarried</th>\n",
       "      <td>-0.276936</td>\n",
       "      <td>2538</td>\n",
       "    </tr>\n",
       "    <tr>\n",
       "      <th>CaucasianDivorced</th>\n",
       "      <td>-0.280036</td>\n",
       "      <td>2280</td>\n",
       "    </tr>\n",
       "    <tr>\n",
       "      <th>HispanicMarried</th>\n",
       "      <td>-0.281070</td>\n",
       "      <td>1776</td>\n",
       "    </tr>\n",
       "    <tr>\n",
       "      <th>OtherSingle</th>\n",
       "      <td>-0.280227</td>\n",
       "      <td>1551</td>\n",
       "    </tr>\n",
       "    <tr>\n",
       "      <th>HispanicDivorced</th>\n",
       "      <td>-0.281070</td>\n",
       "      <td>825</td>\n",
       "    </tr>\n",
       "    <tr>\n",
       "      <th>OtherMarried</th>\n",
       "      <td>-0.281070</td>\n",
       "      <td>696</td>\n",
       "    </tr>\n",
       "    <tr>\n",
       "      <th>African-AmericanSignificant Other</th>\n",
       "      <td>-0.269193</td>\n",
       "      <td>651</td>\n",
       "    </tr>\n",
       "    <tr>\n",
       "      <th>African-AmericanDivorced</th>\n",
       "      <td>-0.265753</td>\n",
       "      <td>630</td>\n",
       "    </tr>\n",
       "    <tr>\n",
       "      <th>CaucasianSeparated</th>\n",
       "      <td>-0.275046</td>\n",
       "      <td>609</td>\n",
       "    </tr>\n",
       "    <tr>\n",
       "      <th>African-AmericanSeparated</th>\n",
       "      <td>-0.260969</td>\n",
       "      <td>582</td>\n",
       "    </tr>\n",
       "    <tr>\n",
       "      <th>HispanicSeparated</th>\n",
       "      <td>-0.281070</td>\n",
       "      <td>435</td>\n",
       "    </tr>\n",
       "    <tr>\n",
       "      <th>CaucasianSignificant Other</th>\n",
       "      <td>-0.281070</td>\n",
       "      <td>375</td>\n",
       "    </tr>\n",
       "    <tr>\n",
       "      <th>CaucasianWidowed</th>\n",
       "      <td>-0.281070</td>\n",
       "      <td>240</td>\n",
       "    </tr>\n",
       "    <tr>\n",
       "      <th>AsianSingle</th>\n",
       "      <td>-0.281070</td>\n",
       "      <td>165</td>\n",
       "    </tr>\n",
       "    <tr>\n",
       "      <th>Native AmericanSingle</th>\n",
       "      <td>-0.069959</td>\n",
       "      <td>159</td>\n",
       "    </tr>\n",
       "    <tr>\n",
       "      <th>OtherSeparated</th>\n",
       "      <td>-0.281070</td>\n",
       "      <td>135</td>\n",
       "    </tr>\n",
       "    <tr>\n",
       "      <th>HispanicSignificant Other</th>\n",
       "      <td>-0.281070</td>\n",
       "      <td>117</td>\n",
       "    </tr>\n",
       "    <tr>\n",
       "      <th>African-AmericanWidowed</th>\n",
       "      <td>-0.228438</td>\n",
       "      <td>114</td>\n",
       "    </tr>\n",
       "    <tr>\n",
       "      <th>OtherSignificant Other</th>\n",
       "      <td>-0.281070</td>\n",
       "      <td>111</td>\n",
       "    </tr>\n",
       "    <tr>\n",
       "      <th>AsianMarried</th>\n",
       "      <td>-0.281070</td>\n",
       "      <td>105</td>\n",
       "    </tr>\n",
       "    <tr>\n",
       "      <th>African-AmericanUnknown</th>\n",
       "      <td>-0.249820</td>\n",
       "      <td>93</td>\n",
       "    </tr>\n",
       "    <tr>\n",
       "      <th>OtherDivorced</th>\n",
       "      <td>-0.281070</td>\n",
       "      <td>93</td>\n",
       "    </tr>\n",
       "    <tr>\n",
       "      <th>CaucasianUnknown</th>\n",
       "      <td>-0.281070</td>\n",
       "      <td>69</td>\n",
       "    </tr>\n",
       "    <tr>\n",
       "      <th>HispanicUnknown</th>\n",
       "      <td>-0.281070</td>\n",
       "      <td>51</td>\n",
       "    </tr>\n",
       "    <tr>\n",
       "      <th>ArabicSingle</th>\n",
       "      <td>-0.252499</td>\n",
       "      <td>51</td>\n",
       "    </tr>\n",
       "    <tr>\n",
       "      <th>AsianDivorced</th>\n",
       "      <td>-0.281070</td>\n",
       "      <td>39</td>\n",
       "    </tr>\n",
       "    <tr>\n",
       "      <th>OrientalSingle</th>\n",
       "      <td>-0.281070</td>\n",
       "      <td>27</td>\n",
       "    </tr>\n",
       "    <tr>\n",
       "      <th>HispanicWidowed</th>\n",
       "      <td>-0.281070</td>\n",
       "      <td>24</td>\n",
       "    </tr>\n",
       "    <tr>\n",
       "      <th>Native AmericanSeparated</th>\n",
       "      <td>-0.281070</td>\n",
       "      <td>24</td>\n",
       "    </tr>\n",
       "    <tr>\n",
       "      <th>ArabicMarried</th>\n",
       "      <td>-0.281070</td>\n",
       "      <td>18</td>\n",
       "    </tr>\n",
       "    <tr>\n",
       "      <th>Native AmericanMarried</th>\n",
       "      <td>-0.281070</td>\n",
       "      <td>15</td>\n",
       "    </tr>\n",
       "    <tr>\n",
       "      <th>AsianSeparated</th>\n",
       "      <td>-0.281070</td>\n",
       "      <td>15</td>\n",
       "    </tr>\n",
       "    <tr>\n",
       "      <th>OrientalMarried</th>\n",
       "      <td>-0.281070</td>\n",
       "      <td>12</td>\n",
       "    </tr>\n",
       "    <tr>\n",
       "      <th>Native AmericanDivorced</th>\n",
       "      <td>-0.281070</td>\n",
       "      <td>12</td>\n",
       "    </tr>\n",
       "    <tr>\n",
       "      <th>Native AmericanWidowed</th>\n",
       "      <td>-0.281070</td>\n",
       "      <td>6</td>\n",
       "    </tr>\n",
       "    <tr>\n",
       "      <th>OtherWidowed</th>\n",
       "      <td>-0.281070</td>\n",
       "      <td>6</td>\n",
       "    </tr>\n",
       "    <tr>\n",
       "      <th>ArabicSeparated</th>\n",
       "      <td>-0.281070</td>\n",
       "      <td>3</td>\n",
       "    </tr>\n",
       "    <tr>\n",
       "      <th>ArabicSignificant Other</th>\n",
       "      <td>-0.281070</td>\n",
       "      <td>3</td>\n",
       "    </tr>\n",
       "    <tr>\n",
       "      <th>Native AmericanSignificant Other</th>\n",
       "      <td>-0.281070</td>\n",
       "      <td>3</td>\n",
       "    </tr>\n",
       "  </tbody>\n",
       "</table>\n",
       "</div>"
      ],
      "text/plain": [
       "                                   fairness  items\n",
       "African-AmericanSingle             0.000000  22461\n",
       "CaucasianSingle                   -0.260433  15198\n",
       "HispanicSingle                    -0.271972   5514\n",
       "CaucasianMarried                  -0.281070   3012\n",
       "African-AmericanMarried           -0.276936   2538\n",
       "CaucasianDivorced                 -0.280036   2280\n",
       "HispanicMarried                   -0.281070   1776\n",
       "OtherSingle                       -0.280227   1551\n",
       "HispanicDivorced                  -0.281070    825\n",
       "OtherMarried                      -0.281070    696\n",
       "African-AmericanSignificant Other -0.269193    651\n",
       "African-AmericanDivorced          -0.265753    630\n",
       "CaucasianSeparated                -0.275046    609\n",
       "African-AmericanSeparated         -0.260969    582\n",
       "HispanicSeparated                 -0.281070    435\n",
       "CaucasianSignificant Other        -0.281070    375\n",
       "CaucasianWidowed                  -0.281070    240\n",
       "AsianSingle                       -0.281070    165\n",
       "Native AmericanSingle             -0.069959    159\n",
       "OtherSeparated                    -0.281070    135\n",
       "HispanicSignificant Other         -0.281070    117\n",
       "African-AmericanWidowed           -0.228438    114\n",
       "OtherSignificant Other            -0.281070    111\n",
       "AsianMarried                      -0.281070    105\n",
       "African-AmericanUnknown           -0.249820     93\n",
       "OtherDivorced                     -0.281070     93\n",
       "CaucasianUnknown                  -0.281070     69\n",
       "HispanicUnknown                   -0.281070     51\n",
       "ArabicSingle                      -0.252499     51\n",
       "AsianDivorced                     -0.281070     39\n",
       "OrientalSingle                    -0.281070     27\n",
       "HispanicWidowed                   -0.281070     24\n",
       "Native AmericanSeparated          -0.281070     24\n",
       "ArabicMarried                     -0.281070     18\n",
       "Native AmericanMarried            -0.281070     15\n",
       "AsianSeparated                    -0.281070     15\n",
       "OrientalMarried                   -0.281070     12\n",
       "Native AmericanDivorced           -0.281070     12\n",
       "Native AmericanWidowed            -0.281070      6\n",
       "OtherWidowed                      -0.281070      6\n",
       "ArabicSeparated                   -0.281070      3\n",
       "ArabicSignificant Other           -0.281070      3\n",
       "Native AmericanSignificant Other  -0.281070      3"
      ]
     },
     "execution_count": 27,
     "metadata": {},
     "output_type": "execute_result"
    }
   ],
   "source": [
    "res"
   ]
  },
  {
   "cell_type": "code",
   "execution_count": 28,
   "id": "403d1d44",
   "metadata": {},
   "outputs": [],
   "source": [
    "def plot_rolling(data, roll_mean: int = 5, roll_std: int = 20):\n",
    "\n",
    "    aux = data.rolling(roll_mean).mean().dropna()\n",
    "    stand = data.rolling(roll_std).quantile(0.05, interpolation=\"lower\").dropna()\n",
    "    plt.figure()\n",
    "    for col in data.columns:\n",
    "        plt.plot(aux[col], label=col)\n",
    "        # plt.fill_between(aux.index,(aux[col] - stand[col]),(aux[col] + stand[col]),# color=\"b\",alpha=0.1,)\n",
    "    plt.legend()\n",
    "    plt.show()"
   ]
  },
  {
   "cell_type": "code",
   "execution_count": 29,
   "id": "7ec0a31c",
   "metadata": {},
   "outputs": [],
   "source": [
    "def scale_output(data):\n",
    "    return pd.DataFrame(\n",
    "        StandardScaler().fit_transform(data), columns=data.columns, index=data.index\n",
    "    )"
   ]
  },
  {
   "cell_type": "markdown",
   "id": "c4bf5114",
   "metadata": {},
   "source": [
    "# Experiment"
   ]
  },
  {
   "cell_type": "code",
   "execution_count": 30,
   "id": "2aec17b0",
   "metadata": {
    "scrolled": true
   },
   "outputs": [],
   "source": [
    "def fair_encoder(model, param: list, enc: str = \"mestimate\", un_regularize: list = []):\n",
    "    auc = {}\n",
    "    metrica = []\n",
    "    auc_tot = []\n",
    "\n",
    "    allowed_enc = [\n",
    "        \"mestimate\",\n",
    "        \"targetenc\",\n",
    "        \"leaveoneout\",\n",
    "        \"ohe\",\n",
    "        \"woe\",\n",
    "        \"james\",\n",
    "        \"catboost\",\n",
    "    ]\n",
    "    assert (\n",
    "        enc in allowed_enc\n",
    "    ), \"Encoder not available or check for spelling mistakes: {}\".format(allowed_enc)\n",
    "\n",
    "    cols_enc = set(X_tr.columns) - set(un_regularize)\n",
    "\n",
    "    for m in tqdm(param):\n",
    "        if enc == \"mestimate\":\n",
    "            encoder = Pipeline(\n",
    "                [\n",
    "                    (\"reg\", MEstimateEncoder(m=m, cols=cols_enc)),\n",
    "                    (\"unreg\", MEstimateEncoder(m=0, cols=un_regularize)),\n",
    "                ]\n",
    "            )\n",
    "        elif enc == \"targetenc\":\n",
    "            encoder = TargetEncoder(smoothing=m)\n",
    "        elif enc == \"leaveoneout\":\n",
    "            encoder = Pipeline(\n",
    "                [\n",
    "                    (\"reg\", LeaveOneOutEncoder(sigma=m, cols=cols_enc)),\n",
    "                    (\"unreg\", LeaveOneOutEncoder(sigma=0, cols=un_regularize)),\n",
    "                ]\n",
    "            )\n",
    "        elif enc == \"ohe\":\n",
    "            encoder = OneHotEncoder(handle_missing=-1)\n",
    "        elif enc == \"woe\":\n",
    "            encoder = WOEEncoder(randomized=True, sigma=m)\n",
    "        elif enc == \"james\":\n",
    "            encoder = JamesSteinEncoder(randomized=True, sigma=m)\n",
    "        elif enc == \"catboost\":\n",
    "            encoder = Pipeline(\n",
    "                [\n",
    "                    (\"reg\", CatBoostEncoder(a=1, sigma=m, cols=cols_enc)),\n",
    "                    (\"unreg\", CatBoostEncoder(a=1, sigma=0, cols=un_regularize)),\n",
    "                ]\n",
    "            ) \n",
    "\n",
    "        pipe = Pipeline([(\"encoder\", encoder), (\"model\", model)])\n",
    "        pipe.fit(X_tr, y_tr)\n",
    "        preds = pipe.predict(X_te)\n",
    "\n",
    "        metrica.append(\n",
    "            metric_calculator(\n",
    "                modelo=pipe,\n",
    "                data=X_tr,\n",
    "                truth=y_tr,\n",
    "                col=COL,\n",
    "                group1=GROUP1,\n",
    "                group2=GROUP2,\n",
    "            )\n",
    "        )\n",
    "        auc = auc_group(model=pipe, data=X_te, y_true=y_te, dicc=auc, group=COL)\n",
    "        auc_tot.append(roc_auc_score(y_te, pipe.predict_proba(X_te)[:, 1]))\n",
    "\n",
    "    # Results formatting\n",
    "    res = pd.DataFrame(index=param)\n",
    "    res[\"fairness_metric\"] = metrica\n",
    "    res[\"auc_tot\"] = auc_tot\n",
    "    res[\"auc_\" + GROUP1] = auc[GROUP1]\n",
    "    res[\"auc_\" + GROUP2] = auc[GROUP2]\n",
    "\n",
    "    return res"
   ]
  },
  {
   "cell_type": "code",
   "execution_count": 31,
   "id": "9bcc3cef",
   "metadata": {},
   "outputs": [],
   "source": [
    "# Experiment parameters\n",
    "COL = \"EthnicMarital\"\n",
    "GROUP1 = \"African-AmericanSingle\"\n",
    "GROUP2 = \"CaucasianMarried\"\n",
    "PARAM = np.linspace(0, 1, 50)\n"
   ]
  },
  {
   "cell_type": "code",
   "execution_count": 33,
   "id": "282d9339",
   "metadata": {},
   "outputs": [
    {
     "data": {
      "text/plain": [
       "Index(['Agency_Text', 'Sex_Code_Text', 'ScaleSet', 'LegalStatus',\n",
       "       'CustodyStatus', 'DisplayText', 'AssessmentType', 'EthnicMarital'],\n",
       "      dtype='object')"
      ]
     },
     "execution_count": 33,
     "metadata": {},
     "output_type": "execute_result"
    }
   ],
   "source": [
    "X.columns"
   ]
  },
  {
   "cell_type": "code",
   "execution_count": 35,
   "id": "2a1fbed3",
   "metadata": {},
   "outputs": [],
   "source": [
    "cols_enc =  [\n",
    "        \"Agency_Text\",\n",
    "        \"Sex_Code_Text\",\n",
    "        \"ScaleSet\",\n",
    "\n",
    "        \"LegalStatus\",\n",
    "        \"CustodyStatus\",\n",
    "        \"DisplayText\",\n",
    "        \"AssessmentType\",\n",
    "\n",
    "    ]"
   ]
  },
  {
   "cell_type": "code",
   "execution_count": 36,
   "id": "10ea013f",
   "metadata": {},
   "outputs": [
    {
     "data": {
      "application/vnd.jupyter.widget-view+json": {
       "model_id": "d9d3f1c8f36644e1945b0d5cd0b6c785",
       "version_major": 2,
       "version_minor": 0
      },
      "text/plain": [
       "  0%|          | 0/1 [00:00<?, ?it/s]"
      ]
     },
     "metadata": {},
     "output_type": "display_data"
    },
    {
     "data": {
      "application/vnd.jupyter.widget-view+json": {
       "model_id": "71fd96351ad041d4a8d439c93600c78d",
       "version_major": 2,
       "version_minor": 0
      },
      "text/plain": [
       "  0%|          | 0/50 [00:00<?, ?it/s]"
      ]
     },
     "metadata": {},
     "output_type": "display_data"
    },
    {
     "data": {
      "application/vnd.jupyter.widget-view+json": {
       "model_id": "2774ec58a3ef4b6f907e755df73069ea",
       "version_major": 2,
       "version_minor": 0
      },
      "text/plain": [
       "  0%|          | 0/50 [00:00<?, ?it/s]"
      ]
     },
     "metadata": {},
     "output_type": "display_data"
    }
   ],
   "source": [
    "## LR\n",
    "one_hot1 = fair_encoder(model=LogisticRegression(), enc=\"ohe\", param=[0])\n",
    "\n",
    "PARAM = np.linspace(0, 1, 50)\n",
    "gaus1 = fair_encoder(\n",
    "    model=LogisticRegression(),\n",
    "    enc=\"catboost\",\n",
    "    param=PARAM,\n",
    "    un_regularize=cols_enc,\n",
    ")\n",
    "PARAM = np.linspace(0, 100, 50)\n",
    "smooth1 = fair_encoder(\n",
    "    model=LogisticRegression(),\n",
    "    enc=\"mestimate\",\n",
    "    param=PARAM,\n",
    "    un_regularize=cols_enc,\n",
    ")"
   ]
  },
  {
   "cell_type": "code",
   "execution_count": 37,
   "id": "f228d69c",
   "metadata": {
    "scrolled": true
   },
   "outputs": [
    {
     "data": {
      "image/png": "[encoded data removed]",
      "text/plain": [
       "<Figure size 720x360 with 2 Axes>"
      ]
     },
     "metadata": {},
     "output_type": "display_data"
    }
   ],
   "source": [
    "fig, axs = plt.subplots(1, 2,  sharex=True, sharey=True)\n",
    "\n",
    "#LR\n",
    "axs[0].set_title(\"Logistic Regression + Gaussian Noise\")\n",
    "axs[0].scatter(\n",
    "    gaus1[\"auc_tot\"].values,\n",
    "    gaus1[\"fairness_metric\"].values,\n",
    "    s=100,\n",
    "    c=gaus1.index.values,\n",
    "    cmap=\"Reds\",\n",
    "    label=\"Regularization Parameter (Darker=High)\",\n",
    ")\n",
    "axs[0].scatter(\n",
    "    y=one_hot1.fairness_metric, x=one_hot1.auc_tot, s=100, label=\"One Hot Encoder\"\n",
    ")\n",
    "axs[0].legend()\n",
    "\n",
    "axs[0].set(xlabel=\"AUC\")\n",
    "axs[1].set(xlabel=\"AUC\")\n",
    "axs[0].set(ylabel=\"Equal opportunity fairness (TPR)\")\n",
    "\n",
    "\n",
    "axs[1].set_title(\"Logistic Regression + Smoothing Regularizer\")\n",
    "axs[1].scatter(\n",
    "    smooth1[\"auc_tot\"].values,\n",
    "    smooth1[\"fairness_metric\"].values,\n",
    "    s=100,\n",
    "    c=smooth1.index.values,\n",
    "    cmap=\"Reds\",\n",
    "    label=\"Regularization Parameter (Darker=High)\",\n",
    ")\n",
    "axs[1].scatter(\n",
    "    y=one_hot1.fairness_metric, x=one_hot1.auc_tot, s=100, label=\"One Hot Encoder\"\n",
    ")\n",
    "fig.savefig('images/interCompasLinear.eps',format='eps')\n",
    "fig.show()"
   ]
  },
  {
   "cell_type": "code",
   "execution_count": null,
   "id": "0964f1c4",
   "metadata": {},
   "outputs": [],
   "source": [
    "fig, axs = plt.subplots(1, 2,sharex=True)\n",
    "\n",
    "fig.suptitle(\"Gaussian regularization target encoding\")\n",
    "aux = (\n",
    "    gaus1[[\"auc_tot\", \"auc_African-AmericanSingle\", \"auc_CaucasianMarried\"]]\n",
    "    .rolling(5)\n",
    "    .mean()\n",
    "    .dropna()\n",
    ")\n",
    "\n",
    "\n",
    "for col in aux.columns:\n",
    "    axs[0].plot(aux[col], label=col)\n",
    "    # plt.fill_between(aux.index,(aux[col] - stand[col]),(aux[col] + stand[col]),# color=\"b\",alpha=0.1,)\n",
    "axs[0].legend()\n",
    "axs[0].set_title(\"Model performance\")\n",
    "axs[0].set_ylabel(\"AUC\")\n",
    "axs[0].set_xlabel(\"Regularization parameter\")\n",
    "\n",
    "aux = gaus1[[\"fairness_metric\"]].rolling(5).mean().dropna()\n",
    "\n",
    "axs[1].plot(aux['fairness_metric'], label=GROUP1+' vs '+ GROUP2,color='r')\n",
    "\n",
    "axs[1].legend()\n",
    "axs[1].set_title(\"Fairness Metric\")\n",
    "axs[1].set_ylabel(\"Equal opportunity fairness (TPR)\")\n",
    "axs[1].set_xlabel(\"Regularization parameter\")\n",
    "plt.savefig('images/compassHyperGaussian.eps',format='eps')\n",
    "plt.show()"
   ]
  },
  {
   "cell_type": "code",
   "execution_count": null,
   "id": "efb6eff8",
   "metadata": {},
   "outputs": [],
   "source": [
    "## LR\n",
    "#one_hot1 = fair_encoder(model=LogisticRegression(), enc=\"ohe\", param=[0])\n",
    "\n",
    "#PARAM = np.linspace(0, 1, 50)\n",
    "#gaus1 = fair_encoder(model=LogisticRegression(), enc=\"catboost\", param=PARAM,un_regularize=['Agency_Text', 'Sex_Code_Text', 'ScaleSet', 'AssessmentReason','LegalStatus', 'CustodyStatus', 'DisplayText', 'AssessmentType','IsCompleted', 'IsDeleted'])\n",
    "#PARAM = np.linspace(0, 100, 50)\n",
    "#smooth1 = fair_encoder(model=LogisticRegression(), enc=\"mestimate\", param=PARAM,un_regularize=['Agency_Text', 'Sex_Code_Text', 'ScaleSet', 'AssessmentReason','LegalStatus', 'CustodyStatus', 'DisplayText', 'AssessmentType','IsCompleted', 'IsDeleted'])\n",
    "## DT\n",
    "one_hot2 = fair_encoder(model=DecisionTreeClassifier(max_depth=5), enc=\"ohe\", param=[0])\n",
    "PARAM = np.linspace(0, 1, 50)\n",
    "gaus2 = fair_encoder(model=DecisionTreeClassifier(max_depth=5), enc=\"catboost\", param=PARAM,un_regularize=['Agency_Text', 'Sex_Code_Text', 'ScaleSet', 'AssessmentReason',\n",
    "       'LegalStatus', 'CustodyStatus', 'DisplayText', 'AssessmentType',\n",
    "       'IsCompleted', 'IsDeleted'])\n",
    "PARAM = np.linspace(0, 100, 50)\n",
    "smooth2 = fair_encoder(model=DecisionTreeClassifier(max_depth=5), enc=\"mestimate\", param=PARAM,un_regularize=['Agency_Text', 'Sex_Code_Text', 'ScaleSet', 'AssessmentReason',\n",
    "       'LegalStatus', 'CustodyStatus', 'DisplayText', 'AssessmentType',\n",
    "       'IsCompleted', 'IsDeleted'])\n",
    "## GBDT\n",
    "one_hot3 = fair_encoder(model=GradientBoostingClassifier(), enc=\"ohe\", param=[0])\n",
    "\n",
    "PARAM = np.linspace(0, 1, 50)\n",
    "gaus3 = fair_encoder(model=GradientBoostingClassifier(), enc=\"catboost\", param=PARAM,un_regularize=['Agency_Text', 'Sex_Code_Text', 'ScaleSet', 'AssessmentReason',\n",
    "       'LegalStatus', 'CustodyStatus', 'DisplayText', 'AssessmentType',\n",
    "       'IsCompleted', 'IsDeleted'])\n",
    "PARAM = np.linspace(0, 100, 50)\n",
    "smooth3 = fair_encoder(model=GradientBoostingClassifier(), enc=\"mestimate\", param=PARAM,un_regularize=['Agency_Text', 'Sex_Code_Text', 'ScaleSet', 'AssessmentReason',\n",
    "       'LegalStatus', 'CustodyStatus', 'DisplayText', 'AssessmentType',\n",
    "       'IsCompleted', 'IsDeleted'])"
   ]
  },
  {
   "cell_type": "code",
   "execution_count": null,
   "id": "622cecd3",
   "metadata": {
    "scrolled": false
   },
   "outputs": [],
   "source": [
    "fig, axs = plt.subplots(3, 2, figsize=(15, 15), sharex=True, sharey=True)\n",
    "\n",
    "#LR\n",
    "axs[0, 0].set_title(\"Logistic Regression + Gaussian Noise\")\n",
    "axs[0, 0].scatter(\n",
    "    gaus1[\"auc_tot\"].values,\n",
    "    gaus1[\"fairness_metric\"].values,\n",
    "    s=100,\n",
    "    c=gaus1.index.values,\n",
    "    cmap=\"Reds\",\n",
    "    label=\"Regularization Parameter (Darker=High)\",\n",
    ")\n",
    "axs[0, 0].scatter(\n",
    "    y=one_hot1.fairness_metric, x=one_hot1.auc_tot, s=100, label=\"One Hot Encoder\"\n",
    ")\n",
    "axs[0,0].legend()\n",
    "axs[0, 1].set_title(\"Logistic Regression + Smoothing Regularizer\")\n",
    "axs[0, 1].scatter(\n",
    "    smooth1[\"auc_tot\"].values,\n",
    "    smooth1[\"fairness_metric\"].values,\n",
    "    s=100,\n",
    "    c=smooth1.index.values,\n",
    "    cmap=\"Reds\",\n",
    "    label=\"Regularization Parameter (Darker=High)\",\n",
    ")\n",
    "axs[0, 1].scatter(\n",
    "    y=one_hot1.fairness_metric, x=one_hot1.auc_tot, s=100, label=\"One Hot Encoder\"\n",
    ")\n",
    "\n",
    "## DT\n",
    "axs[1, 0].set_title(\"Decision Tree + Gaussian Noise\")\n",
    "axs[1, 0].set(ylabel=\"Equal opportunity fairness (TPR)\")\n",
    "axs[1, 0].scatter(\n",
    "    gaus2[\"auc_tot\"].values,\n",
    "    gaus2[\"fairness_metric\"].values,\n",
    "    s=100,\n",
    "    c=gaus2.index.values,\n",
    "    cmap=\"Reds\",\n",
    "    label=\"Regularization Parameter (Darker=High)\",\n",
    ")\n",
    "axs[1, 0].scatter(\n",
    "    y=one_hot2.fairness_metric, x=one_hot2.auc_tot, s=100, label=\"One Hot Encoder\"\n",
    ")\n",
    "\n",
    "axs[1, 1].set_title(\"Decision Tree + Smoothing Regularizer\")\n",
    "axs[1, 1].scatter(\n",
    "    smooth2[\"auc_tot\"].values,\n",
    "    smooth2[\"fairness_metric\"].values,\n",
    "    s=100,\n",
    "    c=smooth2.index.values,\n",
    "    cmap=\"Reds\",\n",
    "    label=\"Regularization Parameter (Darker=High)\",\n",
    ")\n",
    "axs[1, 1].scatter(\n",
    "    y=one_hot2.fairness_metric, x=one_hot2.auc_tot, s=100, label=\"One Hot Encoder\"\n",
    ")\n",
    "\n",
    "# GBDT\n",
    "axs[2, 0].set_title(\"Gradient Boosting + Gaussian Noise\")\n",
    "axs[2, 0].set(xlabel=\"AUC\")\n",
    "axs[2, 0].scatter(\n",
    "    gaus3[\"auc_tot\"].values,\n",
    "    gaus3[\"fairness_metric\"].values,\n",
    "    s=100,\n",
    "    c=gaus3.index.values,\n",
    "    cmap=\"Reds\",\n",
    "    label=\"Regularization Parameter (Darker=High)\",\n",
    ")\n",
    "axs[2, 0].scatter(\n",
    "    y=one_hot3.fairness_metric, x=one_hot3.auc_tot, s=100, label=\"One Hot Encoder\"\n",
    ")\n",
    "\n",
    "axs[2, 1].set_title(\"Gradient Boosting + Smoothing Regularizer\")\n",
    "axs[2, 1].set(xlabel=\"AUC\")\n",
    "axs[2, 1].scatter(\n",
    "    smooth3[\"auc_tot\"].values,\n",
    "    smooth3[\"fairness_metric\"].values,\n",
    "    s=100,\n",
    "    c=smooth3.index.values,\n",
    "    cmap=\"Reds\",\n",
    "    label=\"Regularization Parameter (Darker=High)\",\n",
    ")\n",
    "axs[2, 1].scatter(\n",
    "    y=one_hot3.fairness_metric, x=one_hot3.auc_tot, s=100, label=\"One Hot Encoder\"\n",
    ")\n",
    "fig.savefig('images/encCompa1image_inter.eps',format='eps')\n",
    "fig.show()"
   ]
  },
  {
   "cell_type": "code",
   "execution_count": null,
   "id": "850d2c4f",
   "metadata": {},
   "outputs": [],
   "source": [
    "kk"
   ]
  },
  {
   "cell_type": "code",
   "execution_count": null,
   "id": "76e1dcb7",
   "metadata": {},
   "outputs": [],
   "source": [
    "fig, axs = plt.subplots(1, 2,sharex=True)\n",
    "\n",
    "fig.suptitle(\"Gaussian regularization target encoding\")\n",
    "aux = (\n",
    "    gaus1[[\"auc_tot\", \"auc_African-AmericanSingle\", \"auc_AsianSingle\"]]\n",
    "    .rolling(5)\n",
    "    .mean()\n",
    "    .dropna()\n",
    ")\n",
    "\n",
    "\n",
    "for col in aux.columns:\n",
    "    axs[0].plot(aux[col], label=col)\n",
    "    # plt.fill_between(aux.index,(aux[col] - stand[col]),(aux[col] + stand[col]),# color=\"b\",alpha=0.1,)\n",
    "axs[0].legend()\n",
    "axs[0].set_title(\"Model performance\")\n",
    "axs[0].set_ylabel(\"AUC\")\n",
    "axs[0].set_xlabel(\"Regularization parameter\")\n",
    "\n",
    "aux = gaus1[[\"fairness_metric\"]].rolling(5).mean().dropna()\n",
    "\n",
    "axs[1].plot(aux['fairness_metric'], label=GROUP1+' vs '+ GROUP2,color='r')\n",
    "\n",
    "axs[1].legend()\n",
    "axs[1].set_title(\"Fairness Metric\")\n",
    "axs[1].set_ylabel(\"Equal opportunity fairness (TPR)\")\n",
    "axs[1].set_xlabel(\"Regularization parameter\")\n",
    "plt.savefig('images/compassHyperGaussian.eps',format='eps')\n",
    "plt.show()"
   ]
  },
  {
   "cell_type": "code",
   "execution_count": null,
   "id": "c098434c",
   "metadata": {},
   "outputs": [],
   "source": [
    "fig, axs = plt.subplots(1, 2,sharex=True)\n",
    "\n",
    "fig.suptitle(\"Smoothing regularization target encoding\")\n",
    "aux = (\n",
    "    smooth1[[\"auc_tot\", \"auc_African-AmericanSingle\", \"auc_AsianSingle\"]]\n",
    "    .rolling(5)\n",
    "    .mean()\n",
    "    .dropna()\n",
    ")\n",
    "\n",
    "\n",
    "for col in aux.columns:\n",
    "    axs[0].plot(aux[col], label=col)\n",
    "    # plt.fill_between(aux.index,(aux[col] - stand[col]),(aux[col] + stand[col]),# color=\"b\",alpha=0.1,)\n",
    "axs[0].legend()\n",
    "axs[0].set_title(\"Model performance\")\n",
    "axs[0].set_ylabel(\"AUC\")\n",
    "axs[0].set_xlabel(\"Regularization parameter\")\n",
    "\n",
    "aux = smooth1[[\"fairness_metric\"]].rolling(5).mean().dropna()\n",
    "\n",
    "axs[1].plot(aux['fairness_metric'], label=GROUP1+' vs '+ GROUP2,color='r')\n",
    "\n",
    "axs[1].legend()\n",
    "axs[1].set_title(\"Fairness Metric\")\n",
    "axs[1].set_ylabel(\"Equal opportunity fairness (TPR)\")\n",
    "axs[1].set_xlabel(\"Regularization parameter\")\n",
    "plt.show()"
   ]
  },
  {
   "cell_type": "code",
   "execution_count": null,
   "id": "da1fa4da",
   "metadata": {},
   "outputs": [],
   "source": [
    "gaus1.columns"
   ]
  },
  {
   "cell_type": "code",
   "execution_count": null,
   "id": "c8813ddf",
   "metadata": {
    "scrolled": false
   },
   "outputs": [],
   "source": [
    "fig, axs = plt.subplots(1, 2)\n",
    "ax1[0] = plot_rolling(gaus1[[\"auc_tot\", \"auc_African-AmericanSingle\", \"auc_AsianSingle\"]])"
   ]
  },
  {
   "cell_type": "code",
   "execution_count": null,
   "id": "1730b501",
   "metadata": {},
   "outputs": [],
   "source": [
    "smooth1"
   ]
  },
  {
   "cell_type": "code",
   "execution_count": null,
   "id": "0535f57a",
   "metadata": {},
   "outputs": [],
   "source": [
    "X_trkk"
   ]
  },
  {
   "cell_type": "markdown",
   "id": "db1cd9fe",
   "metadata": {},
   "source": [
    "# Time evaluation"
   ]
  },
  {
   "cell_type": "markdown",
   "id": "c11bc090",
   "metadata": {},
   "source": [
    "## Logistic"
   ]
  },
  {
   "cell_type": "code",
   "execution_count": null,
   "id": "4ff232b7",
   "metadata": {},
   "outputs": [],
   "source": [
    "fast = Pipeline([('enc',MEstimateEncoder()),('model',LogisticRegression())])"
   ]
  },
  {
   "cell_type": "code",
   "execution_count": null,
   "id": "a9c59237",
   "metadata": {
    "scrolled": true
   },
   "outputs": [],
   "source": [
    "%%timeit -n 10\n",
    "fast.fit(X,y)\n"
   ]
  },
  {
   "cell_type": "code",
   "execution_count": null,
   "id": "bf1ac22b",
   "metadata": {},
   "outputs": [],
   "source": [
    "fast = Pipeline([('enc',CatBoostEncoder()),('model',LogisticRegression())])\n"
   ]
  },
  {
   "cell_type": "code",
   "execution_count": null,
   "id": "87e1747e",
   "metadata": {},
   "outputs": [],
   "source": [
    "%%timeit -n 10\n",
    "fast.fit(X,y)"
   ]
  },
  {
   "cell_type": "code",
   "execution_count": null,
   "id": "5d35d509",
   "metadata": {},
   "outputs": [],
   "source": [
    "fast = Pipeline([('enc',OneHotEncoder()),('model',LogisticRegression())])\n"
   ]
  },
  {
   "cell_type": "code",
   "execution_count": null,
   "id": "ca24549b",
   "metadata": {},
   "outputs": [],
   "source": [
    "%%timeit -n 10\n",
    "fast.fit(X,y)"
   ]
  },
  {
   "cell_type": "code",
   "execution_count": null,
   "id": "d110f562",
   "metadata": {},
   "outputs": [],
   "source": [
    "fast = Pipeline([('enc',LeaveOneOutEncoder(sigma=1)),('model',LogisticRegression())])"
   ]
  },
  {
   "cell_type": "code",
   "execution_count": null,
   "id": "8389abd7",
   "metadata": {},
   "outputs": [],
   "source": [
    "%%timeit -n 10\n",
    "fast.fit(X,y)"
   ]
  },
  {
   "cell_type": "markdown",
   "id": "c91fbbbb",
   "metadata": {},
   "source": [
    "## Decision Tree"
   ]
  },
  {
   "cell_type": "code",
   "execution_count": null,
   "id": "ecc3ff6f",
   "metadata": {},
   "outputs": [],
   "source": [
    "fast = Pipeline([('enc',MEstimateEncoder()),('model',DecisionTreeClassifier())])"
   ]
  },
  {
   "cell_type": "code",
   "execution_count": null,
   "id": "321bf148",
   "metadata": {
    "scrolled": true
   },
   "outputs": [],
   "source": [
    "%%timeit -n 10\n",
    "fast.fit(X,y)\n"
   ]
  },
  {
   "cell_type": "code",
   "execution_count": null,
   "id": "b54b2ef3",
   "metadata": {},
   "outputs": [],
   "source": [
    "fast = Pipeline([('enc',CatBoostEncoder()),('model',DecisionTreeClassifier())])\n"
   ]
  },
  {
   "cell_type": "code",
   "execution_count": null,
   "id": "bb9cd9a1",
   "metadata": {},
   "outputs": [],
   "source": [
    "%%timeit -n 10\n",
    "fast.fit(X,y)"
   ]
  },
  {
   "cell_type": "code",
   "execution_count": null,
   "id": "007e4807",
   "metadata": {},
   "outputs": [],
   "source": [
    "fast = Pipeline([('enc',OneHotEncoder()),('model',DecisionTreeClassifier())])\n"
   ]
  },
  {
   "cell_type": "code",
   "execution_count": null,
   "id": "ceb40d76",
   "metadata": {},
   "outputs": [],
   "source": [
    "%%timeit -n 10\n",
    "fast.fit(X,y)"
   ]
  },
  {
   "cell_type": "code",
   "execution_count": null,
   "id": "f71a7ed4",
   "metadata": {},
   "outputs": [],
   "source": [
    "fast = Pipeline([('enc',LeaveOneOutEncoder(sigma=1)),('model',DecisionTreeClassifier())])"
   ]
  },
  {
   "cell_type": "code",
   "execution_count": null,
   "id": "444194a3",
   "metadata": {},
   "outputs": [],
   "source": [
    "%%timeit -n 10\n",
    "fast.fit(X,y)"
   ]
  },
  {
   "cell_type": "markdown",
   "id": "fffd13be",
   "metadata": {},
   "source": [
    "## GBDT"
   ]
  },
  {
   "cell_type": "code",
   "execution_count": null,
   "id": "56e9fc30",
   "metadata": {},
   "outputs": [],
   "source": [
    "fast = Pipeline([('enc',MEstimateEncoder()),('model',GradientBoostingClassifier())])"
   ]
  },
  {
   "cell_type": "code",
   "execution_count": null,
   "id": "5cb80d83",
   "metadata": {
    "scrolled": true
   },
   "outputs": [],
   "source": [
    "%%timeit -n 10\n",
    "fast.fit(X,y)\n"
   ]
  },
  {
   "cell_type": "code",
   "execution_count": null,
   "id": "ff87eeb2",
   "metadata": {},
   "outputs": [],
   "source": [
    "fast = Pipeline([('enc',CatBoostEncoder()),('model',GradientBoostingClassifier())])\n"
   ]
  },
  {
   "cell_type": "code",
   "execution_count": null,
   "id": "f43d9dad",
   "metadata": {},
   "outputs": [],
   "source": [
    "%%timeit -n 10\n",
    "fast.fit(X,y)"
   ]
  },
  {
   "cell_type": "code",
   "execution_count": null,
   "id": "d8492d0d",
   "metadata": {},
   "outputs": [],
   "source": [
    "fast = Pipeline([('enc',OneHotEncoder()),('model',GradientBoostingClassifier())])\n"
   ]
  },
  {
   "cell_type": "code",
   "execution_count": null,
   "id": "30bc2ab3",
   "metadata": {},
   "outputs": [],
   "source": [
    "%%timeit -n 10\n",
    "fast.fit(X,y)"
   ]
  },
  {
   "cell_type": "code",
   "execution_count": null,
   "id": "9b798995",
   "metadata": {},
   "outputs": [],
   "source": [
    "fast = Pipeline([('enc',LeaveOneOutEncoder(sigma=1)),('model',GradientBoostingClassifier())])\n"
   ]
  },
  {
   "cell_type": "code",
   "execution_count": null,
   "id": "3b46a97d",
   "metadata": {},
   "outputs": [],
   "source": [
    "%%timeit -n 10\n",
    "fast.fit(X,y)"
   ]
  },
  {
   "cell_type": "code",
   "execution_count": null,
   "id": "25417790",
   "metadata": {},
   "outputs": [],
   "source": []
  }
 ],
 "metadata": {
  "kernelspec": {
   "display_name": "quantile",
   "language": "python",
   "name": "quantile"
  },
  "language_info": {
   "codemirror_mode": {
    "name": "ipython",
    "version": 3
   },
   "file_extension": ".py",
   "mimetype": "text/x-python",
   "name": "python",
   "nbconvert_exporter": "python",
   "pygments_lexer": "ipython3",
   "version": "3.9.7"
  }
 },
 "nbformat": 4,
 "nbformat_minor": 5
}
