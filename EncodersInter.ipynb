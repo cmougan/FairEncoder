{
 "cells": [
  {
   "cell_type": "markdown",
   "id": "82275067",
   "metadata": {},
   "source": [
    "#### Libraries"
   ]
  },
  {
   "cell_type": "code",
   "execution_count": 1,
   "id": "4be53f48",
   "metadata": {
    "scrolled": true
   },
   "outputs": [
    {
     "data": {
      "application/javascript": [
       "utils.load_extension(\"collapsible_headings/main\")\n"
      ],
      "text/plain": [
       "<IPython.core.display.Javascript object>"
      ]
     },
     "metadata": {},
     "output_type": "display_data"
    }
   ],
   "source": [
    "%%javascript\n",
    "utils.load_extension(\"collapsible_headings/main\")"
   ]
  },
  {
   "cell_type": "code",
   "execution_count": 2,
   "id": "eae22df6",
   "metadata": {},
   "outputs": [],
   "source": [
    "import pandas as pd\n",
    "import random\n",
    "random.seed(0)\n",
    "\n",
    "pd.set_option(\"display.max_columns\", None)\n",
    "import numpy as np\n",
    "import matplotlib.pyplot as plt\n",
    "import seaborn as sns\n",
    "import pdb\n",
    "\n",
    "%matplotlib inline\n",
    "from matplotlib import rcParams\n",
    "\n",
    "plt.style.use(\"seaborn-whitegrid\")\n",
    "rcParams[\"axes.labelsize\"] = 14\n",
    "rcParams[\"xtick.labelsize\"] = 12\n",
    "rcParams[\"ytick.labelsize\"] = 12\n",
    "rcParams[\"figure.figsize\"] = 16, 8\n",
    "\n",
    "# from pandas_profiling import ProfileReportofileReport\n",
    "\n",
    "import warnings\n",
    "\n",
    "warnings.filterwarnings(\"ignore\")"
   ]
  },
  {
   "cell_type": "code",
   "execution_count": 3,
   "id": "086e5a89",
   "metadata": {},
   "outputs": [],
   "source": [
    "import matplotlib.pyplot as plt\n",
    "\n",
    "plt.rcParams[\"figure.figsize\"] = [10, 5]"
   ]
  },
  {
   "cell_type": "code",
   "execution_count": 4,
   "id": "1512bb96",
   "metadata": {
    "scrolled": false
   },
   "outputs": [],
   "source": [
    "from fairlearn.metrics import MetricFrame\n",
    "from fairlearn.metrics import (\n",
    "    selection_rate,\n",
    "    false_positive_rate,\n",
    "    true_positive_rate,\n",
    "    count,\n",
    ")\n",
    "import shap\n",
    "\n",
    "from sklearn.metrics import accuracy_score, confusion_matrix\n",
    "from sklearn.pipeline import Pipeline\n",
    "from sklearn.linear_model import LogisticRegression, Lasso\n",
    "from sklearn.preprocessing import LabelEncoder, StandardScaler\n",
    "from sklearn.metrics import accuracy_score, precision_score, recall_score, roc_auc_score\n",
    "from sklearn.model_selection import train_test_split\n",
    "from sklearn.svm import SVC\n",
    "from sklearn.ensemble import RandomForestClassifier, GradientBoostingClassifier\n",
    "from sklearn.neural_network import MLPClassifier\n",
    "from sklearn.tree import DecisionTreeClassifier\n",
    "\n",
    "from xgboost import XGBRegressor, XGBClassifier\n",
    "from catboost import CatBoostClassifier\n",
    "import shap\n",
    "\n",
    "from category_encoders.target_encoder import TargetEncoder\n",
    "from category_encoders.m_estimate import MEstimateEncoder\n",
    "from category_encoders.cat_boost import CatBoostEncoder\n",
    "from category_encoders.leave_one_out import LeaveOneOutEncoder\n",
    "from category_encoders.woe import WOEEncoder\n",
    "from category_encoders.james_stein import JamesSteinEncoder\n",
    "\n",
    "from tqdm.notebook import tqdm\n",
    "from collections import defaultdict"
   ]
  },
  {
   "cell_type": "code",
   "execution_count": 5,
   "id": "dba68e80",
   "metadata": {},
   "outputs": [],
   "source": [
    "from category_encoders import OneHotEncoder"
   ]
  },
  {
   "cell_type": "markdown",
   "id": "0d6d0167",
   "metadata": {},
   "source": [
    "## Data Loading and helper functions"
   ]
  },
  {
   "cell_type": "code",
   "execution_count": 6,
   "id": "c83bdffc",
   "metadata": {},
   "outputs": [],
   "source": [
    "df = pd.read_csv(\"data/compas-scores-raw.csv\")"
   ]
  },
  {
   "cell_type": "code",
   "execution_count": 7,
   "id": "2c990962",
   "metadata": {},
   "outputs": [],
   "source": [
    "df = pd.read_csv(\"data/compas-scores-raw.csv\")\n",
    "\n",
    "df[\"Score\"] = df[\"DecileScore\"]\n",
    "\n",
    "# df.loc[df[\"DecileScore\"] > 7, \"Score\"] = 2\n",
    "# df.loc[(df[\"DecileScore\"] > 4) & (df[\"DecileScore\"] < 8), \"Score\"] = 1\n",
    "# df.loc[df[\"DecileScore\"] < 5, \"Score\"] = 0\n",
    "\n",
    "df.loc[df[\"DecileScore\"] > 4, \"Score\"] = 1\n",
    "df.loc[df[\"DecileScore\"] <= 4, \"Score\"] = 0\n",
    "\n",
    "\n",
    "cols = [\n",
    "    \"Person_ID\",\n",
    "    \"AssessmentID\",\n",
    "    \"Case_ID\",\n",
    "    \"LastName\",\n",
    "    \"FirstName\",\n",
    "    \"MiddleName\",\n",
    "    \"DateOfBirth\",\n",
    "    \"ScaleSet_ID\",\n",
    "    \"Screening_Date\",\n",
    "    \"RecSupervisionLevel\",\n",
    "    #\"Agency_Text\",\n",
    "    #\"AssessmentReason\",\n",
    "    \"Language\",\n",
    "    \"Scale_ID\",\n",
    "    #\"IsCompleted\",\n",
    "    #\"IsDeleted\",\n",
    "    #\"AssessmentType\",\n",
    "    \"DecileScore\",\n",
    "    \"RecSupervisionLevelText\",\n",
    "    #\"DisplayText\",\n",
    "    #\"ScaleSet\",\n",
    "    #\"LegalStatus\",\n",
    "    #\"CustodyStatus\",\n",
    "\n",
    "]\n",
    "\n",
    "\n",
    "df = df.drop(columns=cols)\n",
    "\n",
    "possible_targets = [\"RawScore\", \"ScoreText\", \"Score\"]\n",
    "\n",
    "X = df.drop(columns=possible_targets)\n",
    "y = df[[\"Score\"]]"
   ]
  },
  {
   "cell_type": "code",
   "execution_count": 8,
   "id": "15c42b08",
   "metadata": {},
   "outputs": [],
   "source": [
    "X['Sex_Code_Text'] = pd.get_dummies(X['Sex_Code_Text'],prefix='Sex')['Sex_Male']\n",
    "X[\"ScaleSet\"] = pd.get_dummies(X['ScaleSet'])['Risk and Prescreen']"
   ]
  },
  {
   "cell_type": "code",
   "execution_count": 9,
   "id": "b1f55c06",
   "metadata": {
    "scrolled": true
   },
   "outputs": [
    {
     "data": {
      "text/plain": [
       "7"
      ]
     },
     "execution_count": 9,
     "metadata": {},
     "output_type": "execute_result"
    }
   ],
   "source": [
    "len(X.columns)"
   ]
  },
  {
   "cell_type": "code",
   "execution_count": 10,
   "id": "9e4e9eea",
   "metadata": {},
   "outputs": [],
   "source": [
    "X.columns = [\n",
    "    \"Sex\",\n",
    "    \"Ethnic_Code_Text\",\n",
    "    \"ScaleSet\",\n",
    "    \"Language\",\n",
    "    \"LegalStatus\",\n",
    "    \"CustodyStatus\",\n",
    "    \"MaritalStatus\",\n",
    "]"
   ]
  },
  {
   "cell_type": "code",
   "execution_count": 11,
   "id": "d08b2417",
   "metadata": {},
   "outputs": [],
   "source": [
    "X[\"EthnicMarital\"] = X[\"Ethnic_Code_Text\"] + X[\"MaritalStatus\"]\n",
    "X = X.drop(columns=[\"Ethnic_Code_Text\", \"MaritalStatus\"])"
   ]
  },
  {
   "cell_type": "code",
   "execution_count": 12,
   "id": "b6a8c8ac",
   "metadata": {
    "scrolled": true
   },
   "outputs": [
    {
     "data": {
      "text/plain": [
       "Index(['Sex', 'ScaleSet', 'Language', 'LegalStatus', 'CustodyStatus',\n",
       "       'EthnicMarital'],\n",
       "      dtype='object')"
      ]
     },
     "execution_count": 12,
     "metadata": {},
     "output_type": "execute_result"
    }
   ],
   "source": [
    "X.columns"
   ]
  },
  {
   "cell_type": "code",
   "execution_count": 13,
   "id": "748a30ce",
   "metadata": {
    "scrolled": true
   },
   "outputs": [
    {
     "name": "stdout",
     "output_type": "stream",
     "text": [
      "1    47514\n",
      "0    13329\n",
      "Name: Sex, dtype: int64\n",
      "1    58647\n",
      "0     2196\n",
      "Name: ScaleSet, dtype: int64\n",
      "English    60591\n",
      "Spanish      252\n",
      "Name: Language, dtype: int64\n",
      "Pretrial               37578\n",
      "Post Sentence          18333\n",
      "Other                   4356\n",
      "Conditional Release      420\n",
      "Probation Violator       126\n",
      "Parole Violator           18\n",
      "Deferred Sentencing       12\n",
      "Name: LegalStatus, dtype: int64\n",
      "Jail Inmate            30129\n",
      "Probation              22968\n",
      "Pretrial Defendant      7644\n",
      "Residential Program       66\n",
      "Parole                    21\n",
      "Prison Inmate             15\n",
      "Name: CustodyStatus, dtype: int64\n",
      "African-AmericanSingle               22416\n",
      "CaucasianSingle                      15198\n",
      "HispanicSingle                        5514\n",
      "CaucasianMarried                      3012\n",
      "African-AmericanMarried               2535\n",
      "CaucasianDivorced                     2280\n",
      "HispanicMarried                       1776\n",
      "OtherSingle                           1551\n",
      "HispanicDivorced                       825\n",
      "OtherMarried                           696\n",
      "African-AmericanSignificant Other      648\n",
      "African-AmericanDivorced               630\n",
      "CaucasianSeparated                     609\n",
      "African-AmericanSeparated              582\n",
      "HispanicSeparated                      435\n",
      "CaucasianSignificant Other             375\n",
      "CaucasianWidowed                       240\n",
      "AsianSingle                            165\n",
      "Native AmericanSingle                  159\n",
      "OtherSeparated                         135\n",
      "HispanicSignificant Other              117\n",
      "African-AmericanWidowed                114\n",
      "OtherSignificant Other                 111\n",
      "AsianMarried                           105\n",
      "African-AmericanUnknown                 93\n",
      "OtherDivorced                           93\n",
      "CaucasianUnknown                        69\n",
      "HispanicUnknown                         51\n",
      "ArabicSingle                            51\n",
      "African-AmSingle                        45\n",
      "AsianDivorced                           39\n",
      "OrientalSingle                          27\n",
      "Native AmericanSeparated                24\n",
      "HispanicWidowed                         24\n",
      "ArabicMarried                           18\n",
      "Native AmericanMarried                  15\n",
      "AsianSeparated                          15\n",
      "OrientalMarried                         12\n",
      "Native AmericanDivorced                 12\n",
      "OtherWidowed                             6\n",
      "Native AmericanWidowed                   6\n",
      "ArabicSeparated                          3\n",
      "African-AmMarried                        3\n",
      "African-AmSignificant Other              3\n",
      "ArabicSignificant Other                  3\n",
      "Native AmericanSignificant Other         3\n",
      "Name: EthnicMarital, dtype: int64\n"
     ]
    }
   ],
   "source": [
    "for col in X.columns:\n",
    "    print(X[col].value_counts())"
   ]
  },
  {
   "cell_type": "code",
   "execution_count": 14,
   "id": "4ac4b739",
   "metadata": {
    "scrolled": false
   },
   "outputs": [
    {
     "name": "stdout",
     "output_type": "stream",
     "text": [
      "2\n",
      "2\n",
      "2\n",
      "7\n",
      "6\n",
      "46\n"
     ]
    }
   ],
   "source": [
    "for col in X.columns:\n",
    "    print(len(X[col].unique()))"
   ]
  },
  {
   "cell_type": "code",
   "execution_count": 15,
   "id": "4436fa79",
   "metadata": {},
   "outputs": [],
   "source": [
    "X_tr, X_te, y_tr, y_te = train_test_split(X, y, test_size=0.75, random_state=42)"
   ]
  },
  {
   "cell_type": "code",
   "execution_count": 16,
   "id": "2c4e7ba5",
   "metadata": {
    "scrolled": true
   },
   "outputs": [],
   "source": [
    "aux = X_te.copy()\n",
    "aux['t'] = y_te['Score'].values"
   ]
  },
  {
   "cell_type": "code",
   "execution_count": 17,
   "id": "1c89663d",
   "metadata": {},
   "outputs": [
    {
     "data": {
      "text/plain": [
       "0    96\n",
       "1    25\n",
       "Name: t, dtype: int64"
      ]
     },
     "execution_count": 17,
     "metadata": {},
     "output_type": "execute_result"
    }
   ],
   "source": [
    "aux[aux['EthnicMarital']=='AsianSingle'].t.value_counts()"
   ]
  },
  {
   "cell_type": "code",
   "execution_count": 18,
   "id": "a00a6406",
   "metadata": {},
   "outputs": [],
   "source": [
    "def fit_predict(modelo, enc, data, target, test):\n",
    "    pipe = Pipeline([(\"encoder\", enc), (\"model\", modelo)])\n",
    "    pipe.fit(data, target)\n",
    "    return pipe.predict(test)\n",
    "\n",
    "\n",
    "def auc_group(model, data, y_true, dicc, group: str = \"\", min_samples: int = 50):\n",
    "\n",
    "    aux = data.copy()\n",
    "    aux[\"target\"] = y_true\n",
    "    cats = aux[group].value_counts()\n",
    "    cats = cats[cats > min_samples].index.tolist()\n",
    "    cats = cats + [\"all\"]\n",
    "\n",
    "    if len(dicc) == 0:\n",
    "        dicc = defaultdict(list, {k: [] for k in cats})\n",
    "\n",
    "    for cat in cats:\n",
    "        if cat != \"all\":\n",
    "            aux2 = aux[aux[group] == cat]\n",
    "            preds = model.predict_proba(aux2.drop(columns=\"target\"))[:, 1]\n",
    "            truth = aux2[\"target\"]\n",
    "            dicc[cat].append(roc_auc_score(truth, preds))\n",
    "        elif cat == \"all\":\n",
    "            dicc[cat].append(roc_auc_score(y_true, model.predict_proba(data)[:, 1]))\n",
    "        else:\n",
    "            pass\n",
    "\n",
    "    return dicc"
   ]
  },
  {
   "cell_type": "code",
   "execution_count": 19,
   "id": "5b2d7e4c",
   "metadata": {},
   "outputs": [],
   "source": [
    "def explain(xgb: bool = True):\n",
    "    \"\"\"\n",
    "    Provide a SHAP explanation by fitting MEstimate and GBDT\n",
    "    \"\"\"\n",
    "    if xgb:\n",
    "        pipe = Pipeline(\n",
    "            [(\"encoder\", MEstimateEncoder()), (\"model\", GradientBoostingClassifier())]\n",
    "        )\n",
    "        pipe.fit(X_tr, y_tr)\n",
    "        explainer = shap.Explainer(pipe[1])\n",
    "        shap_values = explainer(pipe[:-1].transform(X_tr))\n",
    "        shap.plots.beeswarm(shap_values)\n",
    "        return pd.DataFrame(np.abs(shap_values.values), columns=X_tr.columns).sum()\n",
    "    else:\n",
    "        pipe = Pipeline(\n",
    "            [(\"encoder\", MEstimateEncoder()), (\"model\", LogisticRegression())]\n",
    "        )\n",
    "        pipe.fit(X_tr, y_tr)\n",
    "        coefficients = pd.concat(\n",
    "            [pd.DataFrame(X_tr.columns), pd.DataFrame(np.transpose(pipe[1].coef_))],\n",
    "            axis=1,\n",
    "        )\n",
    "        coefficients.columns = [\"feat\", \"val\"]\n",
    "\n",
    "        return coefficients.sort_values(by=\"val\", ascending=False)"
   ]
  },
  {
   "cell_type": "code",
   "execution_count": 20,
   "id": "e610fd48",
   "metadata": {},
   "outputs": [],
   "source": [
    "def calculate_cm(true, preds):\n",
    "    # Obtain the confusion matrix\n",
    "    cm = confusion_matrix(preds, true)\n",
    "\n",
    "    #  https://stackoverflow.com/questions/31324218/scikit-learn-how-to-obtain-true-positive-true-negative-false-positive-and-fal\n",
    "    FP = cm.sum(axis=0) - np.diag(cm)\n",
    "    FN = cm.sum(axis=1) - np.diag(cm)\n",
    "    TP = np.diag(cm)\n",
    "    TN = cm.sum() - (FP + FN + TP)\n",
    "\n",
    "    # Sensitivity, hit rate, recall, or true positive rate\n",
    "    TPR = TP / (TP + FN)\n",
    "    # Specificity or true negative rate\n",
    "    TNR = TN / (TN + FP)\n",
    "    # Precision or positive predictive value\n",
    "    PPV = TP / (TP + FP)\n",
    "    # Negative predictive value\n",
    "    NPV = TN / (TN + FN)\n",
    "    # Fall out or false positive rate\n",
    "    FPR = FP / (FP + TN)\n",
    "    # False negative rate\n",
    "    FNR = FN / (TP + FN)\n",
    "    # False discovery rate\n",
    "    FDR = FP / (TP + FP)\n",
    "\n",
    "    # Overall accuracy\n",
    "    ACC = (TP + TN) / (TP + FP + FN + TN)\n",
    "\n",
    "    ##########\n",
    "    ## I AM NOT SURE ABOUT THIS 0 INDEX\n",
    "    ###########\n",
    "    return TPR[0]"
   ]
  },
  {
   "cell_type": "code",
   "execution_count": 21,
   "id": "8512258d",
   "metadata": {},
   "outputs": [],
   "source": [
    "def metric_calculator(\n",
    "    modelo, data: pd.DataFrame, truth: pd.DataFrame, col: str, group1: str, group2: str\n",
    "):\n",
    "    aux = data.copy()\n",
    "    aux[\"target\"] = truth\n",
    "\n",
    "    # Filter the data\n",
    "    g1 = data[data[col] == group1]\n",
    "    g2 = data[data[col] == group2]\n",
    "\n",
    "    # Filter the ground truth\n",
    "    g1_true = aux[aux[col] == group1].target\n",
    "    g2_true = aux[aux[col] == group2].target\n",
    "\n",
    "    # Do predictions\n",
    "    p1 = modelo.predict(g1)\n",
    "    p2 = modelo.predict(g2)\n",
    "\n",
    "    # Extract metrics for each group\n",
    "    res1 = calculate_cm(p1, g1_true)\n",
    "    res2 = calculate_cm(p2, g2_true)\n",
    "    return res1 - res2"
   ]
  },
  {
   "cell_type": "code",
   "execution_count": 22,
   "id": "7ebfcd3d",
   "metadata": {
    "scrolled": true
   },
   "outputs": [
    {
     "data": {
      "text/plain": [
       "Pipeline(steps=[('enc',\n",
       "                 OneHotEncoder(cols=['Language', 'LegalStatus', 'CustodyStatus',\n",
       "                                     'EthnicMarital'])),\n",
       "                ('model', LogisticRegression())])"
      ]
     },
     "execution_count": 22,
     "metadata": {},
     "output_type": "execute_result"
    }
   ],
   "source": [
    "m = Pipeline([('enc',OneHotEncoder()),('model',LogisticRegression())])\n",
    "m.fit(X,y)"
   ]
  },
  {
   "cell_type": "code",
   "execution_count": 23,
   "id": "1126b3fe",
   "metadata": {},
   "outputs": [],
   "source": [
    "res = {}\n",
    "for cat,num in X['EthnicMarital'].value_counts().items():\n",
    "    COL = \"EthnicMarital\"\n",
    "    GROUP1 = \"African-AmericanSingle\"\n",
    "    GROUP2 = cat\n",
    "    res[cat] = [metric_calculator(modelo=m,data = X, truth = y,col=COL,group1=GROUP1,group2 =GROUP2),num]\n",
    "    "
   ]
  },
  {
   "cell_type": "code",
   "execution_count": 24,
   "id": "bffbc28d",
   "metadata": {},
   "outputs": [],
   "source": [
    "res = pd.DataFrame(res).T\n",
    "\n",
    "res.columns=['fairness','items']\n",
    "\n",
    "res['items']= res['items'].astype(int)"
   ]
  },
  {
   "cell_type": "code",
   "execution_count": 25,
   "id": "40b41c6d",
   "metadata": {},
   "outputs": [
    {
     "data": {
      "text/html": [
       "<div>\n",
       "<style scoped>\n",
       "    .dataframe tbody tr th:only-of-type {\n",
       "        vertical-align: middle;\n",
       "    }\n",
       "\n",
       "    .dataframe tbody tr th {\n",
       "        vertical-align: top;\n",
       "    }\n",
       "\n",
       "    .dataframe thead th {\n",
       "        text-align: right;\n",
       "    }\n",
       "</style>\n",
       "<table border=\"1\" class=\"dataframe\">\n",
       "  <thead>\n",
       "    <tr style=\"text-align: right;\">\n",
       "      <th></th>\n",
       "      <th>fairness</th>\n",
       "      <th>items</th>\n",
       "    </tr>\n",
       "  </thead>\n",
       "  <tbody>\n",
       "    <tr>\n",
       "      <th>African-AmericanSingle</th>\n",
       "      <td>0.000000</td>\n",
       "      <td>22416</td>\n",
       "    </tr>\n",
       "    <tr>\n",
       "      <th>CaucasianSingle</th>\n",
       "      <td>-0.099223</td>\n",
       "      <td>15198</td>\n",
       "    </tr>\n",
       "    <tr>\n",
       "      <th>HispanicSingle</th>\n",
       "      <td>-0.109380</td>\n",
       "      <td>5514</td>\n",
       "    </tr>\n",
       "    <tr>\n",
       "      <th>CaucasianMarried</th>\n",
       "      <td>-0.112576</td>\n",
       "      <td>3012</td>\n",
       "    </tr>\n",
       "    <tr>\n",
       "      <th>African-AmericanMarried</th>\n",
       "      <td>-0.112059</td>\n",
       "      <td>2535</td>\n",
       "    </tr>\n",
       "    <tr>\n",
       "      <th>CaucasianDivorced</th>\n",
       "      <td>-0.112576</td>\n",
       "      <td>2280</td>\n",
       "    </tr>\n",
       "    <tr>\n",
       "      <th>HispanicMarried</th>\n",
       "      <td>-0.112576</td>\n",
       "      <td>1776</td>\n",
       "    </tr>\n",
       "    <tr>\n",
       "      <th>OtherSingle</th>\n",
       "      <td>-0.112576</td>\n",
       "      <td>1551</td>\n",
       "    </tr>\n",
       "    <tr>\n",
       "      <th>HispanicDivorced</th>\n",
       "      <td>-0.112576</td>\n",
       "      <td>825</td>\n",
       "    </tr>\n",
       "    <tr>\n",
       "      <th>OtherMarried</th>\n",
       "      <td>-0.112576</td>\n",
       "      <td>696</td>\n",
       "    </tr>\n",
       "    <tr>\n",
       "      <th>African-AmericanSignificant Other</th>\n",
       "      <td>-0.110184</td>\n",
       "      <td>648</td>\n",
       "    </tr>\n",
       "    <tr>\n",
       "      <th>African-AmericanDivorced</th>\n",
       "      <td>-0.112576</td>\n",
       "      <td>630</td>\n",
       "    </tr>\n",
       "    <tr>\n",
       "      <th>CaucasianSeparated</th>\n",
       "      <td>-0.112576</td>\n",
       "      <td>609</td>\n",
       "    </tr>\n",
       "    <tr>\n",
       "      <th>African-AmericanSeparated</th>\n",
       "      <td>-0.112576</td>\n",
       "      <td>582</td>\n",
       "    </tr>\n",
       "    <tr>\n",
       "      <th>HispanicSeparated</th>\n",
       "      <td>-0.112576</td>\n",
       "      <td>435</td>\n",
       "    </tr>\n",
       "    <tr>\n",
       "      <th>CaucasianSignificant Other</th>\n",
       "      <td>-0.112576</td>\n",
       "      <td>375</td>\n",
       "    </tr>\n",
       "    <tr>\n",
       "      <th>CaucasianWidowed</th>\n",
       "      <td>-0.112576</td>\n",
       "      <td>240</td>\n",
       "    </tr>\n",
       "    <tr>\n",
       "      <th>AsianSingle</th>\n",
       "      <td>-0.112576</td>\n",
       "      <td>165</td>\n",
       "    </tr>\n",
       "    <tr>\n",
       "      <th>Native AmericanSingle</th>\n",
       "      <td>-0.101465</td>\n",
       "      <td>159</td>\n",
       "    </tr>\n",
       "    <tr>\n",
       "      <th>OtherSeparated</th>\n",
       "      <td>-0.112576</td>\n",
       "      <td>135</td>\n",
       "    </tr>\n",
       "    <tr>\n",
       "      <th>HispanicSignificant Other</th>\n",
       "      <td>-0.112576</td>\n",
       "      <td>117</td>\n",
       "    </tr>\n",
       "    <tr>\n",
       "      <th>African-AmericanWidowed</th>\n",
       "      <td>-0.046787</td>\n",
       "      <td>114</td>\n",
       "    </tr>\n",
       "    <tr>\n",
       "      <th>OtherSignificant Other</th>\n",
       "      <td>-0.112576</td>\n",
       "      <td>111</td>\n",
       "    </tr>\n",
       "    <tr>\n",
       "      <th>AsianMarried</th>\n",
       "      <td>-0.112576</td>\n",
       "      <td>105</td>\n",
       "    </tr>\n",
       "    <tr>\n",
       "      <th>African-AmericanUnknown</th>\n",
       "      <td>-0.112576</td>\n",
       "      <td>93</td>\n",
       "    </tr>\n",
       "    <tr>\n",
       "      <th>OtherDivorced</th>\n",
       "      <td>-0.112576</td>\n",
       "      <td>93</td>\n",
       "    </tr>\n",
       "    <tr>\n",
       "      <th>CaucasianUnknown</th>\n",
       "      <td>-0.112576</td>\n",
       "      <td>69</td>\n",
       "    </tr>\n",
       "    <tr>\n",
       "      <th>HispanicUnknown</th>\n",
       "      <td>-0.112576</td>\n",
       "      <td>51</td>\n",
       "    </tr>\n",
       "    <tr>\n",
       "      <th>ArabicSingle</th>\n",
       "      <td>-0.084005</td>\n",
       "      <td>51</td>\n",
       "    </tr>\n",
       "    <tr>\n",
       "      <th>African-AmSingle</th>\n",
       "      <td>0.887424</td>\n",
       "      <td>45</td>\n",
       "    </tr>\n",
       "    <tr>\n",
       "      <th>AsianDivorced</th>\n",
       "      <td>-0.112576</td>\n",
       "      <td>39</td>\n",
       "    </tr>\n",
       "    <tr>\n",
       "      <th>OrientalSingle</th>\n",
       "      <td>-0.112576</td>\n",
       "      <td>27</td>\n",
       "    </tr>\n",
       "    <tr>\n",
       "      <th>Native AmericanSeparated</th>\n",
       "      <td>-0.112576</td>\n",
       "      <td>24</td>\n",
       "    </tr>\n",
       "    <tr>\n",
       "      <th>HispanicWidowed</th>\n",
       "      <td>-0.112576</td>\n",
       "      <td>24</td>\n",
       "    </tr>\n",
       "    <tr>\n",
       "      <th>ArabicMarried</th>\n",
       "      <td>-0.112576</td>\n",
       "      <td>18</td>\n",
       "    </tr>\n",
       "    <tr>\n",
       "      <th>Native AmericanMarried</th>\n",
       "      <td>-0.112576</td>\n",
       "      <td>15</td>\n",
       "    </tr>\n",
       "    <tr>\n",
       "      <th>AsianSeparated</th>\n",
       "      <td>-0.112576</td>\n",
       "      <td>15</td>\n",
       "    </tr>\n",
       "    <tr>\n",
       "      <th>OrientalMarried</th>\n",
       "      <td>-0.112576</td>\n",
       "      <td>12</td>\n",
       "    </tr>\n",
       "    <tr>\n",
       "      <th>Native AmericanDivorced</th>\n",
       "      <td>-0.112576</td>\n",
       "      <td>12</td>\n",
       "    </tr>\n",
       "    <tr>\n",
       "      <th>OtherWidowed</th>\n",
       "      <td>-0.112576</td>\n",
       "      <td>6</td>\n",
       "    </tr>\n",
       "    <tr>\n",
       "      <th>Native AmericanWidowed</th>\n",
       "      <td>-0.112576</td>\n",
       "      <td>6</td>\n",
       "    </tr>\n",
       "    <tr>\n",
       "      <th>ArabicSeparated</th>\n",
       "      <td>-0.112576</td>\n",
       "      <td>3</td>\n",
       "    </tr>\n",
       "    <tr>\n",
       "      <th>African-AmMarried</th>\n",
       "      <td>NaN</td>\n",
       "      <td>3</td>\n",
       "    </tr>\n",
       "    <tr>\n",
       "      <th>African-AmSignificant Other</th>\n",
       "      <td>-0.112576</td>\n",
       "      <td>3</td>\n",
       "    </tr>\n",
       "    <tr>\n",
       "      <th>ArabicSignificant Other</th>\n",
       "      <td>-0.112576</td>\n",
       "      <td>3</td>\n",
       "    </tr>\n",
       "    <tr>\n",
       "      <th>Native AmericanSignificant Other</th>\n",
       "      <td>-0.112576</td>\n",
       "      <td>3</td>\n",
       "    </tr>\n",
       "  </tbody>\n",
       "</table>\n",
       "</div>"
      ],
      "text/plain": [
       "                                   fairness  items\n",
       "African-AmericanSingle             0.000000  22416\n",
       "CaucasianSingle                   -0.099223  15198\n",
       "HispanicSingle                    -0.109380   5514\n",
       "CaucasianMarried                  -0.112576   3012\n",
       "African-AmericanMarried           -0.112059   2535\n",
       "CaucasianDivorced                 -0.112576   2280\n",
       "HispanicMarried                   -0.112576   1776\n",
       "OtherSingle                       -0.112576   1551\n",
       "HispanicDivorced                  -0.112576    825\n",
       "OtherMarried                      -0.112576    696\n",
       "African-AmericanSignificant Other -0.110184    648\n",
       "African-AmericanDivorced          -0.112576    630\n",
       "CaucasianSeparated                -0.112576    609\n",
       "African-AmericanSeparated         -0.112576    582\n",
       "HispanicSeparated                 -0.112576    435\n",
       "CaucasianSignificant Other        -0.112576    375\n",
       "CaucasianWidowed                  -0.112576    240\n",
       "AsianSingle                       -0.112576    165\n",
       "Native AmericanSingle             -0.101465    159\n",
       "OtherSeparated                    -0.112576    135\n",
       "HispanicSignificant Other         -0.112576    117\n",
       "African-AmericanWidowed           -0.046787    114\n",
       "OtherSignificant Other            -0.112576    111\n",
       "AsianMarried                      -0.112576    105\n",
       "African-AmericanUnknown           -0.112576     93\n",
       "OtherDivorced                     -0.112576     93\n",
       "CaucasianUnknown                  -0.112576     69\n",
       "HispanicUnknown                   -0.112576     51\n",
       "ArabicSingle                      -0.084005     51\n",
       "African-AmSingle                   0.887424     45\n",
       "AsianDivorced                     -0.112576     39\n",
       "OrientalSingle                    -0.112576     27\n",
       "Native AmericanSeparated          -0.112576     24\n",
       "HispanicWidowed                   -0.112576     24\n",
       "ArabicMarried                     -0.112576     18\n",
       "Native AmericanMarried            -0.112576     15\n",
       "AsianSeparated                    -0.112576     15\n",
       "OrientalMarried                   -0.112576     12\n",
       "Native AmericanDivorced           -0.112576     12\n",
       "OtherWidowed                      -0.112576      6\n",
       "Native AmericanWidowed            -0.112576      6\n",
       "ArabicSeparated                   -0.112576      3\n",
       "African-AmMarried                       NaN      3\n",
       "African-AmSignificant Other       -0.112576      3\n",
       "ArabicSignificant Other           -0.112576      3\n",
       "Native AmericanSignificant Other  -0.112576      3"
      ]
     },
     "execution_count": 25,
     "metadata": {},
     "output_type": "execute_result"
    }
   ],
   "source": [
    "res"
   ]
  },
  {
   "cell_type": "code",
   "execution_count": 26,
   "id": "403d1d44",
   "metadata": {},
   "outputs": [],
   "source": [
    "def plot_rolling(data, roll_mean: int = 5, roll_std: int = 20):\n",
    "\n",
    "    aux = data.rolling(roll_mean).mean().dropna()\n",
    "    stand = data.rolling(roll_std).quantile(0.05, interpolation=\"lower\").dropna()\n",
    "    plt.figure()\n",
    "    for col in data.columns:\n",
    "        plt.plot(aux[col], label=col)\n",
    "        # plt.fill_between(aux.index,(aux[col] - stand[col]),(aux[col] + stand[col]),# color=\"b\",alpha=0.1,)\n",
    "    plt.legend()\n",
    "    plt.show()"
   ]
  },
  {
   "cell_type": "code",
   "execution_count": 27,
   "id": "7ec0a31c",
   "metadata": {},
   "outputs": [],
   "source": [
    "def scale_output(data):\n",
    "    return pd.DataFrame(\n",
    "        StandardScaler().fit_transform(data), columns=data.columns, index=data.index\n",
    "    )"
   ]
  },
  {
   "cell_type": "markdown",
   "id": "c4bf5114",
   "metadata": {},
   "source": [
    "# Experiment"
   ]
  },
  {
   "cell_type": "code",
   "execution_count": 28,
   "id": "2aec17b0",
   "metadata": {
    "scrolled": true
   },
   "outputs": [],
   "source": [
    "def fair_encoder(model, param: list, enc: str = \"mestimate\", un_regularize: list = []):\n",
    "    auc = {}\n",
    "    metrica = []\n",
    "    auc_tot = []\n",
    "\n",
    "    allowed_enc = [\n",
    "        \"mestimate\",\n",
    "        \"targetenc\",\n",
    "        \"leaveoneout\",\n",
    "        \"ohe\",\n",
    "        \"woe\",\n",
    "        \"james\",\n",
    "        \"catboost\",\n",
    "    ]\n",
    "    assert (\n",
    "        enc in allowed_enc\n",
    "    ), \"Encoder not available or check for spelling mistakes: {}\".format(allowed_enc)\n",
    "\n",
    "    cols_enc = set(X_tr.columns) - set(un_regularize)\n",
    "\n",
    "    for m in tqdm(param):\n",
    "        if enc == \"mestimate\":\n",
    "            encoder = Pipeline(\n",
    "                [\n",
    "                    (\"reg\", MEstimateEncoder(m=m, cols=cols_enc)),\n",
    "                    (\"unreg\", MEstimateEncoder(m=0, cols=un_regularize)),\n",
    "                ]\n",
    "            )\n",
    "        elif enc == \"targetenc\":\n",
    "            encoder = TargetEncoder(smoothing=m)\n",
    "        elif enc == \"leaveoneout\":\n",
    "            encoder = Pipeline(\n",
    "                [\n",
    "                    (\"reg\", LeaveOneOutEncoder(sigma=m, cols=cols_enc)),\n",
    "                    (\"unreg\", LeaveOneOutEncoder(sigma=0, cols=un_regularize)),\n",
    "                ]\n",
    "            )\n",
    "        elif enc == \"ohe\":\n",
    "            encoder = OneHotEncoder(handle_missing=-1)\n",
    "        elif enc == \"woe\":\n",
    "            encoder = WOEEncoder(randomized=True, sigma=m)\n",
    "        elif enc == \"james\":\n",
    "            encoder = JamesSteinEncoder(randomized=True, sigma=m)\n",
    "        elif enc == \"catboost\":\n",
    "            encoder = Pipeline(\n",
    "                [\n",
    "                    (\"reg\", CatBoostEncoder(a=1, sigma=m, cols=cols_enc)),\n",
    "                    (\"unreg\", CatBoostEncoder(a=1, sigma=0, cols=un_regularize)),\n",
    "                ]\n",
    "            )\n",
    "\n",
    "        pipe = Pipeline([(\"encoder\", encoder), (\"model\", model)])\n",
    "        pipe.fit(X_tr, y_tr)\n",
    "        preds = pipe.predict(X_te)\n",
    "\n",
    "        metrica.append(\n",
    "            metric_calculator(\n",
    "                modelo=pipe,\n",
    "                data=X_tr,\n",
    "                truth=y_tr,\n",
    "                col=COL,\n",
    "                group1=GROUP1,\n",
    "                group2=GROUP2,\n",
    "            )\n",
    "        )\n",
    "        auc = auc_group(model=pipe, data=X_te, y_true=y_te, dicc=auc, group=COL)\n",
    "        auc_tot.append(roc_auc_score(y_te, pipe.predict_proba(X_te)[:, 1]))\n",
    "\n",
    "    # Results formatting\n",
    "    res = pd.DataFrame(index=param)\n",
    "    res[\"fairness_metric\"] = metrica\n",
    "    res[\"auc_tot\"] = auc_tot\n",
    "    res[\"auc_\" + GROUP1] = auc[GROUP1]\n",
    "    res[\"auc_\" + GROUP2] = auc[GROUP2]\n",
    "\n",
    "    return res"
   ]
  },
  {
   "cell_type": "code",
   "execution_count": 29,
   "id": "9bcc3cef",
   "metadata": {},
   "outputs": [],
   "source": [
    "# Experiment parameters\n",
    "COL = \"EthnicMarital\"\n",
    "GROUP1 = \"African-AmericanSingle\"\n",
    "GROUP2 = \"CaucasianMarried\"\n",
    "PARAM = np.linspace(0, 1, 50)\n",
    "\n",
    "# Plot parametes\n",
    "XMIN = 0.55\n",
    "XMAX = 0.725\n",
    "YMIN = -0.5\n",
    "YMAX = 0"
   ]
  },
  {
   "cell_type": "code",
   "execution_count": 36,
   "id": "e4a3bc03",
   "metadata": {},
   "outputs": [],
   "source": [
    "cols_unreg = [\n",
    "    \"Sex\",\n",
    "    \"ScaleSet\",\n",
    "    \"Language\",\n",
    "    \"LegalStatus\",\n",
    "    \"CustodyStatus\",\n",
    "]"
   ]
  },
  {
   "cell_type": "code",
   "execution_count": 37,
   "id": "442d0a0c",
   "metadata": {
    "scrolled": true
   },
   "outputs": [
    {
     "data": {
      "application/vnd.jupyter.widget-view+json": {
       "model_id": "900deb2be4ec43fc869a19f891a769e0",
       "version_major": 2,
       "version_minor": 0
      },
      "text/plain": [
       "  0%|          | 0/1 [00:00<?, ?it/s]"
      ]
     },
     "metadata": {},
     "output_type": "display_data"
    },
    {
     "data": {
      "application/vnd.jupyter.widget-view+json": {
       "model_id": "c8ebd47a92a14052b499b4d892883b30",
       "version_major": 2,
       "version_minor": 0
      },
      "text/plain": [
       "  0%|          | 0/50 [00:00<?, ?it/s]"
      ]
     },
     "metadata": {},
     "output_type": "display_data"
    },
    {
     "data": {
      "application/vnd.jupyter.widget-view+json": {
       "model_id": "f5de9517e88b48c1bdb8adf36ea071c9",
       "version_major": 2,
       "version_minor": 0
      },
      "text/plain": [
       "  0%|          | 0/50 [00:00<?, ?it/s]"
      ]
     },
     "metadata": {},
     "output_type": "display_data"
    },
    {
     "data": {
      "application/vnd.jupyter.widget-view+json": {
       "model_id": "427b6f93b44d401db33df052aa8f5cc2",
       "version_major": 2,
       "version_minor": 0
      },
      "text/plain": [
       "  0%|          | 0/1 [00:00<?, ?it/s]"
      ]
     },
     "metadata": {},
     "output_type": "display_data"
    },
    {
     "data": {
      "application/vnd.jupyter.widget-view+json": {
       "model_id": "156550395c6749099f7b03a04833ba23",
       "version_major": 2,
       "version_minor": 0
      },
      "text/plain": [
       "  0%|          | 0/50 [00:00<?, ?it/s]"
      ]
     },
     "metadata": {},
     "output_type": "display_data"
    },
    {
     "data": {
      "application/vnd.jupyter.widget-view+json": {
       "model_id": "6c5a5c5636a34d9381b63352d43887b2",
       "version_major": 2,
       "version_minor": 0
      },
      "text/plain": [
       "  0%|          | 0/50 [00:00<?, ?it/s]"
      ]
     },
     "metadata": {},
     "output_type": "display_data"
    },
    {
     "data": {
      "application/vnd.jupyter.widget-view+json": {
       "model_id": "7216bd8a7ef44c7bab2015b3055137e2",
       "version_major": 2,
       "version_minor": 0
      },
      "text/plain": [
       "  0%|          | 0/1 [00:00<?, ?it/s]"
      ]
     },
     "metadata": {},
     "output_type": "display_data"
    },
    {
     "data": {
      "application/vnd.jupyter.widget-view+json": {
       "model_id": "561ad074e31246dfbc2028b288a9ba11",
       "version_major": 2,
       "version_minor": 0
      },
      "text/plain": [
       "  0%|          | 0/50 [00:00<?, ?it/s]"
      ]
     },
     "metadata": {},
     "output_type": "display_data"
    },
    {
     "data": {
      "application/vnd.jupyter.widget-view+json": {
       "model_id": "81cfc2079b454a1f90ada132543c1b89",
       "version_major": 2,
       "version_minor": 0
      },
      "text/plain": [
       "  0%|          | 0/50 [00:00<?, ?it/s]"
      ]
     },
     "metadata": {},
     "output_type": "display_data"
    }
   ],
   "source": [
    "## LR\n",
    "one_hot1 = fair_encoder(model=LogisticRegression(), enc=\"ohe\", param=[0])\n",
    "\n",
    "PARAM = np.linspace(0, 1, 50)\n",
    "gaus1 = fair_encoder(\n",
    "    model=LogisticRegression(),\n",
    "    enc=\"catboost\",\n",
    "    param=PARAM,\n",
    "    un_regularize=cols_unreg\n",
    ")\n",
    "PARAM = np.linspace(0, 100, 50)\n",
    "smooth1 = fair_encoder(\n",
    "    model=LogisticRegression(),\n",
    "    enc=\"mestimate\",\n",
    "    param=PARAM,\n",
    "    un_regularize=cols_unreg)\n",
    "## DT\n",
    "one_hot2 = fair_encoder(model=DecisionTreeClassifier(max_depth=5), enc=\"ohe\", param=[0])\n",
    "PARAM = np.linspace(0, 1, 50)\n",
    "gaus2 = fair_encoder(\n",
    "    model=DecisionTreeClassifier(max_depth=5),\n",
    "    enc=\"catboost\",\n",
    "    param=PARAM,\n",
    "    un_regularize=cols_unreg)\n",
    "\n",
    "PARAM = np.linspace(0, 100, 50)\n",
    "smooth2 = fair_encoder(\n",
    "    model=DecisionTreeClassifier(max_depth=5),\n",
    "    enc=\"mestimate\",\n",
    "    param=PARAM,\n",
    "    un_regularize=cols_unreg)\n",
    "## GBDT\n",
    "one_hot3 = fair_encoder(model=GradientBoostingClassifier(), enc=\"ohe\", param=[0])\n",
    "\n",
    "PARAM = np.linspace(0, 1, 50)\n",
    "gaus3 = fair_encoder(\n",
    "    model=GradientBoostingClassifier(),\n",
    "    enc=\"catboost\",\n",
    "    param=PARAM,\n",
    "    un_regularize=cols_unreg)\n",
    "PARAM = np.linspace(0, 100, 50)\n",
    "smooth3 = fair_encoder(\n",
    "    model=GradientBoostingClassifier(),\n",
    "    enc=\"mestimate\",\n",
    "    param=PARAM,\n",
    "    un_regularize=cols_unreg)"
   ]
  },
  {
   "cell_type": "code",
   "execution_count": 38,
   "id": "622cecd3",
   "metadata": {
    "scrolled": false
   },
   "outputs": [
    {
     "data": {
      "image/png": "[encoded data removed]",
      "text/plain": [
       "<Figure size 1080x1080 with 6 Axes>"
      ]
     },
     "metadata": {},
     "output_type": "display_data"
    }
   ],
   "source": [
    "fig, axs = plt.subplots(3, 2, figsize=(15, 15), sharex=True, sharey=True)\n",
    "\n",
    "#LR\n",
    "axs[0, 0].set_title(\"Logistic Regression + Gaussian Noise\")\n",
    "axs[0, 0].scatter(\n",
    "    gaus1[\"auc_tot\"].values,\n",
    "    gaus1[\"fairness_metric\"].values,\n",
    "    s=100,\n",
    "    c=gaus1.index.values,\n",
    "    cmap=\"Reds\",\n",
    "    label=\"Regularization Parameter (Darker=High)\",\n",
    ")\n",
    "axs[0, 0].scatter(\n",
    "    y=one_hot1.fairness_metric, x=one_hot1.auc_tot, s=100, label=\"One Hot Encoder\"\n",
    ")\n",
    "axs[0,0].legend()\n",
    "axs[0, 1].set_title(\"Logistic Regression + Smoothing Regularizer\")\n",
    "axs[0, 1].scatter(\n",
    "    smooth1[\"auc_tot\"].values,\n",
    "    smooth1[\"fairness_metric\"].values,\n",
    "    s=100,\n",
    "    c=smooth1.index.values,\n",
    "    cmap=\"Reds\",\n",
    "    label=\"Regularization Parameter (Darker=High)\",\n",
    ")\n",
    "axs[0, 1].scatter(\n",
    "    y=one_hot1.fairness_metric, x=one_hot1.auc_tot, s=100, label=\"One Hot Encoder\"\n",
    ")\n",
    "\n",
    "## DT\n",
    "axs[1, 0].set_title(\"Decision Tree + Gaussian Noise\")\n",
    "axs[1, 0].set(ylabel=\"Equal opportunity fairness (TPR)\")\n",
    "axs[1, 0].scatter(\n",
    "    gaus2[\"auc_tot\"].values,\n",
    "    gaus2[\"fairness_metric\"].values,\n",
    "    s=100,\n",
    "    c=gaus2.index.values,\n",
    "    cmap=\"Reds\",\n",
    "    label=\"Regularization Parameter (Darker=High)\",\n",
    ")\n",
    "axs[1, 0].scatter(\n",
    "    y=one_hot2.fairness_metric, x=one_hot2.auc_tot, s=100, label=\"One Hot Encoder\"\n",
    ")\n",
    "\n",
    "axs[1, 1].set_title(\"Decision Tree + Smoothing Regularizer\")\n",
    "axs[1, 1].scatter(\n",
    "    smooth2[\"auc_tot\"].values,\n",
    "    smooth2[\"fairness_metric\"].values,\n",
    "    s=100,\n",
    "    c=smooth2.index.values,\n",
    "    cmap=\"Reds\",\n",
    "    label=\"Regularization Parameter (Darker=High)\",\n",
    ")\n",
    "axs[1, 1].scatter(\n",
    "    y=one_hot2.fairness_metric, x=one_hot2.auc_tot, s=100, label=\"One Hot Encoder\"\n",
    ")\n",
    "\n",
    "# GBDT\n",
    "axs[2, 0].set_title(\"Gradient Boosting + Gaussian Noise\")\n",
    "axs[2, 0].set(xlabel=\"AUC\")\n",
    "axs[2, 0].scatter(\n",
    "    gaus3[\"auc_tot\"].values,\n",
    "    gaus3[\"fairness_metric\"].values,\n",
    "    s=100,\n",
    "    c=gaus3.index.values,\n",
    "    cmap=\"Reds\",\n",
    "    label=\"Regularization Parameter (Darker=High)\",\n",
    ")\n",
    "axs[2, 0].scatter(\n",
    "    y=one_hot3.fairness_metric, x=one_hot3.auc_tot, s=100, label=\"One Hot Encoder\"\n",
    ")\n",
    "\n",
    "axs[2, 1].set_title(\"Gradient Boosting + Smoothing Regularizer\")\n",
    "axs[2, 1].set(xlabel=\"AUC\")\n",
    "axs[2, 1].scatter(\n",
    "    smooth3[\"auc_tot\"].values,\n",
    "    smooth3[\"fairness_metric\"].values,\n",
    "    s=100,\n",
    "    c=smooth3.index.values,\n",
    "    cmap=\"Reds\",\n",
    "    label=\"Regularization Parameter (Darker=High)\",\n",
    ")\n",
    "axs[2, 1].scatter(\n",
    "    y=one_hot3.fairness_metric, x=one_hot3.auc_tot, s=100, label=\"One Hot Encoder\"\n",
    ")\n",
    "fig.savefig('images/encCompa1image.eps',format='eps')\n",
    "fig.show()"
   ]
  },
  {
   "cell_type": "markdown",
   "id": "db1cd9fe",
   "metadata": {},
   "source": [
    "# Time evaluation"
   ]
  },
  {
   "cell_type": "markdown",
   "id": "c11bc090",
   "metadata": {},
   "source": [
    "## Logistic"
   ]
  },
  {
   "cell_type": "code",
   "execution_count": null,
   "id": "4ff232b7",
   "metadata": {},
   "outputs": [],
   "source": [
    "fast = Pipeline([('enc',MEstimateEncoder()),('model',LogisticRegression())])"
   ]
  },
  {
   "cell_type": "code",
   "execution_count": null,
   "id": "a9c59237",
   "metadata": {
    "scrolled": true
   },
   "outputs": [],
   "source": [
    "%%timeit -n 10\n",
    "fast.fit(X,y)\n"
   ]
  },
  {
   "cell_type": "code",
   "execution_count": null,
   "id": "bf1ac22b",
   "metadata": {},
   "outputs": [],
   "source": [
    "fast = Pipeline([('enc',CatBoostEncoder()),('model',LogisticRegression())])\n"
   ]
  },
  {
   "cell_type": "code",
   "execution_count": null,
   "id": "87e1747e",
   "metadata": {},
   "outputs": [],
   "source": [
    "%%timeit -n 10\n",
    "fast.fit(X,y)"
   ]
  },
  {
   "cell_type": "code",
   "execution_count": null,
   "id": "5d35d509",
   "metadata": {},
   "outputs": [],
   "source": [
    "fast = Pipeline([('enc',OneHotEncoder()),('model',LogisticRegression())])\n"
   ]
  },
  {
   "cell_type": "code",
   "execution_count": null,
   "id": "ca24549b",
   "metadata": {},
   "outputs": [],
   "source": [
    "%%timeit -n 10\n",
    "fast.fit(X,y)"
   ]
  },
  {
   "cell_type": "code",
   "execution_count": null,
   "id": "d110f562",
   "metadata": {},
   "outputs": [],
   "source": [
    "fast = Pipeline([('enc',LeaveOneOutEncoder(sigma=1)),('model',LogisticRegression())])"
   ]
  },
  {
   "cell_type": "code",
   "execution_count": null,
   "id": "8389abd7",
   "metadata": {},
   "outputs": [],
   "source": [
    "%%timeit -n 10\n",
    "fast.fit(X,y)"
   ]
  },
  {
   "cell_type": "markdown",
   "id": "c91fbbbb",
   "metadata": {},
   "source": [
    "## Decision Tree"
   ]
  },
  {
   "cell_type": "code",
   "execution_count": null,
   "id": "ecc3ff6f",
   "metadata": {},
   "outputs": [],
   "source": [
    "fast = Pipeline([('enc',MEstimateEncoder()),('model',DecisionTreeClassifier())])"
   ]
  },
  {
   "cell_type": "code",
   "execution_count": null,
   "id": "321bf148",
   "metadata": {
    "scrolled": true
   },
   "outputs": [],
   "source": [
    "%%timeit -n 10\n",
    "fast.fit(X,y)\n"
   ]
  },
  {
   "cell_type": "code",
   "execution_count": null,
   "id": "b54b2ef3",
   "metadata": {},
   "outputs": [],
   "source": [
    "fast = Pipeline([('enc',CatBoostEncoder()),('model',DecisionTreeClassifier())])\n"
   ]
  },
  {
   "cell_type": "code",
   "execution_count": null,
   "id": "bb9cd9a1",
   "metadata": {},
   "outputs": [],
   "source": [
    "%%timeit -n 10\n",
    "fast.fit(X,y)"
   ]
  },
  {
   "cell_type": "code",
   "execution_count": null,
   "id": "007e4807",
   "metadata": {},
   "outputs": [],
   "source": [
    "fast = Pipeline([('enc',OneHotEncoder()),('model',DecisionTreeClassifier())])\n"
   ]
  },
  {
   "cell_type": "code",
   "execution_count": null,
   "id": "ceb40d76",
   "metadata": {},
   "outputs": [],
   "source": [
    "%%timeit -n 10\n",
    "fast.fit(X,y)"
   ]
  },
  {
   "cell_type": "code",
   "execution_count": null,
   "id": "f71a7ed4",
   "metadata": {},
   "outputs": [],
   "source": [
    "fast = Pipeline([('enc',LeaveOneOutEncoder(sigma=1)),('model',DecisionTreeClassifier())])"
   ]
  },
  {
   "cell_type": "code",
   "execution_count": null,
   "id": "444194a3",
   "metadata": {},
   "outputs": [],
   "source": [
    "%%timeit -n 10\n",
    "fast.fit(X,y)"
   ]
  },
  {
   "cell_type": "markdown",
   "id": "fffd13be",
   "metadata": {},
   "source": [
    "## GBDT"
   ]
  },
  {
   "cell_type": "code",
   "execution_count": null,
   "id": "56e9fc30",
   "metadata": {},
   "outputs": [],
   "source": [
    "fast = Pipeline([('enc',MEstimateEncoder()),('model',GradientBoostingClassifier())])"
   ]
  },
  {
   "cell_type": "code",
   "execution_count": null,
   "id": "5cb80d83",
   "metadata": {
    "scrolled": true
   },
   "outputs": [],
   "source": [
    "%%timeit -n 10\n",
    "fast.fit(X,y)\n"
   ]
  },
  {
   "cell_type": "code",
   "execution_count": null,
   "id": "ff87eeb2",
   "metadata": {},
   "outputs": [],
   "source": [
    "fast = Pipeline([('enc',CatBoostEncoder()),('model',GradientBoostingClassifier())])\n"
   ]
  },
  {
   "cell_type": "code",
   "execution_count": null,
   "id": "f43d9dad",
   "metadata": {},
   "outputs": [],
   "source": [
    "%%timeit -n 10\n",
    "fast.fit(X,y)"
   ]
  },
  {
   "cell_type": "code",
   "execution_count": null,
   "id": "d8492d0d",
   "metadata": {},
   "outputs": [],
   "source": [
    "fast = Pipeline([('enc',OneHotEncoder()),('model',GradientBoostingClassifier())])\n"
   ]
  },
  {
   "cell_type": "code",
   "execution_count": null,
   "id": "30bc2ab3",
   "metadata": {},
   "outputs": [],
   "source": [
    "%%timeit -n 10\n",
    "fast.fit(X,y)"
   ]
  },
  {
   "cell_type": "code",
   "execution_count": null,
   "id": "9b798995",
   "metadata": {},
   "outputs": [],
   "source": [
    "fast = Pipeline([('enc',LeaveOneOutEncoder(sigma=1)),('model',GradientBoostingClassifier())])\n"
   ]
  },
  {
   "cell_type": "code",
   "execution_count": null,
   "id": "3b46a97d",
   "metadata": {},
   "outputs": [],
   "source": [
    "%%timeit -n 10\n",
    "fast.fit(X,y)"
   ]
  },
  {
   "cell_type": "code",
   "execution_count": null,
   "id": "25417790",
   "metadata": {},
   "outputs": [],
   "source": []
  }
 ],
 "metadata": {
  "kernelspec": {
   "display_name": "quantile",
   "language": "python",
   "name": "quantile"
  },
  "language_info": {
   "codemirror_mode": {
    "name": "ipython",
    "version": 3
   },
   "file_extension": ".py",
   "mimetype": "text/x-python",
   "name": "python",
   "nbconvert_exporter": "python",
   "pygments_lexer": "ipython3",
   "version": "3.9.7"
  }
 },
 "nbformat": 4,
 "nbformat_minor": 5
}
