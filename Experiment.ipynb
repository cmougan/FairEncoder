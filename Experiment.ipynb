{
 "cells": [
  {
   "cell_type": "code",
   "execution_count": 103,
   "id": "eae22df6",
   "metadata": {},
   "outputs": [],
   "source": [
    "import pandas as pd\n",
    "pd.set_option('display.max_columns', None)\n",
    "import numpy as np\n",
    "import matplotlib.pyplot as plt\n",
    "plt.style.use('seaborn-white')\n",
    "#from pandas_profiling import ProfileReportofileReport\n",
    "\n",
    "import warnings\n",
    "warnings.filterwarnings('ignore')"
   ]
  },
  {
   "cell_type": "code",
   "execution_count": 104,
   "id": "1512bb96",
   "metadata": {},
   "outputs": [],
   "source": [
    "from fairlearn.metrics import MetricFrame\n",
    "\n",
    "from sklearn.metrics import accuracy_score\n",
    "from sklearn.pipeline import Pipeline\n",
    "from sklearn.linear_model import LogisticRegression,Lasso\n",
    "from sklearn.preprocessing import LabelEncoder\n",
    "from sklearn.metrics import accuracy_score,precision_score,recall_score\n",
    "from sklearn.model_selection import train_test_split\n",
    "from sklearn.svm import SVC\n",
    "from sklearn.ensemble import RandomForestClassifier,GradientBoostingClassifier\n",
    "\n",
    "\n",
    "from category_encoders.target_encoder import TargetEncoder\n",
    "from category_encoders.m_estimate import MEstimateEncoder\n",
    "\n",
    "from tqdm.notebook import tqdm"
   ]
  },
  {
   "cell_type": "code",
   "execution_count": 105,
   "id": "2e1cfe99",
   "metadata": {
    "scrolled": false
   },
   "outputs": [],
   "source": [
    "#pd.read_csv('propublica_data_for_fairml.csv').head()"
   ]
  },
  {
   "cell_type": "code",
   "execution_count": 106,
   "id": "c83bdffc",
   "metadata": {},
   "outputs": [],
   "source": [
    "df = pd.read_csv(\"compas-scores-raw.csv\")\n",
    "\n",
    "df[\"Score\"] = df[\"DecileScore\"]\n",
    "\n",
    "#df.loc[df[\"DecileScore\"] > 7, \"Score\"] = 2\n",
    "#df.loc[(df[\"DecileScore\"] > 4) & (df[\"DecileScore\"] < 8), \"Score\"] = 1\n",
    "#df.loc[df[\"DecileScore\"] < 5, \"Score\"] = 0\n",
    "\n",
    "df.loc[df[\"DecileScore\"] > 4, \"Score\"] = 1\n",
    "df.loc[df[\"DecileScore\"] <= 4, \"Score\"] = 0\n",
    "\n",
    "\n",
    "cols = [\n",
    "    \"Person_ID\",\n",
    "    \"AssessmentID\",\n",
    "    \"Case_ID\",\n",
    "    \"LastName\",\n",
    "    \"FirstName\",\n",
    "    \"MiddleName\",\n",
    "    \"DateOfBirth\",\n",
    "    \"ScaleSet_ID\",\n",
    "    \"Screening_Date\",\n",
    "    \"RecSupervisionLevel\",\n",
    "    \"Agency_Text\",\n",
    "    \"AssessmentReason\",\n",
    "    \"Language\",\n",
    "    \"Scale_ID\",\n",
    "    \"IsCompleted\",\n",
    "    \"IsDeleted\",\n",
    "    \"AssessmentType\",\n",
    "    \"DecileScore\",\n",
    "]\n",
    "\n",
    "df = df.drop(columns=cols)\n",
    "\n",
    "possible_targets = [\"RawScore\", \"ScoreText\",'Score']\n",
    "\n",
    "X = df.drop(columns=possible_targets)\n",
    "y = df[['Score']]"
   ]
  },
  {
   "cell_type": "code",
   "execution_count": 107,
   "id": "4436fa79",
   "metadata": {},
   "outputs": [],
   "source": [
    "X_tr, X_te, y_tr, y_te = train_test_split(X, y, test_size=0.33, random_state=42)"
   ]
  },
  {
   "cell_type": "code",
   "execution_count": null,
   "id": "8ddb4394",
   "metadata": {},
   "outputs": [],
   "source": []
  },
  {
   "cell_type": "code",
   "execution_count": null,
   "id": "6b7ee132",
   "metadata": {},
   "outputs": [],
   "source": []
  },
  {
   "cell_type": "code",
   "execution_count": 108,
   "id": "17b0bffe",
   "metadata": {
    "scrolled": true
   },
   "outputs": [],
   "source": [
    "te = TargetEncoder()\n",
    "model = LogisticRegression()\n",
    "pipe = Pipeline([('encoder', te), ('model', model)])\n",
    "\n",
    "pipe.fit(X_tr,y_tr)\n",
    "\n",
    "preds = pipe.predict(X_te)"
   ]
  },
  {
   "cell_type": "code",
   "execution_count": 109,
   "id": "dc623bc2",
   "metadata": {
    "scrolled": true
   },
   "outputs": [
    {
     "name": "stdout",
     "output_type": "stream",
     "text": [
      "0.82892574331391\n",
      "Sex_Code_Text\n",
      "Female    0.849897\n",
      "Male      0.823114\n",
      "Name: accuracy_score, dtype: object\n"
     ]
    }
   ],
   "source": [
    "gm = MetricFrame(metrics=accuracy_score, y_true=y_te, y_pred=preds, sensitive_features=X_te['Sex_Code_Text'])\n",
    "print(gm.overall)\n",
    "\n",
    "print(gm.by_group)"
   ]
  },
  {
   "cell_type": "code",
   "execution_count": null,
   "id": "6086a9b8",
   "metadata": {},
   "outputs": [],
   "source": []
  },
  {
   "cell_type": "code",
   "execution_count": 110,
   "id": "0c8c8887",
   "metadata": {},
   "outputs": [],
   "source": [
    "def fit_predict(modelo, enc, data, target, test):\n",
    "    pipe = Pipeline([(\"encoder\", enc), (\"model\", modelo)])\n",
    "    pipe.fit(data, target)\n",
    "    return pipe.predict(test)"
   ]
  },
  {
   "cell_type": "code",
   "execution_count": null,
   "id": "c2861887",
   "metadata": {},
   "outputs": [],
   "source": []
  },
  {
   "cell_type": "code",
   "execution_count": null,
   "id": "59264956",
   "metadata": {},
   "outputs": [
    {
     "data": {
      "application/vnd.jupyter.widget-view+json": {
       "model_id": "ed4dcc672cc04701916a51cd468bc287",
       "version_major": 2,
       "version_minor": 0
      },
      "text/plain": [
       "  0%|          | 0/11 [00:00<?, ?it/s]"
      ]
     },
     "metadata": {},
     "output_type": "display_data"
    }
   ],
   "source": [
    "gms = []\n",
    "ms = []\n",
    "for m in tqdm(np.linspace(0,100,11)):\n",
    "    encoder = MEstimateEncoder(m=m)\n",
    "    model = GradientBoostingClassifier()\n",
    "\n",
    "    preds = fit_predict(\n",
    "        modelo=model, enc=encoder, data=X_tr, target=y_tr, test=X_te\n",
    "    )\n",
    "    gm = MetricFrame(\n",
    "        metrics=accuracy_score,\n",
    "        y_true=y_te,\n",
    "        y_pred=preds,\n",
    "        sensitive_features=X_te['Ethnic_Code_Text'],\n",
    "    )\n",
    "    gms.append(gm)\n",
    "    ms.append(m)\n",
    "    \n"
   ]
  },
  {
   "cell_type": "code",
   "execution_count": null,
   "id": "2e27fe4a",
   "metadata": {},
   "outputs": [],
   "source": [
    "plt.figure()\n",
    "plt.plot([gm.by_group['Caucasian'] for gm in gms],label='Caucasian')\n",
    "plt.plot([gm.by_group['African-Am'] for gm in gms],label='AfricanAm')\n",
    "plt.plot([gm.by_group['African-American'] for gm in gms],label='AfricanAmerican')\n",
    "plt.plot([gm.by_group['Arabic'] for gm in gms],label='Arabic')\n",
    "plt.plot([gm.by_group['Hispanic'] for gm in gms],label='Hispanic')\n",
    "plt.plot([gm.by_group['Oriental'] for gm in gms],label='Oriental')\n",
    "plt.legend(bbox_to_anchor=(1.1, 1.05))\n",
    "plt.show()"
   ]
  },
  {
   "cell_type": "markdown",
   "id": "9f46c319",
   "metadata": {},
   "source": [
    "# Other Data"
   ]
  },
  {
   "cell_type": "code",
   "execution_count": null,
   "id": "35f8f97e",
   "metadata": {},
   "outputs": [],
   "source": [
    "import numpy as np\n",
    "import pandas as pd\n",
    "import matplotlib.pyplot as plt\n",
    "from sklearn.datasets import fetch_openml\n",
    "data = fetch_openml(data_id=1590, as_frame=True)\n",
    "X = pd.get_dummies(data.data)\n",
    "y_true = (data.target == '>50K') * 1\n",
    "sex = data.data['sex']\n",
    "sex.value_counts()"
   ]
  },
  {
   "cell_type": "code",
   "execution_count": null,
   "id": "d5c871d3",
   "metadata": {},
   "outputs": [],
   "source": [
    "from fairlearn.metrics import MetricFrame\n",
    "from sklearn.metrics import accuracy_score\n",
    "from sklearn.tree import DecisionTreeClassifier"
   ]
  },
  {
   "cell_type": "code",
   "execution_count": null,
   "id": "87c4846a",
   "metadata": {},
   "outputs": [],
   "source": [
    "classifier = DecisionTreeClassifier(min_samples_leaf=10, max_depth=4)\n",
    "classifier.fit(X, y_true)\n",
    "DecisionTreeClassifier()\n",
    "y_pred = classifier.predict(X)\n",
    "gm = MetricFrame(metrics=accuracy_score, y_true=y_true, y_pred=y_pred, sensitive_features=sex)"
   ]
  },
  {
   "cell_type": "code",
   "execution_count": null,
   "id": "843b6bd5",
   "metadata": {},
   "outputs": [],
   "source": [
    "data.data['sex']"
   ]
  },
  {
   "cell_type": "code",
   "execution_count": null,
   "id": "d7699d21",
   "metadata": {},
   "outputs": [],
   "source": []
  }
 ],
 "metadata": {
  "kernelspec": {
   "display_name": "superhero",
   "language": "python",
   "name": "superhero"
  },
  "language_info": {
   "codemirror_mode": {
    "name": "ipython",
    "version": 3
   },
   "file_extension": ".py",
   "mimetype": "text/x-python",
   "name": "python",
   "nbconvert_exporter": "python",
   "pygments_lexer": "ipython3",
   "version": "3.7.10"
  }
 },
 "nbformat": 4,
 "nbformat_minor": 5
}
